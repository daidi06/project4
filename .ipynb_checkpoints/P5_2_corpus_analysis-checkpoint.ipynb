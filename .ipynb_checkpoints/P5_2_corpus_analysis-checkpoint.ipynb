{
 "cells": [
  {
   "cell_type": "markdown",
   "metadata": {},
   "source": [
    "<h1>Sommaire<span class=\"tocSkip\"></span></h1>\n",
    "<div class=\"toc\"><ul class=\"toc-item\"><li><span><a href=\"#Import-du-corpus\" data-toc-modified-id=\"Import-du-corpus-1\"><span class=\"toc-item-num\">1&nbsp;&nbsp;</span>Import du corpus</a></span></li><li><span><a href=\"#Séparation-définitive-train-/-val-/-test-set\" data-toc-modified-id=\"Séparation-définitive-train-/-val-/-test-set-2\"><span class=\"toc-item-num\">2&nbsp;&nbsp;</span>Séparation définitive train / val / test set</a></span></li><li><span><a href=\"#Analyse-du-corpus-(train-set)\" data-toc-modified-id=\"Analyse-du-corpus-(train-set)-3\"><span class=\"toc-item-num\">3&nbsp;&nbsp;</span>Analyse du corpus (train set)</a></span><ul class=\"toc-item\"><li><span><a href=\"#Tags\" data-toc-modified-id=\"Tags-3.1\"><span class=\"toc-item-num\">3.1&nbsp;&nbsp;</span>Tags</a></span><ul class=\"toc-item\"><li><span><a href=\"#Suppression-des-tags-non-filtrés-du-val-set-et-du-test-set\" data-toc-modified-id=\"Suppression-des-tags-non-filtrés-du-val-set-et-du-test-set-3.1.1\"><span class=\"toc-item-num\">3.1.1&nbsp;&nbsp;</span>Suppression des tags non filtrés du val set et du test set</a></span></li><li><span><a href=\"#Suppression-des-posts-sans-tags-du-val-set-et-du-test-set\" data-toc-modified-id=\"Suppression-des-posts-sans-tags-du-val-set-et-du-test-set-3.1.2\"><span class=\"toc-item-num\">3.1.2&nbsp;&nbsp;</span>Suppression des posts sans tags du val set et du test set</a></span></li></ul></li><li><span><a href=\"#Post\" data-toc-modified-id=\"Post-3.2\"><span class=\"toc-item-num\">3.2&nbsp;&nbsp;</span>Post</a></span><ul class=\"toc-item\"><li><span><a href=\"#Corpus-adapté-doc2vec\" data-toc-modified-id=\"Corpus-adapté-doc2vec-3.2.1\"><span class=\"toc-item-num\">3.2.1&nbsp;&nbsp;</span>Corpus adapté doc2vec</a></span></li><li><span><a href=\"#Corpus-adapté-Seq2Seq\" data-toc-modified-id=\"Corpus-adapté-Seq2Seq-3.2.2\"><span class=\"toc-item-num\">3.2.2&nbsp;&nbsp;</span>Corpus adapté Seq2Seq</a></span></li></ul></li><li><span><a href=\"#Sauvegarde-corpus-filtré\" data-toc-modified-id=\"Sauvegarde-corpus-filtré-3.3\"><span class=\"toc-item-num\">3.3&nbsp;&nbsp;</span>Sauvegarde corpus filtré</a></span></li></ul></li><li><span><a href=\"#Longueur-des-documents-des-corpus\" data-toc-modified-id=\"Longueur-des-documents-des-corpus-4\"><span class=\"toc-item-num\">4&nbsp;&nbsp;</span>Longueur des documents des corpus</a></span></li><li><span><a href=\"#Occurences-Post-/-Tags\" data-toc-modified-id=\"Occurences-Post-/-Tags-5\"><span class=\"toc-item-num\">5&nbsp;&nbsp;</span>Occurences Post / Tags</a></span><ul class=\"toc-item\"><li><span><a href=\"#Construction-matrice-des-occurences\" data-toc-modified-id=\"Construction-matrice-des-occurences-5.1\"><span class=\"toc-item-num\">5.1&nbsp;&nbsp;</span>Construction matrice des occurences</a></span></li><li><span><a href=\"#Utilisation-matrice-des-occurences\" data-toc-modified-id=\"Utilisation-matrice-des-occurences-5.2\"><span class=\"toc-item-num\">5.2&nbsp;&nbsp;</span>Utilisation matrice des occurences</a></span></li><li><span><a href=\"#Essai-rapide-de-faisabilité-prédiction-(Softmax)\" data-toc-modified-id=\"Essai-rapide-de-faisabilité-prédiction-(Softmax)-5.3\"><span class=\"toc-item-num\">5.3&nbsp;&nbsp;</span>Essai rapide de faisabilité prédiction (Softmax)</a></span></li></ul></li></ul></div>"
   ]
  },
  {
   "cell_type": "code",
   "execution_count": 1,
   "metadata": {},
   "outputs": [],
   "source": [
    "import os\n",
    "import pandas as pd\n",
    "import glob\n",
    "import numpy as np\n",
    "import pickle\n",
    "import pickle5\n",
    "import matplotlib.pyplot as plt\n",
    "\n",
    "from collections import defaultdict\n",
    "from sklearn.decomposition import LatentDirichletAllocation\n",
    "from sklearn.model_selection import train_test_split\n",
    "from gensim import corpora\n",
    "from gensim import matutils\n",
    "\n",
    "import seaborn as sns\n",
    "sns.set()\n",
    "sns.set_style(\"white\")\n",
    "\n",
    "#  %xdel var : détruit variable et libère la mémoire"
   ]
  },
  {
   "cell_type": "markdown",
   "metadata": {},
   "source": [
    "# Import du corpus"
   ]
  },
  {
   "cell_type": "code",
   "execution_count": 2,
   "metadata": {},
   "outputs": [
    {
     "name": "stdout",
     "output_type": "stream",
     "text": [
      "Notre jeu de données comporte 199995 de lignes et 5 de colonnes\n"
     ]
    }
   ],
   "source": [
    "#read the pickle file\n",
    "picklefile = open('PickleData/corpus.pkl', 'rb')\n",
    "#unpickle the dataframe\n",
    "df_data = pickle5.load(picklefile)\n",
    "#close file\n",
    "picklefile.close()\n",
    "\n",
    "print(\"Notre jeu de données comporte {} de lignes et {} de colonnes\".format(df_data.shape[0], df_data.shape[1]))"
   ]
  },
  {
   "cell_type": "code",
   "execution_count": 3,
   "metadata": {},
   "outputs": [
    {
     "data": {
      "text/html": [
       "<div>\n",
       "<style scoped>\n",
       "    .dataframe tbody tr th:only-of-type {\n",
       "        vertical-align: middle;\n",
       "    }\n",
       "\n",
       "    .dataframe tbody tr th {\n",
       "        vertical-align: top;\n",
       "    }\n",
       "\n",
       "    .dataframe thead th {\n",
       "        text-align: right;\n",
       "    }\n",
       "</style>\n",
       "<table border=\"1\" class=\"dataframe\">\n",
       "  <thead>\n",
       "    <tr style=\"text-align: right;\">\n",
       "      <th></th>\n",
       "      <th>Title</th>\n",
       "      <th>Body</th>\n",
       "      <th>Tags</th>\n",
       "      <th>Text</th>\n",
       "      <th>raw</th>\n",
       "    </tr>\n",
       "  </thead>\n",
       "  <tbody>\n",
       "    <tr>\n",
       "      <th>337049</th>\n",
       "      <td>How do I make a shrinkable scrollbar?</td>\n",
       "      <td>&lt;p&gt;&lt;strong&gt;What I want:&lt;/strong&gt;  &lt;/p&gt;\\n\\n&lt;pre...</td>\n",
       "      <td>[html, css, scrollbars]</td>\n",
       "      <td>[make, shrinkable, scrollbar, want, notice, sh...</td>\n",
       "      <td>how do i make a shrinkable scrollbar what i wa...</td>\n",
       "    </tr>\n",
       "    <tr>\n",
       "      <th>478707</th>\n",
       "      <td>Do you prefer \"if (var)\" or \"if (var != 0)\"?</td>\n",
       "      <td>&lt;p&gt;I've been programming in C-derived language...</td>\n",
       "      <td>[c, perl, coding-style]</td>\n",
       "      <td>[prefer, var, var, -PRON-, have, program, cder...</td>\n",
       "      <td>do you prefer if  var  or if  var  0  ive been...</td>\n",
       "    </tr>\n",
       "    <tr>\n",
       "      <th>191651</th>\n",
       "      <td>SQL ServerReporting Services - Export report t...</td>\n",
       "      <td>&lt;p&gt;I have a report which has a document map fo...</td>\n",
       "      <td>[c#, asp.net, reporting-services]</td>\n",
       "      <td>[sql, serverreporte, services, export, report,...</td>\n",
       "      <td>sql serverreporting services  export report to...</td>\n",
       "    </tr>\n",
       "    <tr>\n",
       "      <th>228069</th>\n",
       "      <td>WIX: How can I register a new ISAPI Extension ...</td>\n",
       "      <td>&lt;p&gt;I've seen the &lt;a href=\"http://wix.sourcefor...</td>\n",
       "      <td>[installation, wix, windows-installer, isapi]</td>\n",
       "      <td>[wix, register, new, isapi, extension, script,...</td>\n",
       "      <td>wix how can i register a new isapi extension o...</td>\n",
       "    </tr>\n",
       "    <tr>\n",
       "      <th>26946</th>\n",
       "      <td>C# - Tetris clone - Can't get block to respond...</td>\n",
       "      <td>&lt;p&gt;I'm working on programming a Tetris game in...</td>\n",
       "      <td>[c#, keydown, arrow-keys]</td>\n",
       "      <td>[c, tetris, clone, can, not, get, block, respo...</td>\n",
       "      <td>c#  tetris clone  cant get block to respond pr...</td>\n",
       "    </tr>\n",
       "    <tr>\n",
       "      <th>427083</th>\n",
       "      <td>Auto-rotating views and UIDevice interface not...</td>\n",
       "      <td>&lt;p&gt;I have trouble with auto-rotating interface...</td>\n",
       "      <td>[iphone, ipad, uiviewcontroller]</td>\n",
       "      <td>[autorotate, view, uidevice, interface, notifi...</td>\n",
       "      <td>autorotating views and uidevice interface noti...</td>\n",
       "    </tr>\n",
       "    <tr>\n",
       "      <th>231319</th>\n",
       "      <td>how to set current user name in SharePoint?</td>\n",
       "      <td>&lt;p&gt;I am using SharePiont Server 2007 Enterpris...</td>\n",
       "      <td>[c#, asp.net, .net, visual-studio-2008, sharep...</td>\n",
       "      <td>[set, current, user, name, sharepoint, use, sh...</td>\n",
       "      <td>how to set current user name in sharepoint i a...</td>\n",
       "    </tr>\n",
       "    <tr>\n",
       "      <th>444393</th>\n",
       "      <td>Bidi associations and NHibernate mapping</td>\n",
       "      <td>&lt;p&gt;I have classes BidiParent and BidiChildList...</td>\n",
       "      <td>[c#, nhibernate, linq-to-nhibernate]</td>\n",
       "      <td>[bidi, association, nhibernate, mapping, class...</td>\n",
       "      <td>bidi associations and nhibernate mapping i hav...</td>\n",
       "    </tr>\n",
       "    <tr>\n",
       "      <th>464623</th>\n",
       "      <td>Textbox anchored to a form on all 4 sides not ...</td>\n",
       "      <td>&lt;p&gt;I'm running into a problem trying to anchor...</td>\n",
       "      <td>[visual-studio-2005, user-controls, .net-2.0, ...</td>\n",
       "      <td>[textbox, anchor, form, side, display, properl...</td>\n",
       "      <td>textbox anchored to a form on all 4 sides not ...</td>\n",
       "    </tr>\n",
       "    <tr>\n",
       "      <th>454863</th>\n",
       "      <td>Gridview sorting challenge when moving from Wi...</td>\n",
       "      <td>&lt;p&gt;I have a problem with Gridview sorting that...</td>\n",
       "      <td>[asp.net, vb.net, gridview]</td>\n",
       "      <td>[gridview, sort, challenge, move, winform, asp...</td>\n",
       "      <td>gridview sorting challenge when moving from wi...</td>\n",
       "    </tr>\n",
       "  </tbody>\n",
       "</table>\n",
       "</div>"
      ],
      "text/plain": [
       "                                                    Title  \\\n",
       "337049              How do I make a shrinkable scrollbar?   \n",
       "478707       Do you prefer \"if (var)\" or \"if (var != 0)\"?   \n",
       "191651  SQL ServerReporting Services - Export report t...   \n",
       "228069  WIX: How can I register a new ISAPI Extension ...   \n",
       "26946   C# - Tetris clone - Can't get block to respond...   \n",
       "427083  Auto-rotating views and UIDevice interface not...   \n",
       "231319        how to set current user name in SharePoint?   \n",
       "444393           Bidi associations and NHibernate mapping   \n",
       "464623  Textbox anchored to a form on all 4 sides not ...   \n",
       "454863  Gridview sorting challenge when moving from Wi...   \n",
       "\n",
       "                                                     Body  \\\n",
       "337049  <p><strong>What I want:</strong>  </p>\\n\\n<pre...   \n",
       "478707  <p>I've been programming in C-derived language...   \n",
       "191651  <p>I have a report which has a document map fo...   \n",
       "228069  <p>I've seen the <a href=\"http://wix.sourcefor...   \n",
       "26946   <p>I'm working on programming a Tetris game in...   \n",
       "427083  <p>I have trouble with auto-rotating interface...   \n",
       "231319  <p>I am using SharePiont Server 2007 Enterpris...   \n",
       "444393  <p>I have classes BidiParent and BidiChildList...   \n",
       "464623  <p>I'm running into a problem trying to anchor...   \n",
       "454863  <p>I have a problem with Gridview sorting that...   \n",
       "\n",
       "                                                     Tags  \\\n",
       "337049                            [html, css, scrollbars]   \n",
       "478707                            [c, perl, coding-style]   \n",
       "191651                  [c#, asp.net, reporting-services]   \n",
       "228069      [installation, wix, windows-installer, isapi]   \n",
       "26946                           [c#, keydown, arrow-keys]   \n",
       "427083                   [iphone, ipad, uiviewcontroller]   \n",
       "231319  [c#, asp.net, .net, visual-studio-2008, sharep...   \n",
       "444393               [c#, nhibernate, linq-to-nhibernate]   \n",
       "464623  [visual-studio-2005, user-controls, .net-2.0, ...   \n",
       "454863                        [asp.net, vb.net, gridview]   \n",
       "\n",
       "                                                     Text  \\\n",
       "337049  [make, shrinkable, scrollbar, want, notice, sh...   \n",
       "478707  [prefer, var, var, -PRON-, have, program, cder...   \n",
       "191651  [sql, serverreporte, services, export, report,...   \n",
       "228069  [wix, register, new, isapi, extension, script,...   \n",
       "26946   [c, tetris, clone, can, not, get, block, respo...   \n",
       "427083  [autorotate, view, uidevice, interface, notifi...   \n",
       "231319  [set, current, user, name, sharepoint, use, sh...   \n",
       "444393  [bidi, association, nhibernate, mapping, class...   \n",
       "464623  [textbox, anchor, form, side, display, properl...   \n",
       "454863  [gridview, sort, challenge, move, winform, asp...   \n",
       "\n",
       "                                                      raw  \n",
       "337049  how do i make a shrinkable scrollbar what i wa...  \n",
       "478707  do you prefer if  var  or if  var  0  ive been...  \n",
       "191651  sql serverreporting services  export report to...  \n",
       "228069  wix how can i register a new isapi extension o...  \n",
       "26946   c#  tetris clone  cant get block to respond pr...  \n",
       "427083  autorotating views and uidevice interface noti...  \n",
       "231319  how to set current user name in sharepoint i a...  \n",
       "444393  bidi associations and nhibernate mapping i hav...  \n",
       "464623  textbox anchored to a form on all 4 sides not ...  \n",
       "454863  gridview sorting challenge when moving from wi...  "
      ]
     },
     "execution_count": 3,
     "metadata": {},
     "output_type": "execute_result"
    }
   ],
   "source": [
    "#Les 10 premières lignes de notre jeux de données\n",
    "df_data.head(10)"
   ]
  },
  {
   "cell_type": "markdown",
   "metadata": {},
   "source": [
    "# Séparation définitive train / val / test set"
   ]
  },
  {
   "cell_type": "markdown",
   "metadata": {},
   "source": [
    "Nous allons scinder notre jeu de données en 60% pour le training set, 20% pour le testing set et enfin 20% pour le validation set."
   ]
  },
  {
   "cell_type": "code",
   "execution_count": 4,
   "metadata": {},
   "outputs": [],
   "source": [
    "# X_train 60%\n",
    "X_train, X_temp, Y_train, Y_temp = train_test_split(\n",
    "    df_data[['raw', 'Text']],\n",
    "    df_data[['Tags']],\n",
    "    test_size=0.4,\n",
    "    shuffle=True,\n",
    "    random_state=1)"
   ]
  },
  {
   "cell_type": "code",
   "execution_count": 5,
   "metadata": {},
   "outputs": [],
   "source": [
    "# X_val 20%, X_test 20%\n",
    "X_val, X_test, Y_val, Y_test = train_test_split(\n",
    "    X_temp,\n",
    "    Y_temp,\n",
    "    test_size=0.5,\n",
    "    shuffle=True,\n",
    "    random_state=1)\n",
    "%xdel X_temp\n",
    "%xdel Y_temp"
   ]
  },
  {
   "cell_type": "code",
   "execution_count": 6,
   "metadata": {},
   "outputs": [
    {
     "name": "stdout",
     "output_type": "stream",
     "text": [
      "La base de données Train comporte 119997 et 2 colonnes\n",
      "La base de données Val comporte 39999 et 2 colonnes\n",
      "La base de données Test comporte 39999 et 2 colonnes\n"
     ]
    }
   ],
   "source": [
    "print('La base de données Train comporte {} et {} colonnes'.format(X_train.shape[0], X_train.shape[1]))\n",
    "print('La base de données Val comporte {} et {} colonnes'.format(X_val.shape[0], X_val.shape[1]))\n",
    "print('La base de données Test comporte {} et {} colonnes'.format(X_test.shape[0], X_test.shape[1]))"
   ]
  },
  {
   "cell_type": "code",
   "execution_count": 7,
   "metadata": {},
   "outputs": [],
   "source": [
    "# Savegardons nos jeux de données sur notre ordinateur local\n",
    "X_train.to_pickle('train/X_train.pkl')\n",
    "Y_train.to_pickle('train/Y_train.pkl')\n",
    "X_val.to_pickle('val/X_val.pkl')\n",
    "Y_val.to_pickle('val/Y_val.pkl')\n",
    "X_test.to_pickle('test/X_test.pkl')\n",
    "Y_test.to_pickle('test/Y_test.pkl')"
   ]
  },
  {
   "cell_type": "markdown",
   "metadata": {},
   "source": [
    "# Analyse du corpus (train set)"
   ]
  },
  {
   "cell_type": "markdown",
   "metadata": {},
   "source": [
    "A partir de ce point, l'ensemble du travail effectué sur le corpus (analyse, tri) est réalisé uniquement sur le train set afin d'éviter une fuite de données."
   ]
  },
  {
   "cell_type": "code",
   "execution_count": 8,
   "metadata": {},
   "outputs": [],
   "source": [
    "# Classe pour manipuler facilement un corpus gensim\n",
    "class MyCorpus(object):\n",
    "    def __init__(self, df_text):\n",
    "        self.df_text = df_text\n",
    "        self.dictionary = corpora.Dictionary(self.df_text.values)\n",
    "        token_freq = {self.dictionary[key]: (value, self.dictionary.dfs[key])\n",
    "                      for key, value in self.dictionary.cfs.items()}\n",
    "        self.df_freq = pd.DataFrame.from_dict(\n",
    "            token_freq, orient='index', columns=['cfs', 'dfs'])\n",
    "        self.df_freq = self.df_freq.sort_values(by='cfs', ascending=False)\n",
    "        self.df_filter_freq = self.df_freq.copy()\n",
    "        self.tokens = [token for token in self.dictionary.values()]\n",
    "        print('Dictionnaire créé : {} mots'.format(len(self.dictionary)))\n",
    "\n",
    "    def filter_dict(self, no_below=1, no_above=1., keep_n=None):\n",
    "        self.dictionary.filter_extremes(\n",
    "            no_below=no_below, no_above=no_above, keep_n=keep_n)\n",
    "        self.tokens = [token for token in self.dictionary.values()]\n",
    "        self.df_filter_freq = self.df_freq.loc[self.tokens].sort_values(\n",
    "            by='cfs', ascending=False)\n",
    "        print('Dictionnaire filtré : {} mots'.format(len(self.dictionary)))\n",
    "\n",
    "    def get_bow(self):\n",
    "        return [self.dictionary.doc2bow(text) for text in self.df_text.values]\n",
    "\n",
    "    def get_low_freq(self, count):\n",
    "        print('\\nTokens les moins fréquents :')\n",
    "        print(list(self.df_filter_freq.tail(count).index.values))\n",
    "\n",
    "    def get_words(self):\n",
    "        return self.tokens\n",
    "\n",
    "    def plot_freq(self, count):\n",
    "        df_freq_to_plot = self.df_filter_freq.head(count)\n",
    "        ind = np.arange(df_freq_to_plot.shape[0])\n",
    "        width = 0.35\n",
    "        plt.figure(figsize=(15, 8))\n",
    "        plt.bar(ind-width/2, df_freq_to_plot['cfs'], width, color='g',\n",
    "                label='cfs : occurence du token parmi tous les documents')\n",
    "        plt.bar(ind+width/2, df_freq_to_plot['dfs'], width, color='b',\n",
    "                label='dfs : nombre de documents contenant le token')\n",
    "        plt.xlabel('Tokens ')\n",
    "        plt.xticks(ind, df_freq_to_plot.index.values, rotation=90)\n",
    "        plt.ylabel('Occurence')\n",
    "        plt.title('{} tokens les plus fréquents (cfs)'.format(count))\n",
    "        plt.legend()\n",
    "\n",
    "    def get_frequency(self):\n",
    "        return self.df_filter_freq\n",
    "\n",
    "    def get_corpus(self):\n",
    "        return self.df_text.apply(self.__extract_token_from_text)\n",
    "\n",
    "    def __extract_token_from_text(self, text):\n",
    "        words = [x for x in text if x in self.tokens]\n",
    "        return words\n",
    "\n",
    "    def __iter__(self):\n",
    "        for _, words in self.df_text.items():\n",
    "            yield self.dictionary.doc2bow(words)"
   ]
  },
  {
   "cell_type": "markdown",
   "metadata": {},
   "source": [
    "## Tags"
   ]
  },
  {
   "cell_type": "code",
   "execution_count": 9,
   "metadata": {},
   "outputs": [
    {
     "name": "stdout",
     "output_type": "stream",
     "text": [
      "Dictionnaire créé : 13866 mots\n"
     ]
    },
    {
     "data": {
      "image/png": "[encoded data removed]",
      "text/plain": [
       "<Figure size 1080x576 with 1 Axes>"
      ]
     },
     "metadata": {},
     "output_type": "display_data"
    }
   ],
   "source": [
    "tags_corpus = MyCorpus(Y_train['Tags'])\n",
    "tags_corpus.plot_freq(50)"
   ]
  },
  {
   "cell_type": "markdown",
   "metadata": {},
   "source": [
    "Le nombre de tags total est de 13866. Ce qui est très élevé.  Afin de pouvoir réaliser un algorithme de prédiction efficace, le nombre de tags va être réduit arbitrairement à 100."
   ]
  },
  {
   "cell_type": "code",
   "execution_count": 10,
   "metadata": {},
   "outputs": [
    {
     "name": "stdout",
     "output_type": "stream",
     "text": [
      "Dictionnaire filtré : 100 mots\n",
      "Tags à prédire : \n",
      "-----------------\n",
      "['database', 'forms', 'html', 'php', 'c++', 'string', 'arrays', 'c', 'python', 'swing', 'user-interface', 'hibernate', 'java', 'android', 'oracle', 'sql', 'c#', 'perl', 'actionscript-3', 'apache-flex', 'events', 'iphone', 'objective-c', 'ruby', 'ruby-on-rails', '.net', 'wcf', 'performance', 'linux', 'spring', 'javascript', 'visual-studio-2008', 'sql-server', 'cocoa-touch', 'caching', 'django', 'jquery', 'asp.net', 'entity-framework', 'vb.net', 'version-control', 'visual-c++', 'asp.net-mvc', 'validation', 'regex', 'windows', 'winforms', 'http', 'web-services', 'design-patterns', 'sql-server-2005', 'git', 'security', 'tsql', 'apache', 'file', 'macos', 'sharepoint', 'mysql', 'css', 'language-agnostic', 'image', 'visual-studio', 'sql-server-2008', 'internet-explorer', 'multithreading', 'database-design', 'debugging', 'ajax', 'generics', 'wpf', 'winapi', 'excel', 'unix', 'oop', 'nhibernate', 'linq', 'linq-to-sql', 'cocoa', 'algorithm', 'eclipse', 'xcode', 'svn', 'flash', 'xaml', 'unit-testing', 'iis', 'data-binding', 'installation', 'silverlight', 'vba', 'exception', 'sockets', 'parsing', 'json', 'delphi', 'xml', 'ms-access', 'bash', 'email']\n"
     ]
    }
   ],
   "source": [
    "tags_corpus.filter_dict(keep_n=100)\n",
    "print('Tags à prédire : \\n-----------------')\n",
    "print(tags_corpus.get_words())"
   ]
  },
  {
   "cell_type": "code",
   "execution_count": 11,
   "metadata": {},
   "outputs": [
    {
     "data": {
      "text/html": [
       "<div>\n",
       "<style scoped>\n",
       "    .dataframe tbody tr th:only-of-type {\n",
       "        vertical-align: middle;\n",
       "    }\n",
       "\n",
       "    .dataframe tbody tr th {\n",
       "        vertical-align: top;\n",
       "    }\n",
       "\n",
       "    .dataframe thead th {\n",
       "        text-align: right;\n",
       "    }\n",
       "</style>\n",
       "<table border=\"1\" class=\"dataframe\">\n",
       "  <thead>\n",
       "    <tr style=\"text-align: right;\">\n",
       "      <th></th>\n",
       "      <th>Tags</th>\n",
       "      <th>tags_filtered</th>\n",
       "    </tr>\n",
       "  </thead>\n",
       "  <tbody>\n",
       "    <tr>\n",
       "      <th>195918</th>\n",
       "      <td>[html, database, forms, cookies]</td>\n",
       "      <td>[html, database, forms]</td>\n",
       "    </tr>\n",
       "    <tr>\n",
       "      <th>371461</th>\n",
       "      <td>[gwt, guava]</td>\n",
       "      <td>[]</td>\n",
       "    </tr>\n",
       "    <tr>\n",
       "      <th>495592</th>\n",
       "      <td>[php, development-environment]</td>\n",
       "      <td>[php]</td>\n",
       "    </tr>\n",
       "    <tr>\n",
       "      <th>451531</th>\n",
       "      <td>[c++, string]</td>\n",
       "      <td>[c++, string]</td>\n",
       "    </tr>\n",
       "    <tr>\n",
       "      <th>385306</th>\n",
       "      <td>[assembly, x86, nasm]</td>\n",
       "      <td>[]</td>\n",
       "    </tr>\n",
       "    <tr>\n",
       "      <th>542821</th>\n",
       "      <td>[c, arrays, pointers]</td>\n",
       "      <td>[c, arrays]</td>\n",
       "    </tr>\n",
       "    <tr>\n",
       "      <th>549984</th>\n",
       "      <td>[python, librsvg, rsvg]</td>\n",
       "      <td>[python]</td>\n",
       "    </tr>\n",
       "    <tr>\n",
       "      <th>177132</th>\n",
       "      <td>[user-interface, swing, scala]</td>\n",
       "      <td>[user-interface, swing]</td>\n",
       "    </tr>\n",
       "    <tr>\n",
       "      <th>247434</th>\n",
       "      <td>[spring-webflow]</td>\n",
       "      <td>[]</td>\n",
       "    </tr>\n",
       "    <tr>\n",
       "      <th>277326</th>\n",
       "      <td>[python, visualization, graphviz, pydot]</td>\n",
       "      <td>[python]</td>\n",
       "    </tr>\n",
       "  </tbody>\n",
       "</table>\n",
       "</div>"
      ],
      "text/plain": [
       "                                            Tags            tags_filtered\n",
       "195918          [html, database, forms, cookies]  [html, database, forms]\n",
       "371461                              [gwt, guava]                       []\n",
       "495592            [php, development-environment]                    [php]\n",
       "451531                             [c++, string]            [c++, string]\n",
       "385306                     [assembly, x86, nasm]                       []\n",
       "542821                     [c, arrays, pointers]              [c, arrays]\n",
       "549984                   [python, librsvg, rsvg]                 [python]\n",
       "177132            [user-interface, swing, scala]  [user-interface, swing]\n",
       "247434                          [spring-webflow]                       []\n",
       "277326  [python, visualization, graphviz, pydot]                 [python]"
      ]
     },
     "execution_count": 11,
     "metadata": {},
     "output_type": "execute_result"
    }
   ],
   "source": [
    "Y_train['tags_filtered'] = tags_corpus.get_corpus()\n",
    "Y_train.head(10)"
   ]
  },
  {
   "cell_type": "code",
   "execution_count": 12,
   "metadata": {},
   "outputs": [],
   "source": [
    "# save tokens\n",
    "tokens = pd.Series(tags_corpus.dictionary.id2token).sort_index()\n",
    "with open('PickleData/tokens_tags_filtered.pkl', 'wb') as f:\n",
    "    pickle.dump(tokens, f, pickle.HIGHEST_PROTOCOL)\n",
    "\n",
    "# free tags_corpus\n",
    "%xdel tags_corpus"
   ]
  },
  {
   "cell_type": "markdown",
   "metadata": {},
   "source": [
    "### Suppression des tags non filtrés du val set et du test set"
   ]
  },
  {
   "cell_type": "code",
   "execution_count": 13,
   "metadata": {},
   "outputs": [],
   "source": [
    "set_tokens_to_keep = set(tokens)\n",
    "\n",
    "def remove_tags(tags):\n",
    "    return list(set(tags) & set_tokens_to_keep)"
   ]
  },
  {
   "cell_type": "code",
   "execution_count": 14,
   "metadata": {},
   "outputs": [],
   "source": [
    "# Val set\n",
    "Y_val['tags_filtered'] = Y_val['Tags'].apply(remove_tags)\n",
    "#print(Y_val.head())"
   ]
  },
  {
   "cell_type": "code",
   "execution_count": 15,
   "metadata": {},
   "outputs": [],
   "source": [
    "# Test set\n",
    "Y_test['tags_filtered'] = Y_test['Tags'].apply(remove_tags)\n",
    "#print(Y_test.head())"
   ]
  },
  {
   "cell_type": "markdown",
   "metadata": {},
   "source": [
    "### Suppression des posts sans tags du val set et du test set"
   ]
  },
  {
   "cell_type": "code",
   "execution_count": 16,
   "metadata": {
    "scrolled": true
   },
   "outputs": [
    {
     "name": "stdout",
     "output_type": "stream",
     "text": [
      "Train set :\n",
      "Nombre de post avant suppression : 119997\n",
      "Nombre de post supprimés : 16772\n",
      "Nombre de post restant : 103225\n",
      "\n",
      "Val set :\n",
      "Nombre de post avant suppression : 39999\n",
      "Nombre de post supprimés : 5522\n",
      "Nombre de post restant : 34477\n",
      "\n",
      "Test set :\n",
      "Nombre de post avant suppression : 39999\n",
      "Nombre de post supprimés : 5517\n",
      "Nombre de post restant : 34482\n"
     ]
    }
   ],
   "source": [
    "def drop_row_without_tags(df_X, df_Y):\n",
    "    print('Nombre de post avant suppression : {}'.format(df_X.shape[0]))\n",
    "    # drop row without tags\n",
    "    zeros_count = 0\n",
    "    index_to_drop = []\n",
    "\n",
    "    for index, row in df_Y.iterrows():\n",
    "        if len(row['tags_filtered']) == 0:\n",
    "            zeros_count += 1\n",
    "            index_to_drop.append(index)\n",
    "\n",
    "    tag = df_Y.drop(index=index_to_drop)\n",
    "    post = df_X.drop(index=index_to_drop)\n",
    "\n",
    "    print('Nombre de post supprimés : {}'.format(zeros_count))\n",
    "    print('Nombre de post restant : {}'.format(post.shape[0]))\n",
    "    \n",
    "    return post, tag\n",
    "\n",
    "\n",
    "print('Train set :')\n",
    "X_train, Y_train = drop_row_without_tags(X_train, Y_train)\n",
    "print()\n",
    "print('Val set :')\n",
    "X_val, Y_val = drop_row_without_tags(X_val, Y_val)\n",
    "print()\n",
    "print('Test set :')\n",
    "X_test, Y_test = drop_row_without_tags(X_test, Y_test)"
   ]
  },
  {
   "cell_type": "markdown",
   "metadata": {},
   "source": [
    "## Post"
   ]
  },
  {
   "cell_type": "code",
   "execution_count": 17,
   "metadata": {},
   "outputs": [
    {
     "name": "stdout",
     "output_type": "stream",
     "text": [
      "Dictionnaire créé : 238700 mots\n"
     ]
    }
   ],
   "source": [
    "post_corpus = MyCorpus(X_train['Text'])"
   ]
  },
  {
   "cell_type": "code",
   "execution_count": 18,
   "metadata": {},
   "outputs": [
    {
     "data": {
      "image/png": "[encoded data removed]",
      "text/plain": [
       "<Figure size 1080x576 with 1 Axes>"
      ]
     },
     "metadata": {},
     "output_type": "display_data"
    }
   ],
   "source": [
    "#Plot the first 50 tokens the most frequently seen in the corpus\n",
    "post_corpus.plot_freq(50)"
   ]
  },
  {
   "cell_type": "code",
   "execution_count": 19,
   "metadata": {},
   "outputs": [
    {
     "name": "stdout",
     "output_type": "stream",
     "text": [
      "\n",
      "Tokens les moins fréquents :\n",
      "['problementity', 'computerupdatethe', 'usany', 'lucidly', 'topof', 'placewidget', 'asexpecte', 'myselfwe', 'gitive', 'workingnotice', 'busyness', 'equivalentthankspete', 'pushviewcontrolleranotherviewcontroller', 'nowok', 'initwithbarbuttonsystemitemuibarbuttonsystemitemdone', 'selfnavigationcontrollernavigationitemrightbarbuttonitem', 'triplechecked', 'photostag', 'postschapter', 'thinkerror', 'fk_sitecontent_tagsphotos_sitecontent_photos', 'photosphotodetail', 'tagidha', 'googlefui', 'requestedthis', 'buttonpls', 'ieorshould', 'respectivly', 'methodsd', 'methodsb', 'loadpagestatefrompersistencemediumb', 'situatuion', 'sessionpagestatepersister', 'loadpagestatefrompersistencemedium', 'widgetsthe', 'widgetideally', 'backgroundbecause', 'validationhowever', 'codesub', 'cvalidate', 'validationworkercancelasync', 'onehundredth', 'validationworkerrunworkerasync', 'subit', 'cancelasync', 'isbusy', 'markthe', 'thisthanksalso', 'wilh', 'directorymany']\n"
     ]
    }
   ],
   "source": [
    "# The 50 tokens the least seen in the corpus\n",
    "post_corpus.get_low_freq(50)"
   ]
  },
  {
   "cell_type": "markdown",
   "metadata": {},
   "source": [
    "### Corpus adapté doc2vec\n",
    "\n",
    "Dans ce cas, on cherche à garder les tokens porteur de sens et éliminer les autres :\n",
    "- tokens trop fréquents dans les posts (présent dans au moins 1 post sur 10)\n",
    "- tokens presque jamais rencontrés (rencontrés moins de 50 fois dans l'ensemble des posts)"
   ]
  },
  {
   "cell_type": "code",
   "execution_count": 20,
   "metadata": {},
   "outputs": [
    {
     "name": "stdout",
     "output_type": "stream",
     "text": [
      "Dictionnaire filtré : 4187 mots\n"
     ]
    },
    {
     "data": {
      "image/png": "[encoded data removed]",
      "text/plain": [
       "<Figure size 1080x576 with 1 Axes>"
      ]
     },
     "metadata": {},
     "output_type": "display_data"
    }
   ],
   "source": [
    "post_corpus.filter_dict(no_below=50, no_above=0.1)  # 50 0.1\n",
    "post_corpus.plot_freq(50)"
   ]
  },
  {
   "cell_type": "code",
   "execution_count": 21,
   "metadata": {},
   "outputs": [
    {
     "name": "stdout",
     "output_type": "stream",
     "text": [
      "\n",
      "Tokens les moins fréquents :\n",
      "['sitei', 'thisplease', 'useri', 'isbut', 'onthe', 'applicationthank', 'managing', 'itcan', 'failing', 'asis', 'thisas', 'egi', 'finished', 'albeit', 'directoryi', 'created', 'etcis', 'accepted', 'sever', 'dive', 'disclaimer', 'examplethank', 'haveand', 'likeit', 'javai', 'etchow', 'noticed', 'exceptionthe', 'dothank', 'folderi', 'ideathank', 'suggestionsthank', 'wherein', 'alli', 'questionis', 'thisupdate', 'inputte', 'withbut', 'programi', 'thisa', 'throwing', 'sobut', 'aforementioned', 'modeli', 'objectthe', 'issuethank', 'pagehow', 'casei', 'errorthis', 'shown']\n"
     ]
    }
   ],
   "source": [
    "post_corpus.get_low_freq(50)"
   ]
  },
  {
   "cell_type": "code",
   "execution_count": 22,
   "metadata": {},
   "outputs": [
    {
     "data": {
      "text/html": [
       "<div>\n",
       "<style scoped>\n",
       "    .dataframe tbody tr th:only-of-type {\n",
       "        vertical-align: middle;\n",
       "    }\n",
       "\n",
       "    .dataframe tbody tr th {\n",
       "        vertical-align: top;\n",
       "    }\n",
       "\n",
       "    .dataframe thead th {\n",
       "        text-align: right;\n",
       "    }\n",
       "</style>\n",
       "<table border=\"1\" class=\"dataframe\">\n",
       "  <thead>\n",
       "    <tr style=\"text-align: right;\">\n",
       "      <th></th>\n",
       "      <th>raw</th>\n",
       "      <th>Text</th>\n",
       "      <th>text_small</th>\n",
       "    </tr>\n",
       "  </thead>\n",
       "  <tbody>\n",
       "    <tr>\n",
       "      <th>195918</th>\n",
       "      <td>how to store parts of formdata when theyre on ...</td>\n",
       "      <td>[store, part, formdata, -PRON-, be, separate, ...</td>\n",
       "      <td>[store, part, separate, page, whenever, prepar...</td>\n",
       "    </tr>\n",
       "    <tr>\n",
       "      <th>495592</th>\n",
       "      <td>which tools should no php web developer live w...</td>\n",
       "      <td>[tool, php, web, developer, live, without, lot...</td>\n",
       "      <td>[tool, php, web, developer, live, without, lot...</td>\n",
       "    </tr>\n",
       "    <tr>\n",
       "      <th>451531</th>\n",
       "      <td>long strings with newlines i have seen c# code...</td>\n",
       "      <td>[long, string, newline, see, c, code, use, tel...</td>\n",
       "      <td>[long, string, newline, tell, compiler, string...</td>\n",
       "    </tr>\n",
       "    <tr>\n",
       "      <th>542821</th>\n",
       "      <td>about character pointers in c consider this de...</td>\n",
       "      <td>[character, pointers, c, consider, definitiona...</td>\n",
       "      <td>[character, pointers, consider, point, area, m...</td>\n",
       "    </tr>\n",
       "    <tr>\n",
       "      <th>549984</th>\n",
       "      <td>how to install pythonrsvg without pythongnome2...</td>\n",
       "      <td>[install, pythonrsvg, without, pythongnome, de...</td>\n",
       "      <td>[install, without, desktop, ubuntu, support, p...</td>\n",
       "    </tr>\n",
       "  </tbody>\n",
       "</table>\n",
       "</div>"
      ],
      "text/plain": [
       "                                                      raw  \\\n",
       "195918  how to store parts of formdata when theyre on ...   \n",
       "495592  which tools should no php web developer live w...   \n",
       "451531  long strings with newlines i have seen c# code...   \n",
       "542821  about character pointers in c consider this de...   \n",
       "549984  how to install pythonrsvg without pythongnome2...   \n",
       "\n",
       "                                                     Text  \\\n",
       "195918  [store, part, formdata, -PRON-, be, separate, ...   \n",
       "495592  [tool, php, web, developer, live, without, lot...   \n",
       "451531  [long, string, newline, see, c, code, use, tel...   \n",
       "542821  [character, pointers, c, consider, definitiona...   \n",
       "549984  [install, pythonrsvg, without, pythongnome, de...   \n",
       "\n",
       "                                               text_small  \n",
       "195918  [store, part, separate, page, whenever, prepar...  \n",
       "495592  [tool, php, web, developer, live, without, lot...  \n",
       "451531  [long, string, newline, tell, compiler, string...  \n",
       "542821  [character, pointers, consider, point, area, m...  \n",
       "549984  [install, without, desktop, ubuntu, support, p...  "
      ]
     },
     "execution_count": 22,
     "metadata": {},
     "output_type": "execute_result"
    }
   ],
   "source": [
    "X_train['text_small'] = post_corpus.get_corpus()\n",
    "X_train.head()"
   ]
  },
  {
   "cell_type": "code",
   "execution_count": 23,
   "metadata": {},
   "outputs": [],
   "source": [
    "# save tokens\n",
    "bow = post_corpus.get_bow()\n",
    "with open('PickleData/bow_small.pkl', 'wb') as f:\n",
    "    pickle.dump(bow, f, pickle.HIGHEST_PROTOCOL)\n",
    "\n",
    "tokens = pd.Series(post_corpus.dictionary.id2token).sort_index()\n",
    "with open('PickleData/tokens_small.pkl', 'wb') as f:\n",
    "    pickle.dump(tokens, f, pickle.HIGHEST_PROTOCOL)\n",
    "\n",
    "# free post_corpus\n",
    "%xdel post_corpus"
   ]
  },
  {
   "cell_type": "markdown",
   "metadata": {},
   "source": [
    "### Corpus adapté Seq2Seq"
   ]
  },
  {
   "cell_type": "markdown",
   "metadata": {},
   "source": [
    "Dans ce cas, on cherche à conserver les relations entre les tokens composant le post. Il semble donc risquer d'éliminer les tokens rencontrés fréquemment : ils peuvent représenter des mots de liaisons ou des mots de négation indispensable à la compréhension du sens du post. A l'inverse, les tokens peu fréquents semblent pouvoir être éliminés.\n",
    "\n",
    "La détection de topics utilisera ce corpus."
   ]
  },
  {
   "cell_type": "code",
   "execution_count": 24,
   "metadata": {},
   "outputs": [
    {
     "name": "stdout",
     "output_type": "stream",
     "text": [
      "Dictionnaire créé : 238700 mots\n"
     ]
    }
   ],
   "source": [
    "post_corpus = MyCorpus(X_train['Text'])"
   ]
  },
  {
   "cell_type": "code",
   "execution_count": 25,
   "metadata": {},
   "outputs": [
    {
     "name": "stdout",
     "output_type": "stream",
     "text": [
      "Dictionnaire filtré : 7862 mots\n"
     ]
    },
    {
     "data": {
      "image/png": "[encoded data removed]",
      "text/plain": [
       "<Figure size 1080x576 with 1 Axes>"
      ]
     },
     "metadata": {},
     "output_type": "display_data"
    }
   ],
   "source": [
    "post_corpus.filter_dict(no_below=20)  # 20\n",
    "post_corpus.plot_freq(50)"
   ]
  },
  {
   "cell_type": "code",
   "execution_count": 26,
   "metadata": {},
   "outputs": [
    {
     "name": "stdout",
     "output_type": "stream",
     "text": [
      "\n",
      "Tokens les moins fréquents :\n",
      "['onehow', 'filesso', 'mehere', 'onewhat', 'fragile', 'resultthank', 'objecthow', 'sourcei', 'configured', 'haveis', 'examplehere', 'javascriptthe', 'javathe', 'itthere', 'reduction', 'withit', 'inis', 'thathow', 'dohow', 'thisyou', 'uncomfortable', 'responsethe', 'oneif', 'databasethank', 'welcomethanks', 'orderi', 'changesi', 'thisam', 'uninitialize', 'suboptimal', 'objectin', 'itselfthe', 'saved', 'diving', 'timesi', 'dosent', 'pageand', 'objecthere', 'searches', 'products', 'columnthe', 'itas', 'classes', 'pagewhat', 'testthe', 'alloc_init', 'fineso', 'classim', 'hereso', 'serverwhen']\n"
     ]
    }
   ],
   "source": [
    "post_corpus.get_low_freq(50)"
   ]
  },
  {
   "cell_type": "code",
   "execution_count": 27,
   "metadata": {},
   "outputs": [
    {
     "data": {
      "text/html": [
       "<div>\n",
       "<style scoped>\n",
       "    .dataframe tbody tr th:only-of-type {\n",
       "        vertical-align: middle;\n",
       "    }\n",
       "\n",
       "    .dataframe tbody tr th {\n",
       "        vertical-align: top;\n",
       "    }\n",
       "\n",
       "    .dataframe thead th {\n",
       "        text-align: right;\n",
       "    }\n",
       "</style>\n",
       "<table border=\"1\" class=\"dataframe\">\n",
       "  <thead>\n",
       "    <tr style=\"text-align: right;\">\n",
       "      <th></th>\n",
       "      <th>raw</th>\n",
       "      <th>Text</th>\n",
       "      <th>text_small</th>\n",
       "      <th>text_large</th>\n",
       "    </tr>\n",
       "  </thead>\n",
       "  <tbody>\n",
       "    <tr>\n",
       "      <th>195918</th>\n",
       "      <td>how to store parts of formdata when theyre on ...</td>\n",
       "      <td>[store, part, formdata, -PRON-, be, separate, ...</td>\n",
       "      <td>[store, part, separate, page, whenever, prepar...</td>\n",
       "      <td>[store, part, -PRON-, be, separate, page, when...</td>\n",
       "    </tr>\n",
       "    <tr>\n",
       "      <th>495592</th>\n",
       "      <td>which tools should no php web developer live w...</td>\n",
       "      <td>[tool, php, web, developer, live, without, lot...</td>\n",
       "      <td>[tool, php, web, developer, live, without, lot...</td>\n",
       "      <td>[tool, php, web, developer, live, without, lot...</td>\n",
       "    </tr>\n",
       "    <tr>\n",
       "      <th>451531</th>\n",
       "      <td>long strings with newlines i have seen c# code...</td>\n",
       "      <td>[long, string, newline, see, c, code, use, tel...</td>\n",
       "      <td>[long, string, newline, tell, compiler, string...</td>\n",
       "      <td>[long, string, newline, see, c, code, use, tel...</td>\n",
       "    </tr>\n",
       "    <tr>\n",
       "      <th>542821</th>\n",
       "      <td>about character pointers in c consider this de...</td>\n",
       "      <td>[character, pointers, c, consider, definitiona...</td>\n",
       "      <td>[character, pointers, consider, point, area, m...</td>\n",
       "      <td>[character, pointers, c, consider, see, point,...</td>\n",
       "    </tr>\n",
       "    <tr>\n",
       "      <th>549984</th>\n",
       "      <td>how to install pythonrsvg without pythongnome2...</td>\n",
       "      <td>[install, pythonrsvg, without, pythongnome, de...</td>\n",
       "      <td>[install, without, desktop, ubuntu, support, p...</td>\n",
       "      <td>[install, without, desktop, ubuntu, need, supp...</td>\n",
       "    </tr>\n",
       "  </tbody>\n",
       "</table>\n",
       "</div>"
      ],
      "text/plain": [
       "                                                      raw  \\\n",
       "195918  how to store parts of formdata when theyre on ...   \n",
       "495592  which tools should no php web developer live w...   \n",
       "451531  long strings with newlines i have seen c# code...   \n",
       "542821  about character pointers in c consider this de...   \n",
       "549984  how to install pythonrsvg without pythongnome2...   \n",
       "\n",
       "                                                     Text  \\\n",
       "195918  [store, part, formdata, -PRON-, be, separate, ...   \n",
       "495592  [tool, php, web, developer, live, without, lot...   \n",
       "451531  [long, string, newline, see, c, code, use, tel...   \n",
       "542821  [character, pointers, c, consider, definitiona...   \n",
       "549984  [install, pythonrsvg, without, pythongnome, de...   \n",
       "\n",
       "                                               text_small  \\\n",
       "195918  [store, part, separate, page, whenever, prepar...   \n",
       "495592  [tool, php, web, developer, live, without, lot...   \n",
       "451531  [long, string, newline, tell, compiler, string...   \n",
       "542821  [character, pointers, consider, point, area, m...   \n",
       "549984  [install, without, desktop, ubuntu, support, p...   \n",
       "\n",
       "                                               text_large  \n",
       "195918  [store, part, -PRON-, be, separate, page, when...  \n",
       "495592  [tool, php, web, developer, live, without, lot...  \n",
       "451531  [long, string, newline, see, c, code, use, tel...  \n",
       "542821  [character, pointers, c, consider, see, point,...  \n",
       "549984  [install, without, desktop, ubuntu, need, supp...  "
      ]
     },
     "execution_count": 27,
     "metadata": {},
     "output_type": "execute_result"
    }
   ],
   "source": [
    "X_train['text_large'] = post_corpus.get_corpus()\n",
    "X_train.head(5)"
   ]
  },
  {
   "cell_type": "code",
   "execution_count": 28,
   "metadata": {},
   "outputs": [],
   "source": [
    "# save tokens\n",
    "bow = post_corpus.get_bow()\n",
    "with open('PickleData/bow_large.pkl', 'wb') as f:\n",
    "    pickle.dump(bow, f, pickle.HIGHEST_PROTOCOL)\n",
    "\n",
    "tokens = pd.Series(post_corpus.dictionary.id2token).sort_index()\n",
    "with open('PickleData/tokens_large.pkl', 'wb') as f:\n",
    "    pickle.dump(tokens, f, pickle.HIGHEST_PROTOCOL)\n",
    "\n",
    "# free post_corpus\n",
    "%xdel post_corpus"
   ]
  },
  {
   "cell_type": "markdown",
   "metadata": {},
   "source": [
    "## Sauvegarde corpus filtré"
   ]
  },
  {
   "cell_type": "code",
   "execution_count": 29,
   "metadata": {},
   "outputs": [],
   "source": [
    "# save\n",
    "X_train.to_pickle('train/X_train_filtre.pkl')\n",
    "Y_train.to_pickle('train/Y_train_filtre.pkl')\n",
    "X_val.to_pickle('val/X_val_filtre.pkl')\n",
    "Y_val.to_pickle('val/Y_val_filtre.pkl')\n",
    "X_test.to_pickle('test/X_test_filtre.pkl')\n",
    "Y_test.to_pickle('test/Y_test_filtre.pkl')"
   ]
  },
  {
   "cell_type": "markdown",
   "metadata": {},
   "source": [
    "# Longueur des documents des corpus"
   ]
  },
  {
   "cell_type": "code",
   "execution_count": 30,
   "metadata": {},
   "outputs": [],
   "source": [
    "#read the pickle file\n",
    "picklefile = open('train/X_train_filtre.pkl', 'rb')\n",
    "#unpickle the dataframe\n",
    "post = pickle5.load(picklefile)\n",
    "#close file\n",
    "picklefile.close()\n",
    "\n",
    "#read the pickle file\n",
    "picklefile = open('train/Y_train_filtre.pkl', 'rb')\n",
    "#unpickle the dataframe\n",
    "tag = pickle5.load(picklefile)\n",
    "#close file\n",
    "picklefile.close()"
   ]
  },
  {
   "cell_type": "code",
   "execution_count": 31,
   "metadata": {},
   "outputs": [],
   "source": [
    "def plot_posts_length(df_corpus, corpus_names, bins=50):\n",
    "    plt.figure(figsize=(15, 4))\n",
    "    for i, corpus_name in enumerate(corpus_names):\n",
    "        count_len = [len(item) for _, item in df_corpus[corpus_name].items()]\n",
    "        plt.subplot(1, 3, i+1)\n",
    "        plt.hist(count_len, bins=bins)\n",
    "        plt.title('{}, max : {}'.format(corpus_name, max(count_len)))\n",
    "        if i == 0:\n",
    "            plt.ylabel('Nombre de posts')\n",
    "        plt.xlabel('Nombre de tokens')\n",
    "        plt.tight_layout()"
   ]
  },
  {
   "cell_type": "code",
   "execution_count": 32,
   "metadata": {},
   "outputs": [
    {
     "data": {
      "image/png": "[encoded data removed]",
      "text/plain": [
       "<Figure size 1080x288 with 3 Axes>"
      ]
     },
     "metadata": {},
     "output_type": "display_data"
    }
   ],
   "source": [
    "# posts length\n",
    "plot_posts_length(post, ['Text', 'text_small', 'text_large'])"
   ]
  },
  {
   "cell_type": "code",
   "execution_count": 33,
   "metadata": {},
   "outputs": [
    {
     "data": {
      "image/png": "[encoded data removed]",
      "text/plain": [
       "<Figure size 1080x288 with 2 Axes>"
      ]
     },
     "metadata": {},
     "output_type": "display_data"
    }
   ],
   "source": [
    "# tags length\n",
    "plot_posts_length(tag, ['Tags', 'tags_filtered'], bins=10)"
   ]
  },
  {
   "cell_type": "markdown",
   "metadata": {},
   "source": [
    "# Occurences Post / Tags"
   ]
  },
  {
   "cell_type": "markdown",
   "metadata": {},
   "source": [
    "## Construction matrice des occurences"
   ]
  },
  {
   "cell_type": "code",
   "execution_count": 34,
   "metadata": {},
   "outputs": [],
   "source": [
    "#read the pickle file\n",
    "picklefile = open('train/X_train_filtre.pkl', 'rb')\n",
    "#unpickle the dataframe\n",
    "X = pickle5.load(picklefile)\n",
    "#close file\n",
    "picklefile.close()\n",
    "\n",
    "#read the pickle file\n",
    "picklefile = open('train/Y_train_filtre.pkl', 'rb')\n",
    "#unpickle the dataframe\n",
    "Y = pickle5.load(picklefile)\n",
    "#close file\n",
    "picklefile.close()"
   ]
  },
  {
   "cell_type": "code",
   "execution_count": 35,
   "metadata": {},
   "outputs": [],
   "source": [
    "with open('PickleData/tokens_small.pkl', 'rb') as f:\n",
    "    tokens = pickle.load(f).values\n",
    "\n",
    "with open('PickleData/tokens_tags_filtered.pkl', 'rb') as f:\n",
    "    tags = pickle.load(f).values"
   ]
  },
  {
   "cell_type": "code",
   "execution_count": 36,
   "metadata": {},
   "outputs": [],
   "source": [
    "def build_token_tag_matrix(tokens, tags):\n",
    "    # matrice m : nb tokens * n : nb tags\n",
    "    matrix = np.zeros((len(tokens), len(tags)))\n",
    "    print('Token / Tag matrice créée : {}'.format(matrix.shape))\n",
    "    # parcours des tags\n",
    "    for tag in tags:\n",
    "        doc_index = []\n",
    "        i_tag = np.where(tags == tag)[0][0]\n",
    "        #print('tag en cours : {}, i_tag : {}'.format(tag, i_tag))\n",
    "        for tag_index, tag_doc in Y['tags_filtered'].items():\n",
    "            #print('tag_index : {}, tag_doc : {}'.format(tag_index, tag_doc))\n",
    "            if tag in tag_doc:\n",
    "                doc_index.append(tag_index)\n",
    "        #print('Index doc comportant tag {}: {}'.format(tag, doc_index))\n",
    "        for post_index in doc_index:\n",
    "            post = X['text_small'].loc[post_index]\n",
    "            # print('---------------------------')\n",
    "            # print(post)\n",
    "            for post_token in post:\n",
    "                i_token = np.where(tokens == post_token)[0][0]\n",
    "                matrix[i_token, i_tag] += 1\n",
    "    return matrix"
   ]
  },
  {
   "cell_type": "code",
   "execution_count": 37,
   "metadata": {},
   "outputs": [],
   "source": [
    "def get_tags_from_token(token):\n",
    "    # fournit les tags décrivant les documents contenant le token\n",
    "    i_token = np.where(tokens == token)[0].tolist()\n",
    "    if len(i_token) == 0:\n",
    "        print('Token non touvé')\n",
    "        return\n",
    "    bow_tags = token_tag_matrix[i_token, :][0].tolist()\n",
    "    tags_dict = {}\n",
    "    print('Tags pour le token \\'{}\\' (occurences)'.format(token, i_token))\n",
    "    print('10 premiers')\n",
    "    print('-----------------------------------')\n",
    "    for i_tags in range(0, len(tags)):\n",
    "        count_tags = bow_tags[i_tags]\n",
    "        if count_tags > 0:\n",
    "            tags_dict[tags[i_tags]] = int(count_tags)\n",
    "    return pd.Series(tags_dict).sort_values(ascending=False).head(10)"
   ]
  },
  {
   "cell_type": "code",
   "execution_count": 38,
   "metadata": {},
   "outputs": [],
   "source": [
    "def get_token_from_tags(tag):\n",
    "    # fournit les tokens présent dans les documents décrit par le tag\n",
    "    i_tag = np.where(tags == tag)[0].tolist()\n",
    "    if len(i_tag) == 0:\n",
    "        print('Tag non touvé')\n",
    "        return\n",
    "    bow_tokens = token_tag_matrix[:, i_tag].squeeze()\n",
    "    print('Tokens pour le tag \\'{}\\' (occurences)'.format(tag, i_tag))\n",
    "    print('10 premiers')\n",
    "    print('-----------------------------------')\n",
    "    tokens_dict = {}\n",
    "    for i_tokens in range(0, len(tokens)):\n",
    "        count_tokens = bow_tokens[i_tokens]\n",
    "        if count_tokens > 0:\n",
    "            tokens_dict[tokens[i_tokens]] = int(count_tokens)\n",
    "    return pd.Series(tokens_dict).sort_values(ascending=False).head(10)"
   ]
  },
  {
   "cell_type": "code",
   "execution_count": 39,
   "metadata": {},
   "outputs": [],
   "source": [
    "def show_matrix(tokens_slice, tags_slice):\n",
    "    mat = token_tag_matrix[tokens_slice, tags_slice]\n",
    "    tokens_sliced = tokens[tokens_slice]\n",
    "    tags_sliced = tags[tags_slice]\n",
    "    #ind = np.arange(df_freq_to_plot.shape[0])\n",
    "    #width = 0.35\n",
    "    matfig = plt.figure(figsize=(16, 16))\n",
    "    plt.matshow(mat, fignum=matfig.number)\n",
    "    plt.xlabel('Tags')\n",
    "    plt.xticks(range(0, len(tags_sliced)), tags_sliced, rotation=90)\n",
    "    plt.ylabel('Tokens')\n",
    "    plt.yticks(range(0, len(tokens_sliced)), tokens_sliced)\n",
    "    plt.colorbar()"
   ]
  },
  {
   "cell_type": "code",
   "execution_count": 40,
   "metadata": {},
   "outputs": [
    {
     "name": "stdout",
     "output_type": "stream",
     "text": [
      "Token / Tag matrice créée : (4187, 100)\n"
     ]
    }
   ],
   "source": [
    "token_tag_matrix = build_token_tag_matrix(tokens, tags)"
   ]
  },
  {
   "cell_type": "code",
   "execution_count": 41,
   "metadata": {},
   "outputs": [],
   "source": [
    "# save matrix\n",
    "np.save('matrix/token_tag_matrix.npy', token_tag_matrix)"
   ]
  },
  {
   "cell_type": "markdown",
   "metadata": {},
   "source": [
    "## Utilisation matrice des occurences"
   ]
  },
  {
   "cell_type": "code",
   "execution_count": 42,
   "metadata": {},
   "outputs": [
    {
     "name": "stdout",
     "output_type": "stream",
     "text": [
      "(4187, 100)\n"
     ]
    }
   ],
   "source": [
    "# load matrix\n",
    "token_tag_matrix = np.load('matrix/token_tag_matrix.npy')\n",
    "print(token_tag_matrix.shape)"
   ]
  },
  {
   "cell_type": "code",
   "execution_count": 43,
   "metadata": {},
   "outputs": [
    {
     "data": {
      "image/png": "[encoded data removed]",
      "text/plain": [
       "<Figure size 1152x1152 with 2 Axes>"
      ]
     },
     "metadata": {},
     "output_type": "display_data"
    }
   ],
   "source": [
    "show_matrix(slice(0, 20), slice(0, 20))"
   ]
  },
  {
   "cell_type": "code",
   "execution_count": 44,
   "metadata": {},
   "outputs": [
    {
     "name": "stdout",
     "output_type": "stream",
     "text": [
      "Tags pour le token 'python' (occurences)\n",
      "10 premiers\n",
      "-----------------------------------\n",
      "python            6290\n",
      "django             395\n",
      "windows            185\n",
      "c++                179\n",
      "java               178\n",
      "linux              174\n",
      "c                  151\n",
      "macos              150\n",
      "php                141\n",
      "multithreading     139\n",
      "dtype: int64\n"
     ]
    }
   ],
   "source": [
    "print(get_tags_from_token('python'))"
   ]
  },
  {
   "cell_type": "code",
   "execution_count": 45,
   "metadata": {},
   "outputs": [
    {
     "name": "stdout",
     "output_type": "stream",
     "text": [
      "Tokens pour le tag 'css' (occurences)\n",
      "10 premiers\n",
      "-----------------------------------\n",
      "css        2880\n",
      "div        1409\n",
      "ie         1308\n",
      "page       1235\n",
      "image      1202\n",
      "element     879\n",
      "html        831\n",
      "text        754\n",
      "style       655\n",
      "browser     620\n",
      "dtype: int64\n"
     ]
    }
   ],
   "source": [
    "print(get_token_from_tags('css'))"
   ]
  },
  {
   "cell_type": "markdown",
   "metadata": {},
   "source": [
    "## Essai rapide de faisabilité prédiction (Softmax)"
   ]
  },
  {
   "cell_type": "code",
   "execution_count": 46,
   "metadata": {},
   "outputs": [],
   "source": [
    "tok_dict = corpora.Dictionary(X['text_small'])\n",
    "tag_dict = corpora.Dictionary(Y['tags_filtered'])"
   ]
  },
  {
   "cell_type": "code",
   "execution_count": 47,
   "metadata": {},
   "outputs": [],
   "source": [
    "# divise par la somme de la ligne : évite Nan\n",
    "mat = np.divide(token_tag_matrix, np.sum(token_tag_matrix,\n",
    "                                         axis=1).reshape((token_tag_matrix.shape[0], 1)))\n",
    "# softmax appliqué sur les tags de chaque tokens\n",
    "mat = np.exp(mat) / (np.sum(np.exp(mat), axis=1)).reshape((mat.shape[0], 1))\n",
    "# divise par la somme de la colonne\n",
    "mat = np.divide(token_tag_matrix, np.sum(token_tag_matrix, axis=0))"
   ]
  },
  {
   "cell_type": "code",
   "execution_count": 48,
   "metadata": {},
   "outputs": [],
   "source": [
    "def test(num, mat):\n",
    "    x = []\n",
    "    y = []\n",
    "    pred = []\n",
    "    for i in range(num):\n",
    "        # post\n",
    "        post = X['text_small'].iloc[i]\n",
    "        x.append(post)\n",
    "        xbow = tok_dict.doc2bow((post))\n",
    "        xbow = matutils.sparse2full(xbow, len(tok_dict))\n",
    "        # prédiction\n",
    "        y_pred = np.matmul(xbow, mat)\n",
    "        tags_pred = tags[np.argsort(y_pred)[-3:]]\n",
    "        pred.append(tags_pred)\n",
    "        # ground truth\n",
    "        y.append(Y['tags_filtered'].iloc[i])\n",
    "    return pd.DataFrame({'post': x, 'tags': y, 'prédiction': pred})"
   ]
  },
  {
   "cell_type": "code",
   "execution_count": 49,
   "metadata": {},
   "outputs": [
    {
     "data": {
      "text/html": [
       "<div>\n",
       "<style scoped>\n",
       "    .dataframe tbody tr th:only-of-type {\n",
       "        vertical-align: middle;\n",
       "    }\n",
       "\n",
       "    .dataframe tbody tr th {\n",
       "        vertical-align: top;\n",
       "    }\n",
       "\n",
       "    .dataframe thead th {\n",
       "        text-align: right;\n",
       "    }\n",
       "</style>\n",
       "<table border=\"1\" class=\"dataframe\">\n",
       "  <thead>\n",
       "    <tr style=\"text-align: right;\">\n",
       "      <th></th>\n",
       "      <th>post</th>\n",
       "      <th>tags</th>\n",
       "      <th>prédiction</th>\n",
       "    </tr>\n",
       "  </thead>\n",
       "  <tbody>\n",
       "    <tr>\n",
       "      <th>0</th>\n",
       "      <td>[store, part, separate, page, whenever, prepar...</td>\n",
       "      <td>[html, database, forms]</td>\n",
       "      <td>[database, database-design, forms]</td>\n",
       "    </tr>\n",
       "    <tr>\n",
       "      <th>1</th>\n",
       "      <td>[tool, php, web, developer, live, without, lot...</td>\n",
       "      <td>[php]</td>\n",
       "      <td>[web-services, apache, php]</td>\n",
       "    </tr>\n",
       "    <tr>\n",
       "      <th>2</th>\n",
       "      <td>[long, string, newline, tell, compiler, string...</td>\n",
       "      <td>[c++, string]</td>\n",
       "      <td>[parsing, regex, string]</td>\n",
       "    </tr>\n",
       "    <tr>\n",
       "      <th>3</th>\n",
       "      <td>[character, pointers, consider, point, area, m...</td>\n",
       "      <td>[c, arrays]</td>\n",
       "      <td>[ms-access, regex, string]</td>\n",
       "    </tr>\n",
       "    <tr>\n",
       "      <th>4</th>\n",
       "      <td>[install, without, desktop, ubuntu, support, p...</td>\n",
       "      <td>[python]</td>\n",
       "      <td>[macos, python, installation]</td>\n",
       "    </tr>\n",
       "    <tr>\n",
       "      <th>5</th>\n",
       "      <td>[scala, swing, gui, read, part, programming, s...</td>\n",
       "      <td>[user-interface, swing]</td>\n",
       "      <td>[java, user-interface, swing]</td>\n",
       "    </tr>\n",
       "    <tr>\n",
       "      <th>6</th>\n",
       "      <td>[place, node, vertically, python, via, diagram...</td>\n",
       "      <td>[python]</td>\n",
       "      <td>[css, python, image]</td>\n",
       "    </tr>\n",
       "    <tr>\n",
       "      <th>7</th>\n",
       "      <td>[protection, flag, effect, sharing, process, p...</td>\n",
       "      <td>[c]</td>\n",
       "      <td>[winapi, linux, unix]</td>\n",
       "    </tr>\n",
       "    <tr>\n",
       "      <th>8</th>\n",
       "      <td>[relation, manytomany, attribute, excuse, poor...</td>\n",
       "      <td>[java, hibernate]</td>\n",
       "      <td>[nhibernate, database-design, string]</td>\n",
       "    </tr>\n",
       "    <tr>\n",
       "      <th>9</th>\n",
       "      <td>[detect, android, software, keyboard, hidden, ...</td>\n",
       "      <td>[java, android]</td>\n",
       "      <td>[iphone, cocoa-touch, android]</td>\n",
       "    </tr>\n",
       "    <tr>\n",
       "      <th>10</th>\n",
       "      <td>[system, design, db, connection, management, w...</td>\n",
       "      <td>[database]</td>\n",
       "      <td>[sql-server-2005, sql-server-2008, sockets]</td>\n",
       "    </tr>\n",
       "    <tr>\n",
       "      <th>11</th>\n",
       "      <td>[oracle, query, performance, followup, two, an...</td>\n",
       "      <td>[sql, oracle]</td>\n",
       "      <td>[sql, performance, oracle]</td>\n",
       "    </tr>\n",
       "    <tr>\n",
       "      <th>12</th>\n",
       "      <td>[broken, image, ssrs, report, render, difficul...</td>\n",
       "      <td>[c#]</td>\n",
       "      <td>[html, css, image]</td>\n",
       "    </tr>\n",
       "    <tr>\n",
       "      <th>13</th>\n",
       "      <td>[insert, hash, database, perls, dbi, module, i...</td>\n",
       "      <td>[perl]</td>\n",
       "      <td>[tsql, database, database-design]</td>\n",
       "    </tr>\n",
       "    <tr>\n",
       "      <th>14</th>\n",
       "      <td>[mark, obsolete, deprecate, mark, gnu, eclipse...</td>\n",
       "      <td>[c++]</td>\n",
       "      <td>[java, debugging, eclipse]</td>\n",
       "    </tr>\n",
       "    <tr>\n",
       "      <th>15</th>\n",
       "      <td>[face, weird, issue, piece, reason, first, sen...</td>\n",
       "      <td>[c]</td>\n",
       "      <td>[c, email, parsing]</td>\n",
       "    </tr>\n",
       "    <tr>\n",
       "      <th>16</th>\n",
       "      <td>[attach, property, event, flex, parameter, pas...</td>\n",
       "      <td>[apache-flex, actionscript-3, events]</td>\n",
       "      <td>[actionscript-3, apache-flex, events]</td>\n",
       "    </tr>\n",
       "    <tr>\n",
       "      <th>17</th>\n",
       "      <td>[properly, handle, iphone, app, currently, exp...</td>\n",
       "      <td>[iphone, objective-c]</td>\n",
       "      <td>[cocoa-touch, iphone, multithreading]</td>\n",
       "    </tr>\n",
       "    <tr>\n",
       "      <th>18</th>\n",
       "      <td>[action, rail, dropdown, select, chat, route, ...</td>\n",
       "      <td>[ruby-on-rails, ruby]</td>\n",
       "      <td>[asp.net-mvc, ruby, ruby-on-rails]</td>\n",
       "    </tr>\n",
       "    <tr>\n",
       "      <th>19</th>\n",
       "      <td>[wcf, win, k, either, support, wcf, win, k, le...</td>\n",
       "      <td>[.net, wcf]</td>\n",
       "      <td>[winapi, sql-server-2008, wcf]</td>\n",
       "    </tr>\n",
       "    <tr>\n",
       "      <th>20</th>\n",
       "      <td>[g, hey, connection, g, wifi, host, name, conn...</td>\n",
       "      <td>[iphone]</td>\n",
       "      <td>[email, oracle, sockets]</td>\n",
       "    </tr>\n",
       "    <tr>\n",
       "      <th>21</th>\n",
       "      <td>[measure, page, processing, serverside, web, p...</td>\n",
       "      <td>[performance]</td>\n",
       "      <td>[sql-server-2008, http, ajax]</td>\n",
       "    </tr>\n",
       "    <tr>\n",
       "      <th>22</th>\n",
       "      <td>[python, _, _, init, _, _, issue, _, _, init, ...</td>\n",
       "      <td>[python]</td>\n",
       "      <td>[algorithm, visual-c++, python]</td>\n",
       "    </tr>\n",
       "    <tr>\n",
       "      <th>23</th>\n",
       "      <td>[long, span, session, factory, project, web, t...</td>\n",
       "      <td>[linux, hibernate, spring]</td>\n",
       "      <td>[eclipse, database, spring]</td>\n",
       "    </tr>\n",
       "    <tr>\n",
       "      <th>24</th>\n",
       "      <td>[google, chart, show, right, datum, axis, mess...</td>\n",
       "      <td>[javascript]</td>\n",
       "      <td>[perl, excel, file]</td>\n",
       "    </tr>\n",
       "    <tr>\n",
       "      <th>25</th>\n",
       "      <td>[vs, encode, msbuild, exec, task, msbuild, exe...</td>\n",
       "      <td>[visual-studio-2008]</td>\n",
       "      <td>[sql-server, sql-server-2005, sql-server-2008]</td>\n",
       "    </tr>\n",
       "    <tr>\n",
       "      <th>26</th>\n",
       "      <td>[textfield, textfield, click, first, textfield...</td>\n",
       "      <td>[objective-c]</td>\n",
       "      <td>[swing, iphone, cocoa-touch]</td>\n",
       "    </tr>\n",
       "    <tr>\n",
       "      <th>27</th>\n",
       "      <td>[syntax, sql, sql, statement, eg, statement, c...</td>\n",
       "      <td>[sql-server]</td>\n",
       "      <td>[sql-server, sql-server-2005, sql-server-2008]</td>\n",
       "    </tr>\n",
       "    <tr>\n",
       "      <th>28</th>\n",
       "      <td>[setup, loads, setup, first, loads, correspond...</td>\n",
       "      <td>[iphone, cocoa-touch]</td>\n",
       "      <td>[iphone, asp.net-mvc, cocoa-touch]</td>\n",
       "    </tr>\n",
       "    <tr>\n",
       "      <th>29</th>\n",
       "      <td>[implement, previous, button, form, zend, fram...</td>\n",
       "      <td>[php]</td>\n",
       "      <td>[validation, winforms, forms]</td>\n",
       "    </tr>\n",
       "    <tr>\n",
       "      <th>30</th>\n",
       "      <td>[prevent, http, django, test, server, couple, ...</td>\n",
       "      <td>[django, caching]</td>\n",
       "      <td>[http, unit-testing, django]</td>\n",
       "    </tr>\n",
       "    <tr>\n",
       "      <th>31</th>\n",
       "      <td>[private, keyword, private, public, keyword, a...</td>\n",
       "      <td>[c]</td>\n",
       "      <td>[eclipse, swing, java]</td>\n",
       "    </tr>\n",
       "    <tr>\n",
       "      <th>32</th>\n",
       "      <td>[detect, memory, memory, particular, piece, fu...</td>\n",
       "      <td>[c]</td>\n",
       "      <td>[linux, c++, c]</td>\n",
       "    </tr>\n",
       "    <tr>\n",
       "      <th>33</th>\n",
       "      <td>[implement, advanced, combobox, cakephp, imple...</td>\n",
       "      <td>[php]</td>\n",
       "      <td>[winforms, validation, forms]</td>\n",
       "    </tr>\n",
       "    <tr>\n",
       "      <th>34</th>\n",
       "      <td>[javascript, html, space, snippet, js, html, s...</td>\n",
       "      <td>[html]</td>\n",
       "      <td>[javascript, html, image]</td>\n",
       "    </tr>\n",
       "    <tr>\n",
       "      <th>35</th>\n",
       "      <td>[xml, serialization, xml, structure, give, ser...</td>\n",
       "      <td>[c#]</td>\n",
       "      <td>[json, parsing, xml]</td>\n",
       "    </tr>\n",
       "    <tr>\n",
       "      <th>36</th>\n",
       "      <td>[custom, delay, jquery, cycle, dynamically, ti...</td>\n",
       "      <td>[jquery]</td>\n",
       "      <td>[javascript, ajax, jquery]</td>\n",
       "    </tr>\n",
       "    <tr>\n",
       "      <th>37</th>\n",
       "      <td>[properly, pool, iis, really, stuck, parser, e...</td>\n",
       "      <td>[asp.net]</td>\n",
       "      <td>[email, php, iis]</td>\n",
       "    </tr>\n",
       "    <tr>\n",
       "      <th>38</th>\n",
       "      <td>[require, package, evaluate, answer, error, th...</td>\n",
       "      <td>[linux]</td>\n",
       "      <td>[internet-explorer, validation, exception]</td>\n",
       "    </tr>\n",
       "    <tr>\n",
       "      <th>39</th>\n",
       "      <td>[database, independent, ef, linq, read, datum,...</td>\n",
       "      <td>[entity-framework]</td>\n",
       "      <td>[database, linq, string]</td>\n",
       "    </tr>\n",
       "    <tr>\n",
       "      <th>40</th>\n",
       "      <td>[reference, miss, checkin, vss, reference, dll...</td>\n",
       "      <td>[vb.net, visual-studio-2008, version-control]</td>\n",
       "      <td>[version-control, visual-studio-2008, visual-s...</td>\n",
       "    </tr>\n",
       "    <tr>\n",
       "      <th>41</th>\n",
       "      <td>[ms, vc, abort, x, error, compile, dll, take, ...</td>\n",
       "      <td>[visual-c++]</td>\n",
       "      <td>[xcode, exception, visual-c++]</td>\n",
       "    </tr>\n",
       "    <tr>\n",
       "      <th>42</th>\n",
       "      <td>[options, aspnet, mvc, validation, framework, ...</td>\n",
       "      <td>[asp.net-mvc, validation]</td>\n",
       "      <td>[asp.net, validation, asp.net-mvc]</td>\n",
       "    </tr>\n",
       "    <tr>\n",
       "      <th>43</th>\n",
       "      <td>[python, script, executable, host, provider, s...</td>\n",
       "      <td>[python]</td>\n",
       "      <td>[perl, bash, python]</td>\n",
       "    </tr>\n",
       "    <tr>\n",
       "      <th>44</th>\n",
       "      <td>[java, handful, tutorial, web, mostly, php, ja...</td>\n",
       "      <td>[java]</td>\n",
       "      <td>[php, web-services, java]</td>\n",
       "    </tr>\n",
       "    <tr>\n",
       "      <th>45</th>\n",
       "      <td>[splitting, result, hi, put, segment, last, ou...</td>\n",
       "      <td>[php, regex]</td>\n",
       "      <td>[bash, algorithm, tsql]</td>\n",
       "    </tr>\n",
       "    <tr>\n",
       "      <th>46</th>\n",
       "      <td>[database, initialization, script, vs, aka, al...</td>\n",
       "      <td>[database]</td>\n",
       "      <td>[database-design, database, tsql]</td>\n",
       "    </tr>\n",
       "    <tr>\n",
       "      <th>47</th>\n",
       "      <td>[open, form, window, function, close, exist, f...</td>\n",
       "      <td>[c#, windows, winforms]</td>\n",
       "      <td>[validation, winforms, forms]</td>\n",
       "    </tr>\n",
       "    <tr>\n",
       "      <th>48</th>\n",
       "      <td>[what, s, simple, http, request, perl, php, co...</td>\n",
       "      <td>[perl, web-services, http]</td>\n",
       "      <td>[php, http, perl]</td>\n",
       "    </tr>\n",
       "    <tr>\n",
       "      <th>49</th>\n",
       "      <td>[android, textview, timer, android, timer, mea...</td>\n",
       "      <td>[java, android]</td>\n",
       "      <td>[ajax, data-binding, android]</td>\n",
       "    </tr>\n",
       "  </tbody>\n",
       "</table>\n",
       "</div>"
      ],
      "text/plain": [
       "                                                 post  \\\n",
       "0   [store, part, separate, page, whenever, prepar...   \n",
       "1   [tool, php, web, developer, live, without, lot...   \n",
       "2   [long, string, newline, tell, compiler, string...   \n",
       "3   [character, pointers, consider, point, area, m...   \n",
       "4   [install, without, desktop, ubuntu, support, p...   \n",
       "5   [scala, swing, gui, read, part, programming, s...   \n",
       "6   [place, node, vertically, python, via, diagram...   \n",
       "7   [protection, flag, effect, sharing, process, p...   \n",
       "8   [relation, manytomany, attribute, excuse, poor...   \n",
       "9   [detect, android, software, keyboard, hidden, ...   \n",
       "10  [system, design, db, connection, management, w...   \n",
       "11  [oracle, query, performance, followup, two, an...   \n",
       "12  [broken, image, ssrs, report, render, difficul...   \n",
       "13  [insert, hash, database, perls, dbi, module, i...   \n",
       "14  [mark, obsolete, deprecate, mark, gnu, eclipse...   \n",
       "15  [face, weird, issue, piece, reason, first, sen...   \n",
       "16  [attach, property, event, flex, parameter, pas...   \n",
       "17  [properly, handle, iphone, app, currently, exp...   \n",
       "18  [action, rail, dropdown, select, chat, route, ...   \n",
       "19  [wcf, win, k, either, support, wcf, win, k, le...   \n",
       "20  [g, hey, connection, g, wifi, host, name, conn...   \n",
       "21  [measure, page, processing, serverside, web, p...   \n",
       "22  [python, _, _, init, _, _, issue, _, _, init, ...   \n",
       "23  [long, span, session, factory, project, web, t...   \n",
       "24  [google, chart, show, right, datum, axis, mess...   \n",
       "25  [vs, encode, msbuild, exec, task, msbuild, exe...   \n",
       "26  [textfield, textfield, click, first, textfield...   \n",
       "27  [syntax, sql, sql, statement, eg, statement, c...   \n",
       "28  [setup, loads, setup, first, loads, correspond...   \n",
       "29  [implement, previous, button, form, zend, fram...   \n",
       "30  [prevent, http, django, test, server, couple, ...   \n",
       "31  [private, keyword, private, public, keyword, a...   \n",
       "32  [detect, memory, memory, particular, piece, fu...   \n",
       "33  [implement, advanced, combobox, cakephp, imple...   \n",
       "34  [javascript, html, space, snippet, js, html, s...   \n",
       "35  [xml, serialization, xml, structure, give, ser...   \n",
       "36  [custom, delay, jquery, cycle, dynamically, ti...   \n",
       "37  [properly, pool, iis, really, stuck, parser, e...   \n",
       "38  [require, package, evaluate, answer, error, th...   \n",
       "39  [database, independent, ef, linq, read, datum,...   \n",
       "40  [reference, miss, checkin, vss, reference, dll...   \n",
       "41  [ms, vc, abort, x, error, compile, dll, take, ...   \n",
       "42  [options, aspnet, mvc, validation, framework, ...   \n",
       "43  [python, script, executable, host, provider, s...   \n",
       "44  [java, handful, tutorial, web, mostly, php, ja...   \n",
       "45  [splitting, result, hi, put, segment, last, ou...   \n",
       "46  [database, initialization, script, vs, aka, al...   \n",
       "47  [open, form, window, function, close, exist, f...   \n",
       "48  [what, s, simple, http, request, perl, php, co...   \n",
       "49  [android, textview, timer, android, timer, mea...   \n",
       "\n",
       "                                             tags  \\\n",
       "0                         [html, database, forms]   \n",
       "1                                           [php]   \n",
       "2                                   [c++, string]   \n",
       "3                                     [c, arrays]   \n",
       "4                                        [python]   \n",
       "5                         [user-interface, swing]   \n",
       "6                                        [python]   \n",
       "7                                             [c]   \n",
       "8                               [java, hibernate]   \n",
       "9                                 [java, android]   \n",
       "10                                     [database]   \n",
       "11                                  [sql, oracle]   \n",
       "12                                           [c#]   \n",
       "13                                         [perl]   \n",
       "14                                          [c++]   \n",
       "15                                            [c]   \n",
       "16          [apache-flex, actionscript-3, events]   \n",
       "17                          [iphone, objective-c]   \n",
       "18                          [ruby-on-rails, ruby]   \n",
       "19                                    [.net, wcf]   \n",
       "20                                       [iphone]   \n",
       "21                                  [performance]   \n",
       "22                                       [python]   \n",
       "23                     [linux, hibernate, spring]   \n",
       "24                                   [javascript]   \n",
       "25                           [visual-studio-2008]   \n",
       "26                                  [objective-c]   \n",
       "27                                   [sql-server]   \n",
       "28                          [iphone, cocoa-touch]   \n",
       "29                                          [php]   \n",
       "30                              [django, caching]   \n",
       "31                                            [c]   \n",
       "32                                            [c]   \n",
       "33                                          [php]   \n",
       "34                                         [html]   \n",
       "35                                           [c#]   \n",
       "36                                       [jquery]   \n",
       "37                                      [asp.net]   \n",
       "38                                        [linux]   \n",
       "39                             [entity-framework]   \n",
       "40  [vb.net, visual-studio-2008, version-control]   \n",
       "41                                   [visual-c++]   \n",
       "42                      [asp.net-mvc, validation]   \n",
       "43                                       [python]   \n",
       "44                                         [java]   \n",
       "45                                   [php, regex]   \n",
       "46                                     [database]   \n",
       "47                        [c#, windows, winforms]   \n",
       "48                     [perl, web-services, http]   \n",
       "49                                [java, android]   \n",
       "\n",
       "                                           prédiction  \n",
       "0                  [database, database-design, forms]  \n",
       "1                         [web-services, apache, php]  \n",
       "2                            [parsing, regex, string]  \n",
       "3                          [ms-access, regex, string]  \n",
       "4                       [macos, python, installation]  \n",
       "5                       [java, user-interface, swing]  \n",
       "6                                [css, python, image]  \n",
       "7                               [winapi, linux, unix]  \n",
       "8               [nhibernate, database-design, string]  \n",
       "9                      [iphone, cocoa-touch, android]  \n",
       "10        [sql-server-2005, sql-server-2008, sockets]  \n",
       "11                         [sql, performance, oracle]  \n",
       "12                                 [html, css, image]  \n",
       "13                  [tsql, database, database-design]  \n",
       "14                         [java, debugging, eclipse]  \n",
       "15                                [c, email, parsing]  \n",
       "16              [actionscript-3, apache-flex, events]  \n",
       "17              [cocoa-touch, iphone, multithreading]  \n",
       "18                 [asp.net-mvc, ruby, ruby-on-rails]  \n",
       "19                     [winapi, sql-server-2008, wcf]  \n",
       "20                           [email, oracle, sockets]  \n",
       "21                      [sql-server-2008, http, ajax]  \n",
       "22                    [algorithm, visual-c++, python]  \n",
       "23                        [eclipse, database, spring]  \n",
       "24                                [perl, excel, file]  \n",
       "25     [sql-server, sql-server-2005, sql-server-2008]  \n",
       "26                       [swing, iphone, cocoa-touch]  \n",
       "27     [sql-server, sql-server-2005, sql-server-2008]  \n",
       "28                 [iphone, asp.net-mvc, cocoa-touch]  \n",
       "29                      [validation, winforms, forms]  \n",
       "30                       [http, unit-testing, django]  \n",
       "31                             [eclipse, swing, java]  \n",
       "32                                    [linux, c++, c]  \n",
       "33                      [winforms, validation, forms]  \n",
       "34                          [javascript, html, image]  \n",
       "35                               [json, parsing, xml]  \n",
       "36                         [javascript, ajax, jquery]  \n",
       "37                                  [email, php, iis]  \n",
       "38         [internet-explorer, validation, exception]  \n",
       "39                           [database, linq, string]  \n",
       "40  [version-control, visual-studio-2008, visual-s...  \n",
       "41                     [xcode, exception, visual-c++]  \n",
       "42                 [asp.net, validation, asp.net-mvc]  \n",
       "43                               [perl, bash, python]  \n",
       "44                          [php, web-services, java]  \n",
       "45                            [bash, algorithm, tsql]  \n",
       "46                  [database-design, database, tsql]  \n",
       "47                      [validation, winforms, forms]  \n",
       "48                                  [php, http, perl]  \n",
       "49                      [ajax, data-binding, android]  "
      ]
     },
     "execution_count": 49,
     "metadata": {},
     "output_type": "execute_result"
    }
   ],
   "source": [
    "test(50, mat)"
   ]
  },
  {
   "cell_type": "code",
   "execution_count": null,
   "metadata": {},
   "outputs": [],
   "source": []
  }
 ],
 "metadata": {
  "kernelspec": {
   "display_name": "Python 3",
   "language": "python",
   "name": "python3"
  },
  "language_info": {
   "codemirror_mode": {
    "name": "ipython",
    "version": 3
   },
   "file_extension": ".py",
   "mimetype": "text/x-python",
   "name": "python",
   "nbconvert_exporter": "python",
   "pygments_lexer": "ipython3",
   "version": "3.8.5"
  }
 },
 "nbformat": 4,
 "nbformat_minor": 4
}
