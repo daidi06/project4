{
 "cells": [
  {
   "cell_type": "markdown",
   "metadata": {},
   "source": [
    "<h1>Sommaire<span class=\"tocSkip\"></span></h1>\n",
    "<div class=\"toc\"><ul class=\"toc-item\"><li><span><a href=\"#Import-data\" data-toc-modified-id=\"Import-data-1\"><span class=\"toc-item-num\">1&nbsp;&nbsp;</span>Import data</a></span><ul class=\"toc-item\"><li><span><a href=\"#Train-set\" data-toc-modified-id=\"Train-set-1.1\"><span class=\"toc-item-num\">1.1&nbsp;&nbsp;</span>Train set</a></span></li><li><span><a href=\"#Val-set\" data-toc-modified-id=\"Val-set-1.2\"><span class=\"toc-item-num\">1.2&nbsp;&nbsp;</span>Val set</a></span></li></ul></li><li><span><a href=\"#Prepare-data\" data-toc-modified-id=\"Prepare-data-2\"><span class=\"toc-item-num\">2&nbsp;&nbsp;</span>Prepare data</a></span><ul class=\"toc-item\"><li><span><a href=\"#Tfidf-post\" data-toc-modified-id=\"Tfidf-post-2.1\"><span class=\"toc-item-num\">2.1&nbsp;&nbsp;</span>Tfidf post</a></span></li><li><span><a href=\"#Binarize-tags\" data-toc-modified-id=\"Binarize-tags-2.2\"><span class=\"toc-item-num\">2.2&nbsp;&nbsp;</span>Binarize tags</a></span></li></ul></li><li><span><a href=\"#Logistic-regression-multilabels-(one-vs-rest)\" data-toc-modified-id=\"Logistic-regression-multilabels-(one-vs-rest)-3\"><span class=\"toc-item-num\">3&nbsp;&nbsp;</span>Logistic regression multilabels (one vs rest)</a></span></li><li><span><a href=\"#Evaluation-of-Logistic-regression-multilabels\" data-toc-modified-id=\"Evaluation-of-Logistic-regression-multilabels-3\"><span class=\"toc-item-num\">4&nbsp;&nbsp;</span>Evaluation of Logistic regression multilabels</a></span></li><li><span><a href=\"#SVM-multilabels-(one-vs-rest)\" data-toc-modified-id=\"SVM-multilabels-(one-vs-rest)-4\"><span class=\"toc-item-num\">5&nbsp;&nbsp;</span>SVM multilabels (one vs rest)</a></span></li><li><span><a href=\"#Evaluation-of-SVM-multilabels-(one-vs-rest)\" data-toc-modified-id=\"Evaluation-of-SVM-multilabels-(one-vs-rest)-4\"><span class=\"toc-item-num\">6&nbsp;&nbsp;</span>Evaluation of SVM multilabels (one vs rest)</a></span></li><li><span><a href=\"#Random-forest-multilabels-(one-vs-rest)\" data-toc-modified-id=\"Random-forest-multilabels-(one-vs-rest)-5\"><span class=\"toc-item-num\">7&nbsp;&nbsp;</span>Random forest multilabels (one vs rest)</a></span></li><li><span><a href=\"#Evaluation-of-Random-forest-multilabels-(one-vs-rest)\" data-toc-modified-id=\"Evaluation-of-Random-forest-multilabels-(one-vs-rest)-5\"><span class=\"toc-item-num\">8&nbsp;&nbsp;</span>Evaluation of Random forest multilabels (one vs rest)</a></span></li></ul></div>"
   ]
  },
  {
   "cell_type": "code",
   "execution_count": 1,
   "metadata": {},
   "outputs": [],
   "source": [
    "import os\n",
    "import pandas as pd\n",
    "import glob\n",
    "import numpy as np\n",
    "import pickle\n",
    "import gensim\n",
    "import matplotlib.pyplot as plt\n",
    "\n",
    "from joblib import dump, load\n",
    "from sklearn.feature_extraction.text import TfidfVectorizer\n",
    "from sklearn.preprocessing import MultiLabelBinarizer\n",
    "from sklearn.linear_model import LogisticRegression\n",
    "from sklearn.svm import LinearSVC\n",
    "from sklearn.ensemble import RandomForestClassifier\n",
    "from sklearn.multiclass import OneVsRestClassifier\n",
    "from sklearn.metrics import f1_score, classification_report\n",
    "from sklearn.model_selection import GridSearchCV"
   ]
  },
  {
   "cell_type": "markdown",
   "metadata": {},
   "source": [
    "# Import data"
   ]
  },
  {
   "cell_type": "markdown",
   "metadata": {},
   "source": [
    "## Train set"
   ]
  },
  {
   "cell_type": "code",
   "execution_count": 2,
   "metadata": {},
   "outputs": [
    {
     "data": {
      "text/html": [
       "<div>\n",
       "<style scoped>\n",
       "    .dataframe tbody tr th:only-of-type {\n",
       "        vertical-align: middle;\n",
       "    }\n",
       "\n",
       "    .dataframe tbody tr th {\n",
       "        vertical-align: top;\n",
       "    }\n",
       "\n",
       "    .dataframe thead th {\n",
       "        text-align: right;\n",
       "    }\n",
       "</style>\n",
       "<table border=\"1\" class=\"dataframe\">\n",
       "  <thead>\n",
       "    <tr style=\"text-align: right;\">\n",
       "      <th></th>\n",
       "      <th>Text</th>\n",
       "      <th>text_small</th>\n",
       "      <th>text_large</th>\n",
       "    </tr>\n",
       "  </thead>\n",
       "  <tbody>\n",
       "    <tr>\n",
       "      <th>195918</th>\n",
       "      <td>[store, part, formdata, -PRON-, be, separate, ...</td>\n",
       "      <td>[store, part, separate, page, whenever, prepar...</td>\n",
       "      <td>[store, part, -PRON-, be, separate, page, when...</td>\n",
       "    </tr>\n",
       "    <tr>\n",
       "      <th>495592</th>\n",
       "      <td>[tool, php, web, developer, live, without, lot...</td>\n",
       "      <td>[tool, php, web, developer, live, without, lot...</td>\n",
       "      <td>[tool, php, web, developer, live, without, lot...</td>\n",
       "    </tr>\n",
       "    <tr>\n",
       "      <th>451531</th>\n",
       "      <td>[long, string, newline, see, c, code, use, tel...</td>\n",
       "      <td>[long, string, newline, tell, compiler, string...</td>\n",
       "      <td>[long, string, newline, see, c, code, use, tel...</td>\n",
       "    </tr>\n",
       "    <tr>\n",
       "      <th>542821</th>\n",
       "      <td>[character, pointers, c, consider, definitiona...</td>\n",
       "      <td>[character, pointers, consider, point, area, m...</td>\n",
       "      <td>[character, pointers, c, consider, see, point,...</td>\n",
       "    </tr>\n",
       "    <tr>\n",
       "      <th>549984</th>\n",
       "      <td>[install, pythonrsvg, without, pythongnome, de...</td>\n",
       "      <td>[install, without, desktop, ubuntu, support, p...</td>\n",
       "      <td>[install, without, desktop, ubuntu, need, supp...</td>\n",
       "    </tr>\n",
       "  </tbody>\n",
       "</table>\n",
       "</div>"
      ],
      "text/plain": [
       "                                                     Text  \\\n",
       "195918  [store, part, formdata, -PRON-, be, separate, ...   \n",
       "495592  [tool, php, web, developer, live, without, lot...   \n",
       "451531  [long, string, newline, see, c, code, use, tel...   \n",
       "542821  [character, pointers, c, consider, definitiona...   \n",
       "549984  [install, pythonrsvg, without, pythongnome, de...   \n",
       "\n",
       "                                               text_small  \\\n",
       "195918  [store, part, separate, page, whenever, prepar...   \n",
       "495592  [tool, php, web, developer, live, without, lot...   \n",
       "451531  [long, string, newline, tell, compiler, string...   \n",
       "542821  [character, pointers, consider, point, area, m...   \n",
       "549984  [install, without, desktop, ubuntu, support, p...   \n",
       "\n",
       "                                               text_large  \n",
       "195918  [store, part, -PRON-, be, separate, page, when...  \n",
       "495592  [tool, php, web, developer, live, without, lot...  \n",
       "451531  [long, string, newline, see, c, code, use, tel...  \n",
       "542821  [character, pointers, c, consider, see, point,...  \n",
       "549984  [install, without, desktop, ubuntu, need, supp...  "
      ]
     },
     "execution_count": 2,
     "metadata": {},
     "output_type": "execute_result"
    }
   ],
   "source": [
    "# post\n",
    "df_X_train = pd.read_pickle('train/X_train_filtre.pkl')\n",
    "df_X_train.head()"
   ]
  },
  {
   "cell_type": "code",
   "execution_count": 3,
   "metadata": {},
   "outputs": [
    {
     "data": {
      "text/html": [
       "<div>\n",
       "<style scoped>\n",
       "    .dataframe tbody tr th:only-of-type {\n",
       "        vertical-align: middle;\n",
       "    }\n",
       "\n",
       "    .dataframe tbody tr th {\n",
       "        vertical-align: top;\n",
       "    }\n",
       "\n",
       "    .dataframe thead th {\n",
       "        text-align: right;\n",
       "    }\n",
       "</style>\n",
       "<table border=\"1\" class=\"dataframe\">\n",
       "  <thead>\n",
       "    <tr style=\"text-align: right;\">\n",
       "      <th></th>\n",
       "      <th>text_small</th>\n",
       "    </tr>\n",
       "  </thead>\n",
       "  <tbody>\n",
       "    <tr>\n",
       "      <th>195918</th>\n",
       "      <td>[store, part, separate, page, whenever, prepar...</td>\n",
       "    </tr>\n",
       "    <tr>\n",
       "      <th>495592</th>\n",
       "      <td>[tool, php, web, developer, live, without, lot...</td>\n",
       "    </tr>\n",
       "    <tr>\n",
       "      <th>451531</th>\n",
       "      <td>[long, string, newline, tell, compiler, string...</td>\n",
       "    </tr>\n",
       "    <tr>\n",
       "      <th>542821</th>\n",
       "      <td>[character, pointers, consider, point, area, m...</td>\n",
       "    </tr>\n",
       "    <tr>\n",
       "      <th>549984</th>\n",
       "      <td>[install, without, desktop, ubuntu, support, p...</td>\n",
       "    </tr>\n",
       "  </tbody>\n",
       "</table>\n",
       "</div>"
      ],
      "text/plain": [
       "                                               text_small\n",
       "195918  [store, part, separate, page, whenever, prepar...\n",
       "495592  [tool, php, web, developer, live, without, lot...\n",
       "451531  [long, string, newline, tell, compiler, string...\n",
       "542821  [character, pointers, consider, point, area, m...\n",
       "549984  [install, without, desktop, ubuntu, support, p..."
      ]
     },
     "execution_count": 3,
     "metadata": {},
     "output_type": "execute_result"
    }
   ],
   "source": [
    "# on garde le corpus 'text_small'\n",
    "df_X_train = df_X_train.drop(columns=['Text', 'text_large'])\n",
    "df_X_train.head()"
   ]
  },
  {
   "cell_type": "code",
   "execution_count": 4,
   "metadata": {},
   "outputs": [
    {
     "data": {
      "text/html": [
       "<div>\n",
       "<style scoped>\n",
       "    .dataframe tbody tr th:only-of-type {\n",
       "        vertical-align: middle;\n",
       "    }\n",
       "\n",
       "    .dataframe tbody tr th {\n",
       "        vertical-align: top;\n",
       "    }\n",
       "\n",
       "    .dataframe thead th {\n",
       "        text-align: right;\n",
       "    }\n",
       "</style>\n",
       "<table border=\"1\" class=\"dataframe\">\n",
       "  <thead>\n",
       "    <tr style=\"text-align: right;\">\n",
       "      <th></th>\n",
       "      <th>Tags</th>\n",
       "      <th>tags_filtered</th>\n",
       "    </tr>\n",
       "  </thead>\n",
       "  <tbody>\n",
       "    <tr>\n",
       "      <th>195918</th>\n",
       "      <td>[html, database, forms, cookies]</td>\n",
       "      <td>[html, database, forms]</td>\n",
       "    </tr>\n",
       "    <tr>\n",
       "      <th>495592</th>\n",
       "      <td>[php, development-environment]</td>\n",
       "      <td>[php]</td>\n",
       "    </tr>\n",
       "    <tr>\n",
       "      <th>451531</th>\n",
       "      <td>[c++, string]</td>\n",
       "      <td>[c++, string]</td>\n",
       "    </tr>\n",
       "    <tr>\n",
       "      <th>542821</th>\n",
       "      <td>[c, arrays, pointers]</td>\n",
       "      <td>[c, arrays]</td>\n",
       "    </tr>\n",
       "    <tr>\n",
       "      <th>549984</th>\n",
       "      <td>[python, librsvg, rsvg]</td>\n",
       "      <td>[python]</td>\n",
       "    </tr>\n",
       "  </tbody>\n",
       "</table>\n",
       "</div>"
      ],
      "text/plain": [
       "                                    Tags            tags_filtered\n",
       "195918  [html, database, forms, cookies]  [html, database, forms]\n",
       "495592    [php, development-environment]                    [php]\n",
       "451531                     [c++, string]            [c++, string]\n",
       "542821             [c, arrays, pointers]              [c, arrays]\n",
       "549984           [python, librsvg, rsvg]                 [python]"
      ]
     },
     "execution_count": 4,
     "metadata": {},
     "output_type": "execute_result"
    }
   ],
   "source": [
    "# tags\n",
    "df_Y_train = pd.read_pickle('train/Y_train_filtre.pkl')\n",
    "df_Y_train.head()"
   ]
  },
  {
   "cell_type": "code",
   "execution_count": 5,
   "metadata": {},
   "outputs": [
    {
     "data": {
      "text/html": [
       "<div>\n",
       "<style scoped>\n",
       "    .dataframe tbody tr th:only-of-type {\n",
       "        vertical-align: middle;\n",
       "    }\n",
       "\n",
       "    .dataframe tbody tr th {\n",
       "        vertical-align: top;\n",
       "    }\n",
       "\n",
       "    .dataframe thead th {\n",
       "        text-align: right;\n",
       "    }\n",
       "</style>\n",
       "<table border=\"1\" class=\"dataframe\">\n",
       "  <thead>\n",
       "    <tr style=\"text-align: right;\">\n",
       "      <th></th>\n",
       "      <th>tags_filtered</th>\n",
       "    </tr>\n",
       "  </thead>\n",
       "  <tbody>\n",
       "    <tr>\n",
       "      <th>195918</th>\n",
       "      <td>[html, database, forms]</td>\n",
       "    </tr>\n",
       "    <tr>\n",
       "      <th>495592</th>\n",
       "      <td>[php]</td>\n",
       "    </tr>\n",
       "    <tr>\n",
       "      <th>451531</th>\n",
       "      <td>[c++, string]</td>\n",
       "    </tr>\n",
       "    <tr>\n",
       "      <th>542821</th>\n",
       "      <td>[c, arrays]</td>\n",
       "    </tr>\n",
       "    <tr>\n",
       "      <th>549984</th>\n",
       "      <td>[python]</td>\n",
       "    </tr>\n",
       "  </tbody>\n",
       "</table>\n",
       "</div>"
      ],
      "text/plain": [
       "                  tags_filtered\n",
       "195918  [html, database, forms]\n",
       "495592                    [php]\n",
       "451531            [c++, string]\n",
       "542821              [c, arrays]\n",
       "549984                 [python]"
      ]
     },
     "execution_count": 5,
     "metadata": {},
     "output_type": "execute_result"
    }
   ],
   "source": [
    "# on garde le corpus 'tags_filtered'\n",
    "df_Y_train = df_Y_train.drop(columns=['Tags'])\n",
    "df_Y_train.head()"
   ]
  },
  {
   "cell_type": "markdown",
   "metadata": {},
   "source": [
    "## Val set"
   ]
  },
  {
   "cell_type": "code",
   "execution_count": 6,
   "metadata": {},
   "outputs": [
    {
     "data": {
      "text/html": [
       "<div>\n",
       "<style scoped>\n",
       "    .dataframe tbody tr th:only-of-type {\n",
       "        vertical-align: middle;\n",
       "    }\n",
       "\n",
       "    .dataframe tbody tr th {\n",
       "        vertical-align: top;\n",
       "    }\n",
       "\n",
       "    .dataframe thead th {\n",
       "        text-align: right;\n",
       "    }\n",
       "</style>\n",
       "<table border=\"1\" class=\"dataframe\">\n",
       "  <thead>\n",
       "    <tr style=\"text-align: right;\">\n",
       "      <th></th>\n",
       "      <th>Text</th>\n",
       "    </tr>\n",
       "  </thead>\n",
       "  <tbody>\n",
       "    <tr>\n",
       "      <th>230075</th>\n",
       "      <td>[type, java, cache, use, case, data, change, f...</td>\n",
       "    </tr>\n",
       "    <tr>\n",
       "      <th>295941</th>\n",
       "      <td>[php, show, n, x, b, r, show, character, webpage]</td>\n",
       "    </tr>\n",
       "    <tr>\n",
       "      <th>279171</th>\n",
       "      <td>[saving, hebrew, utf, database, php, saving, h...</td>\n",
       "    </tr>\n",
       "    <tr>\n",
       "      <th>201268</th>\n",
       "      <td>[nlog, store, current, thread, user, use, nlog...</td>\n",
       "    </tr>\n",
       "    <tr>\n",
       "      <th>403510</th>\n",
       "      <td>[add, cgpoint, nsmutablearray, want, store, cg...</td>\n",
       "    </tr>\n",
       "  </tbody>\n",
       "</table>\n",
       "</div>"
      ],
      "text/plain": [
       "                                                     Text\n",
       "230075  [type, java, cache, use, case, data, change, f...\n",
       "295941  [php, show, n, x, b, r, show, character, webpage]\n",
       "279171  [saving, hebrew, utf, database, php, saving, h...\n",
       "201268  [nlog, store, current, thread, user, use, nlog...\n",
       "403510  [add, cgpoint, nsmutablearray, want, store, cg..."
      ]
     },
     "execution_count": 6,
     "metadata": {},
     "output_type": "execute_result"
    }
   ],
   "source": [
    "# post\n",
    "df_X_val = pd.read_pickle('val/X_val_filtre.pkl')\n",
    "df_X_val.head()"
   ]
  },
  {
   "cell_type": "code",
   "execution_count": 7,
   "metadata": {},
   "outputs": [
    {
     "data": {
      "text/html": [
       "<div>\n",
       "<style scoped>\n",
       "    .dataframe tbody tr th:only-of-type {\n",
       "        vertical-align: middle;\n",
       "    }\n",
       "\n",
       "    .dataframe tbody tr th {\n",
       "        vertical-align: top;\n",
       "    }\n",
       "\n",
       "    .dataframe thead th {\n",
       "        text-align: right;\n",
       "    }\n",
       "</style>\n",
       "<table border=\"1\" class=\"dataframe\">\n",
       "  <thead>\n",
       "    <tr style=\"text-align: right;\">\n",
       "      <th></th>\n",
       "      <th>Tags</th>\n",
       "      <th>tags_filtered</th>\n",
       "    </tr>\n",
       "  </thead>\n",
       "  <tbody>\n",
       "    <tr>\n",
       "      <th>230075</th>\n",
       "      <td>[java, performance, multithreading, caching, lru]</td>\n",
       "      <td>[caching, java, multithreading, performance]</td>\n",
       "    </tr>\n",
       "    <tr>\n",
       "      <th>295941</th>\n",
       "      <td>[php, hidden-characters]</td>\n",
       "      <td>[php]</td>\n",
       "    </tr>\n",
       "    <tr>\n",
       "      <th>279171</th>\n",
       "      <td>[php, mysql, utf-8]</td>\n",
       "      <td>[php, mysql]</td>\n",
       "    </tr>\n",
       "    <tr>\n",
       "      <th>201268</th>\n",
       "      <td>[c#, .net, nlog]</td>\n",
       "      <td>[.net, c#]</td>\n",
       "    </tr>\n",
       "    <tr>\n",
       "      <th>403510</th>\n",
       "      <td>[iphone, objective-c, nsarray, cgpoint]</td>\n",
       "      <td>[objective-c, iphone]</td>\n",
       "    </tr>\n",
       "  </tbody>\n",
       "</table>\n",
       "</div>"
      ],
      "text/plain": [
       "                                                     Tags  \\\n",
       "230075  [java, performance, multithreading, caching, lru]   \n",
       "295941                           [php, hidden-characters]   \n",
       "279171                                [php, mysql, utf-8]   \n",
       "201268                                   [c#, .net, nlog]   \n",
       "403510            [iphone, objective-c, nsarray, cgpoint]   \n",
       "\n",
       "                                       tags_filtered  \n",
       "230075  [caching, java, multithreading, performance]  \n",
       "295941                                         [php]  \n",
       "279171                                  [php, mysql]  \n",
       "201268                                    [.net, c#]  \n",
       "403510                         [objective-c, iphone]  "
      ]
     },
     "execution_count": 7,
     "metadata": {},
     "output_type": "execute_result"
    }
   ],
   "source": [
    "# tags\n",
    "df_Y_val = pd.read_pickle('val/Y_val_filtre.pkl')\n",
    "df_Y_val.head()"
   ]
  },
  {
   "cell_type": "code",
   "execution_count": 8,
   "metadata": {},
   "outputs": [
    {
     "data": {
      "text/html": [
       "<div>\n",
       "<style scoped>\n",
       "    .dataframe tbody tr th:only-of-type {\n",
       "        vertical-align: middle;\n",
       "    }\n",
       "\n",
       "    .dataframe tbody tr th {\n",
       "        vertical-align: top;\n",
       "    }\n",
       "\n",
       "    .dataframe thead th {\n",
       "        text-align: right;\n",
       "    }\n",
       "</style>\n",
       "<table border=\"1\" class=\"dataframe\">\n",
       "  <thead>\n",
       "    <tr style=\"text-align: right;\">\n",
       "      <th></th>\n",
       "      <th>tags_filtered</th>\n",
       "    </tr>\n",
       "  </thead>\n",
       "  <tbody>\n",
       "    <tr>\n",
       "      <th>230075</th>\n",
       "      <td>[caching, java, multithreading, performance]</td>\n",
       "    </tr>\n",
       "    <tr>\n",
       "      <th>295941</th>\n",
       "      <td>[php]</td>\n",
       "    </tr>\n",
       "    <tr>\n",
       "      <th>279171</th>\n",
       "      <td>[php, mysql]</td>\n",
       "    </tr>\n",
       "    <tr>\n",
       "      <th>201268</th>\n",
       "      <td>[.net, c#]</td>\n",
       "    </tr>\n",
       "    <tr>\n",
       "      <th>403510</th>\n",
       "      <td>[objective-c, iphone]</td>\n",
       "    </tr>\n",
       "  </tbody>\n",
       "</table>\n",
       "</div>"
      ],
      "text/plain": [
       "                                       tags_filtered\n",
       "230075  [caching, java, multithreading, performance]\n",
       "295941                                         [php]\n",
       "279171                                  [php, mysql]\n",
       "201268                                    [.net, c#]\n",
       "403510                         [objective-c, iphone]"
      ]
     },
     "execution_count": 8,
     "metadata": {},
     "output_type": "execute_result"
    }
   ],
   "source": [
    "# on garde le corpus 'tags_filtered'\n",
    "df_Y_val = df_Y_val.drop(columns=['Tags'])\n",
    "df_Y_val.head()"
   ]
  },
  {
   "cell_type": "markdown",
   "metadata": {},
   "source": [
    "# Prepare data"
   ]
  },
  {
   "cell_type": "markdown",
   "metadata": {},
   "source": [
    "## Tfidf post"
   ]
  },
  {
   "cell_type": "code",
   "execution_count": 9,
   "metadata": {},
   "outputs": [
    {
     "name": "stdout",
     "output_type": "stream",
     "text": [
      "X_train shape : (103225, 4167)\n",
      "X_train_s shape : (15000, 4166)\n"
     ]
    }
   ],
   "source": [
    "# no parameters : keep all words\n",
    "vectorizer = TfidfVectorizer(encoding='unicode')\n",
    "\n",
    "# train set\n",
    "corpus = []\n",
    "for post in df_X_train['text_small']:\n",
    "    post_text = ' '.join(post)\n",
    "    corpus.append(post_text)\n",
    "\n",
    "X_train = vectorizer.fit_transform(corpus)\n",
    "print('X_train shape : {}'.format(X_train.shape))\n",
    "\n",
    "# save vectorizer for heroku app\n",
    "dump(vectorizer, 'HerokuApp/vectorizer_tfidf.joblib')\n",
    "\n",
    "# sample train set\n",
    "# sampling\n",
    "num_samples = 15000\n",
    "df_X_train_s = df_X_train.sample(n=num_samples,random_state=1)\n",
    "index_to_keep = df_X_train_s.index.tolist()\n",
    "df_Y_train_s = df_Y_train.loc[index_to_keep]\n",
    "\n",
    "# no parameters : keep all words\n",
    "vectorizer2 = TfidfVectorizer(encoding='unicode')\n",
    "\n",
    "corpus = []\n",
    "for post in df_X_train_s['text_small']:\n",
    "    post_text = ' '.join(post)\n",
    "    corpus.append(post_text)\n",
    "\n",
    "X_train_s = vectorizer2.fit_transform(corpus)\n",
    "print('X_train_s shape : {}'.format(X_train_s.shape))"
   ]
  },
  {
   "cell_type": "code",
   "execution_count": 10,
   "metadata": {},
   "outputs": [
    {
     "name": "stdout",
     "output_type": "stream",
     "text": [
      "X_val shape : (34477, 4167)\n"
     ]
    }
   ],
   "source": [
    "# val set\n",
    "corpus = []\n",
    "for post in df_X_val['Text']:\n",
    "    post_text = ' '.join(post)\n",
    "    corpus.append(post_text)\n",
    "\n",
    "X_val = vectorizer.transform(corpus)  # no fit, just transform\n",
    "print('X_val shape : {}'.format(X_val.shape))"
   ]
  },
  {
   "cell_type": "markdown",
   "metadata": {},
   "source": [
    "## Binarize tags"
   ]
  },
  {
   "cell_type": "code",
   "execution_count": 11,
   "metadata": {},
   "outputs": [
    {
     "name": "stdout",
     "output_type": "stream",
     "text": [
      "Y_train shape : (103225, 100)\n"
     ]
    }
   ],
   "source": [
    "mlb = MultiLabelBinarizer()\n",
    "\n",
    "# train set\n",
    "Y_train = mlb.fit_transform(df_Y_train['tags_filtered'])\n",
    "tags = mlb.classes_\n",
    "print('Y_train shape : {}'.format(Y_train.shape))"
   ]
  },
  {
   "cell_type": "code",
   "execution_count": 12,
   "metadata": {},
   "outputs": [
    {
     "data": {
      "text/plain": [
       "['HerokuApp/log_reg_tfidf_tags.joblib']"
      ]
     },
     "execution_count": 12,
     "metadata": {},
     "output_type": "execute_result"
    }
   ],
   "source": [
    "# save tags\n",
    "dump(tags, 'HerokuApp/log_reg_tfidf_tags.joblib')"
   ]
  },
  {
   "cell_type": "code",
   "execution_count": 13,
   "metadata": {},
   "outputs": [
    {
     "name": "stdout",
     "output_type": "stream",
     "text": [
      "Y_val shape : (34477, 100)\n"
     ]
    }
   ],
   "source": [
    "# val set\n",
    "Y_val = mlb.transform(df_Y_val['tags_filtered'])\n",
    "print('Y_val shape : {}'.format(Y_val.shape))"
   ]
  },
  {
   "cell_type": "markdown",
   "metadata": {},
   "source": [
    "# Logistic regression multilabels (one vs rest)"
   ]
  },
  {
   "cell_type": "code",
   "execution_count": 14,
   "metadata": {},
   "outputs": [],
   "source": [
    "def evaluate_clf(clf, csv_path=None, clf_name=None):\n",
    "    # prediction\n",
    "    # train\n",
    "    Y_pred_train = clf.predict(X_train)\n",
    "    # val\n",
    "    Y_pred_val = clf.predict(X_val)\n",
    "    print('Nombre de tags présents : {}'.format(sum(sum(Y_val))))\n",
    "    print('Nombre de tags prédits : {}'.format(sum(sum(Y_pred_val))))\n",
    "    print('---------------------------------------------------------')\n",
    "    print(classification_report(Y_val, Y_pred_val, target_names=tags, zero_division=0))\n",
    "    if csv_path and clf_name:\n",
    "        train_score_macro=f1_score(Y_train, Y_pred_train, average='macro')\n",
    "        val_score_macro=f1_score(Y_val, Y_pred_val, average='macro')\n",
    "        train_score_micro=f1_score(Y_train, Y_pred_train, average='micro')\n",
    "        val_score_micro=f1_score(Y_val, Y_pred_val, average='micro')\n",
    "        train_score_weighted=f1_score(Y_train, Y_pred_train, average='weighted')\n",
    "        val_score_weighted=f1_score(Y_val, Y_pred_val, average='weighted')\n",
    "        train_score_samples=f1_score(Y_train, Y_pred_train, average='samples')\n",
    "        val_score_samples=f1_score(Y_val, Y_pred_val, average='samples')\n",
    "        with open(csv_path, 'w') as file:\n",
    "            file.write('{};{};{};{};{};{};{};{};{}'.format(clf_name,\n",
    "                                         train_score_macro,\n",
    "                                         val_score_macro,\n",
    "                                         train_score_micro,\n",
    "                                         val_score_micro,\n",
    "                                         train_score_weighted,\n",
    "                                         val_score_weighted,\n",
    "                                         train_score_samples,\n",
    "                                         val_score_samples))"
   ]
  },
  {
   "cell_type": "markdown",
   "metadata": {},
   "source": [
    "Afin de determiner les meilleurs paramètres du modèle, nous allons utiliser `GridSearchCV` du module `model_selection` de `scikit-learn`. Nous appliquerons cela à un échantillon de 15000 posts afin de reduire le temps d'exécution."
   ]
  },
  {
   "cell_type": "code",
   "execution_count": 15,
   "metadata": {},
   "outputs": [
    {
     "name": "stdout",
     "output_type": "stream",
     "text": [
      "Meilleurs hyper-paramètres :\n",
      "\n",
      "{'estimator__C': 10}\n"
     ]
    }
   ],
   "source": [
    "# classifier\n",
    "log_clf = OneVsRestClassifier(LogisticRegression(random_state=0,\n",
    "                                             max_iter=10000,\n",
    "                                             verbose=0))\n",
    "\n",
    "# hyperparameters\n",
    "param_grid = [{'estimator__C': [0.1, 1., 10]}]\n",
    "\n",
    "# cross-validation\n",
    "clf = GridSearchCV(log_clf,\n",
    "                   param_grid,\n",
    "                   scoring='f1_weighted',\n",
    "                   n_jobs=5,\n",
    "                   verbose = 0,\n",
    "                   cv=5,\n",
    "                   return_train_score=True)\n",
    "\n",
    "mlb2 = MultiLabelBinarizer()\n",
    "\n",
    "# sample train set\n",
    "Y_train_s = mlb2.fit_transform(df_Y_train_s['tags_filtered'])\n",
    "\n",
    "clf.fit(X_train_s, Y_train_s)\n",
    "\n",
    "print('Meilleurs hyper-paramètres :\\n')\n",
    "print(clf.best_params_)"
   ]
  },
  {
   "cell_type": "markdown",
   "metadata": {},
   "source": [
    "Une fois le meilleur paramètre determiner, nous appliquerons la classification à toute la base en considérant le meilleur paramètre déterminé précédemment."
   ]
  },
  {
   "cell_type": "code",
   "execution_count": 16,
   "metadata": {},
   "outputs": [
    {
     "data": {
      "text/plain": [
       "['HerokuApp/log_reg_tfidf.joblib']"
      ]
     },
     "execution_count": 16,
     "metadata": {},
     "output_type": "execute_result"
    }
   ],
   "source": [
    "# save model for heroku app\n",
    "# train classifier\n",
    "clf = OneVsRestClassifier(LogisticRegression(random_state=0,\n",
    "                                             C=10,\n",
    "                                             max_iter=10000,\n",
    "                                             verbose=0))\n",
    "\n",
    "clf.fit(X_train, Y_train)\n",
    "\n",
    "# save model\n",
    "dump(clf, 'HerokuApp/log_reg_tfidf.joblib')"
   ]
  },
  {
   "cell_type": "markdown",
   "metadata": {},
   "source": [
    "# Evaluation of Logistic regression multilabels"
   ]
  },
  {
   "cell_type": "code",
   "execution_count": 17,
   "metadata": {
    "scrolled": false
   },
   "outputs": [
    {
     "name": "stdout",
     "output_type": "stream",
     "text": [
      "Nombre de tags présents : 56448\n",
      "Nombre de tags prédits : 34708\n",
      "---------------------------------------------------------\n",
      "                    precision    recall  f1-score   support\n",
      "\n",
      "              .net       0.63      0.25      0.36      2619\n",
      "    actionscript-3       0.60      0.28      0.38       303\n",
      "              ajax       0.64      0.40      0.49       470\n",
      "         algorithm       0.65      0.37      0.47       333\n",
      "           android       0.97      0.78      0.87       438\n",
      "            apache       0.70      0.46      0.55       218\n",
      "       apache-flex       0.87      0.65      0.74       346\n",
      "            arrays       0.49      0.31      0.38       294\n",
      "           asp.net       0.80      0.54      0.64      2253\n",
      "       asp.net-mvc       0.86      0.69      0.77       811\n",
      "              bash       0.82      0.60      0.69       144\n",
      "                 c       0.46      0.19      0.27       802\n",
      "                c#       0.58      0.26      0.36      5163\n",
      "               c++       0.67      0.35      0.46      1858\n",
      "           caching       0.73      0.48      0.58       151\n",
      "             cocoa       0.76      0.33      0.46       337\n",
      "       cocoa-touch       0.31      0.09      0.14       331\n",
      "               css       0.81      0.66      0.73       807\n",
      "      data-binding       0.73      0.28      0.40       172\n",
      "          database       0.42      0.15      0.22       559\n",
      "   database-design       0.44      0.17      0.24       150\n",
      "         debugging       0.64      0.37      0.47       267\n",
      "            delphi       0.97      0.65      0.78       313\n",
      "   design-patterns       0.66      0.29      0.40       196\n",
      "            django       0.95      0.79      0.86       427\n",
      "           eclipse       0.87      0.69      0.77       283\n",
      "             email       0.63      0.46      0.53       153\n",
      "  entity-framework       0.80      0.53      0.64       180\n",
      "            events       0.33      0.18      0.23       194\n",
      "             excel       0.81      0.64      0.71       223\n",
      "         exception       0.57      0.26      0.35       182\n",
      "              file       0.28      0.04      0.07       205\n",
      "             flash       0.78      0.53      0.63       342\n",
      "             forms       0.44      0.17      0.25       216\n",
      "          generics       0.82      0.53      0.65       193\n",
      "               git       0.95      0.83      0.89       181\n",
      "         hibernate       0.89      0.67      0.76       186\n",
      "              html       0.58      0.34      0.43      1144\n",
      "              http       0.55      0.25      0.34       190\n",
      "               iis       0.53      0.29      0.38       197\n",
      "             image       0.39      0.17      0.24       238\n",
      "      installation       0.55      0.25      0.35       142\n",
      " internet-explorer       0.51      0.28      0.36       210\n",
      "            iphone       0.89      0.73      0.80      1594\n",
      "              java       0.86      0.64      0.73      3009\n",
      "        javascript       0.75      0.54      0.63      2156\n",
      "            jquery       0.92      0.77      0.84      1761\n",
      "              json       0.82      0.59      0.69       208\n",
      " language-agnostic       0.19      0.02      0.03       197\n",
      "              linq       0.75      0.44      0.55       396\n",
      "       linq-to-sql       0.75      0.48      0.59       261\n",
      "             linux       0.69      0.36      0.48       440\n",
      "             macos       0.69      0.33      0.44       287\n",
      "         ms-access       0.77      0.50      0.61       161\n",
      "    multithreading       0.71      0.48      0.57       387\n",
      "             mysql       0.88      0.68      0.77      1120\n",
      "        nhibernate       0.90      0.71      0.80       210\n",
      "       objective-c       0.61      0.28      0.38       753\n",
      "               oop       0.54      0.20      0.29       238\n",
      "            oracle       0.89      0.63      0.74       324\n",
      "           parsing       0.60      0.28      0.38       188\n",
      "       performance       0.46      0.25      0.32       411\n",
      "              perl       0.93      0.66      0.77       329\n",
      "               php       0.89      0.68      0.77      2376\n",
      "            python       0.89      0.66      0.76      1492\n",
      "             regex       0.91      0.74      0.81       499\n",
      "              ruby       0.79      0.43      0.56       603\n",
      "     ruby-on-rails       0.93      0.72      0.81       786\n",
      "          security       0.61      0.27      0.37       328\n",
      "        sharepoint       0.97      0.77      0.86       271\n",
      "       silverlight       0.92      0.68      0.78       282\n",
      "           sockets       0.75      0.54      0.63       162\n",
      "            spring       0.84      0.66      0.74       157\n",
      "               sql       0.58      0.36      0.45      1294\n",
      "        sql-server       0.64      0.43      0.51       990\n",
      "   sql-server-2005       0.29      0.09      0.14       328\n",
      "   sql-server-2008       0.21      0.05      0.08       146\n",
      "            string       0.49      0.18      0.27       364\n",
      "               svn       0.91      0.78      0.84       290\n",
      "             swing       0.72      0.35      0.47       191\n",
      "              tsql       0.66      0.29      0.40       242\n",
      "      unit-testing       0.75      0.56      0.64       272\n",
      "              unix       0.62      0.21      0.31       156\n",
      "    user-interface       0.55      0.17      0.26       292\n",
      "        validation       0.62      0.36      0.46       208\n",
      "            vb.net       0.80      0.34      0.48       581\n",
      "               vba       0.86      0.47      0.61       166\n",
      "   version-control       0.60      0.29      0.39       173\n",
      "        visual-c++       0.48      0.16      0.23       135\n",
      "     visual-studio       0.52      0.30      0.38       528\n",
      "visual-studio-2008       0.44      0.23      0.30       438\n",
      "               wcf       0.92      0.84      0.88       351\n",
      "      web-services       0.61      0.41      0.49       319\n",
      "            winapi       0.70      0.30      0.42       265\n",
      "           windows       0.46      0.18      0.26       649\n",
      "          winforms       0.71      0.42      0.53       526\n",
      "               wpf       0.92      0.76      0.83       753\n",
      "              xaml       0.56      0.30      0.39       150\n",
      "             xcode       0.76      0.42      0.54       185\n",
      "               xml       0.74      0.56      0.64       649\n",
      "\n",
      "         micro avg       0.75      0.46      0.57     56448\n",
      "         macro avg       0.69      0.43      0.52     56448\n",
      "      weighted avg       0.72      0.46      0.56     56448\n",
      "       samples avg       0.57      0.50      0.51     56448\n",
      "\n"
     ]
    }
   ],
   "source": [
    "evaluate_clf(clf, 'results/log_reg_tfidf.csv', 'Regression logistique tfidf')"
   ]
  },
  {
   "cell_type": "markdown",
   "metadata": {},
   "source": [
    "# SVM multilabels (one vs rest)"
   ]
  },
  {
   "cell_type": "code",
   "execution_count": 18,
   "metadata": {},
   "outputs": [
    {
     "name": "stdout",
     "output_type": "stream",
     "text": [
      "Meilleurs hyper-paramètres :\n",
      "\n",
      "{'estimator__C': 0.5}\n"
     ]
    }
   ],
   "source": [
    "# classifier\n",
    "svm_clf = OneVsRestClassifier(LinearSVC(random_state=0,\n",
    "                                        class_weight='balanced',\n",
    "                                        max_iter=10000,\n",
    "                                        verbose=0))\n",
    "# hyperparameters\n",
    "param_grid = [{'estimator__C': [0.1, 0.5, 1., 5, 10]}]\n",
    "\n",
    "#cross-validation\n",
    "clf = GridSearchCV(svm_clf,\n",
    "                   param_grid,\n",
    "                   scoring='f1_weighted',\n",
    "                   n_jobs=5,\n",
    "                   verbose = 0,\n",
    "                   return_train_score=True)\n",
    "\n",
    "clf.fit(X_train_s, Y_train_s)\n",
    "\n",
    "print('Meilleurs hyper-paramètres :\\n')\n",
    "print(clf.best_params_)"
   ]
  },
  {
   "cell_type": "code",
   "execution_count": 19,
   "metadata": {},
   "outputs": [
    {
     "data": {
      "text/plain": [
       "OneVsRestClassifier(estimator=LinearSVC(C=0.5, class_weight='balanced',\n",
       "                                        max_iter=10000, random_state=0))"
      ]
     },
     "execution_count": 19,
     "metadata": {},
     "output_type": "execute_result"
    }
   ],
   "source": [
    "# train classifier\n",
    "clf = OneVsRestClassifier(LinearSVC(random_state=0,\n",
    "                                    class_weight='balanced',\n",
    "                                    C=0.5,\n",
    "                                    max_iter=10000,\n",
    "                                    verbose=0))\n",
    "\n",
    "clf.fit(X_train, Y_train)"
   ]
  },
  {
   "cell_type": "markdown",
   "metadata": {},
   "source": [
    "# Evaluation of SVM multilabels (one-vs-rest)"
   ]
  },
  {
   "cell_type": "code",
   "execution_count": 20,
   "metadata": {
    "scrolled": false
   },
   "outputs": [
    {
     "name": "stdout",
     "output_type": "stream",
     "text": [
      "Nombre de tags présents : 56448\n",
      "Nombre de tags prédits : 132333\n",
      "---------------------------------------------------------\n",
      "                    precision    recall  f1-score   support\n",
      "\n",
      "              .net       0.25      0.72      0.37      2619\n",
      "    actionscript-3       0.25      0.70      0.37       303\n",
      "              ajax       0.22      0.69      0.34       470\n",
      "         algorithm       0.26      0.62      0.37       333\n",
      "           android       0.62      0.88      0.73       438\n",
      "            apache       0.39      0.78      0.52       218\n",
      "       apache-flex       0.51      0.83      0.63       346\n",
      "            arrays       0.26      0.68      0.37       294\n",
      "           asp.net       0.42      0.80      0.55      2253\n",
      "       asp.net-mvc       0.45      0.86      0.59       811\n",
      "              bash       0.39      0.76      0.52       144\n",
      "                 c       0.16      0.71      0.26       802\n",
      "                c#       0.35      0.77      0.48      5163\n",
      "               c++       0.27      0.79      0.40      1858\n",
      "           caching       0.48      0.74      0.58       151\n",
      "             cocoa       0.19      0.65      0.29       337\n",
      "       cocoa-touch       0.14      0.65      0.23       331\n",
      "               css       0.42      0.88      0.57       807\n",
      "      data-binding       0.29      0.65      0.40       172\n",
      "          database       0.13      0.65      0.22       559\n",
      "   database-design       0.16      0.57      0.25       150\n",
      "         debugging       0.27      0.69      0.39       267\n",
      "            delphi       0.44      0.77      0.56       313\n",
      "   design-patterns       0.20      0.58      0.30       196\n",
      "            django       0.73      0.88      0.79       427\n",
      "           eclipse       0.68      0.85      0.76       283\n",
      "             email       0.48      0.73      0.58       153\n",
      "  entity-framework       0.52      0.76      0.62       180\n",
      "            events       0.17      0.55      0.26       194\n",
      "             excel       0.64      0.87      0.74       223\n",
      "         exception       0.23      0.58      0.33       182\n",
      "              file       0.06      0.42      0.10       205\n",
      "             flash       0.44      0.77      0.56       342\n",
      "             forms       0.17      0.63      0.26       216\n",
      "          generics       0.40      0.78      0.53       193\n",
      "               git       0.75      0.91      0.82       181\n",
      "         hibernate       0.64      0.84      0.73       186\n",
      "              html       0.25      0.82      0.38      1144\n",
      "              http       0.20      0.57      0.30       190\n",
      "               iis       0.36      0.69      0.47       197\n",
      "             image       0.21      0.63      0.31       238\n",
      "      installation       0.25      0.61      0.35       142\n",
      " internet-explorer       0.31      0.78      0.45       210\n",
      "            iphone       0.63      0.89      0.74      1594\n",
      "              java       0.55      0.84      0.67      3009\n",
      "        javascript       0.44      0.86      0.58      2156\n",
      "            jquery       0.62      0.89      0.73      1761\n",
      "              json       0.48      0.77      0.59       208\n",
      " language-agnostic       0.07      0.36      0.12       197\n",
      "              linq       0.38      0.76      0.51       396\n",
      "       linq-to-sql       0.39      0.77      0.52       261\n",
      "             linux       0.24      0.69      0.36       440\n",
      "             macos       0.24      0.66      0.36       287\n",
      "         ms-access       0.42      0.76      0.54       161\n",
      "    multithreading       0.37      0.75      0.49       387\n",
      "             mysql       0.46      0.88      0.61      1120\n",
      "        nhibernate       0.70      0.84      0.76       210\n",
      "       objective-c       0.25      0.76      0.37       753\n",
      "               oop       0.12      0.57      0.19       238\n",
      "            oracle       0.53      0.79      0.63       324\n",
      "           parsing       0.23      0.62      0.33       188\n",
      "       performance       0.19      0.68      0.30       411\n",
      "              perl       0.58      0.77      0.66       329\n",
      "               php       0.56      0.86      0.67      2376\n",
      "            python       0.51      0.85      0.63      1492\n",
      "             regex       0.53      0.89      0.67       499\n",
      "              ruby       0.32      0.73      0.44       603\n",
      "     ruby-on-rails       0.54      0.85      0.66       786\n",
      "          security       0.20      0.62      0.30       328\n",
      "        sharepoint       0.91      0.89      0.90       271\n",
      "       silverlight       0.67      0.86      0.75       282\n",
      "           sockets       0.44      0.78      0.56       162\n",
      "            spring       0.68      0.82      0.74       157\n",
      "               sql       0.31      0.82      0.45      1294\n",
      "        sql-server       0.36      0.83      0.51       990\n",
      "   sql-server-2005       0.16      0.67      0.26       328\n",
      "   sql-server-2008       0.10      0.49      0.17       146\n",
      "            string       0.18      0.61      0.28       364\n",
      "               svn       0.75      0.89      0.81       290\n",
      "             swing       0.32      0.59      0.42       191\n",
      "              tsql       0.16      0.70      0.27       242\n",
      "      unit-testing       0.54      0.82      0.65       272\n",
      "              unix       0.16      0.51      0.25       156\n",
      "    user-interface       0.11      0.53      0.19       292\n",
      "        validation       0.34      0.73      0.46       208\n",
      "            vb.net       0.14      0.61      0.22       581\n",
      "               vba       0.44      0.72      0.55       166\n",
      "   version-control       0.26      0.66      0.37       173\n",
      "        visual-c++       0.13      0.53      0.20       135\n",
      "     visual-studio       0.24      0.73      0.36       528\n",
      "visual-studio-2008       0.20      0.70      0.31       438\n",
      "               wcf       0.76      0.91      0.83       351\n",
      "      web-services       0.31      0.74      0.44       319\n",
      "            winapi       0.20      0.69      0.31       265\n",
      "           windows       0.17      0.67      0.27       649\n",
      "          winforms       0.24      0.74      0.36       526\n",
      "               wpf       0.58      0.87      0.69       753\n",
      "              xaml       0.23      0.71      0.34       150\n",
      "             xcode       0.22      0.65      0.33       185\n",
      "               xml       0.46      0.82      0.59       649\n",
      "\n",
      "         micro avg       0.33      0.78      0.46     56448\n",
      "         macro avg       0.36      0.73      0.47     56448\n",
      "      weighted avg       0.39      0.78      0.51     56448\n",
      "       samples avg       0.39      0.80      0.48     56448\n",
      "\n"
     ]
    }
   ],
   "source": [
    "evaluate_clf(clf, 'results/svm_tfidf.csv', 'SVM tfidf')"
   ]
  },
  {
   "cell_type": "markdown",
   "metadata": {},
   "source": [
    "# Random forest multilabels (one vs rest) "
   ]
  },
  {
   "cell_type": "code",
   "execution_count": 21,
   "metadata": {},
   "outputs": [
    {
     "name": "stdout",
     "output_type": "stream",
     "text": [
      "Fitting 5 folds for each of 12 candidates, totalling 60 fits\n"
     ]
    },
    {
     "name": "stderr",
     "output_type": "stream",
     "text": [
      "[Parallel(n_jobs=5)]: Using backend LokyBackend with 5 concurrent workers.\n",
      "[Parallel(n_jobs=5)]: Done  40 tasks      | elapsed: 46.2min\n",
      "[Parallel(n_jobs=5)]: Done  60 out of  60 | elapsed: 96.0min finished\n"
     ]
    },
    {
     "name": "stdout",
     "output_type": "stream",
     "text": [
      "Meilleurs hyper-paramètres :\n",
      "\n",
      "{'estimator__max_depth': 10, 'estimator__max_features': 0.75, 'estimator__min_samples_leaf': 1}\n"
     ]
    }
   ],
   "source": [
    "# classifier\n",
    "randf = OneVsRestClassifier(RandomForestClassifier(random_state=0,\n",
    "                                                   n_estimators=50,\n",
    "                                                   criterion='gini'))\n",
    "\n",
    "# # hyperparameters\n",
    "param_grid = {'estimator__max_depth':[5, 10],\n",
    "              'estimator__max_features':[0.25, 0.5, 0.75],\n",
    "              'estimator__min_samples_leaf':[1, 3],}\n",
    "\n",
    "# cross-validation\n",
    "clf = GridSearchCV(randf,\n",
    "                   param_grid,\n",
    "                   scoring='f1_weighted',\n",
    "                   n_jobs=5,\n",
    "                   verbose=1,\n",
    "                   return_train_score=True)\n",
    "\n",
    "clf.fit(X_train_s, Y_train_s)\n",
    "\n",
    "\n",
    "print('Meilleurs hyper-paramètres :\\n')\n",
    "print(clf.best_params_)"
   ]
  },
  {
   "cell_type": "code",
   "execution_count": 22,
   "metadata": {},
   "outputs": [
    {
     "data": {
      "text/plain": [
       "OneVsRestClassifier(estimator=RandomForestClassifier(max_depth=10,\n",
       "                                                     max_features=0.75,\n",
       "                                                     n_estimators=50,\n",
       "                                                     random_state=0))"
      ]
     },
     "execution_count": 22,
     "metadata": {},
     "output_type": "execute_result"
    }
   ],
   "source": [
    "clf = OneVsRestClassifier(RandomForestClassifier(random_state=0,\n",
    "                                                 max_depth=10,  # 10\n",
    "                                                 min_samples_leaf=1, # 1\n",
    "                                                 max_features=0.75, # 0.75\n",
    "                                                 n_estimators=50,\n",
    "                                                 criterion='gini'))\n",
    "\n",
    "clf.fit(X_train, Y_train)"
   ]
  },
  {
   "cell_type": "markdown",
   "metadata": {},
   "source": [
    "# Evaluation of Random forest multilabels (one-vs-rest)"
   ]
  },
  {
   "cell_type": "code",
   "execution_count": 23,
   "metadata": {
    "scrolled": false
   },
   "outputs": [
    {
     "name": "stdout",
     "output_type": "stream",
     "text": [
      "Nombre de tags présents : 56448\n",
      "Nombre de tags prédits : 33100\n",
      "---------------------------------------------------------\n",
      "                    precision    recall  f1-score   support\n",
      "\n",
      "              .net       0.68      0.30      0.42      2619\n",
      "    actionscript-3       0.68      0.35      0.46       303\n",
      "              ajax       0.67      0.47      0.55       470\n",
      "         algorithm       0.63      0.35      0.45       333\n",
      "           android       0.96      0.78      0.86       438\n",
      "            apache       0.67      0.46      0.55       218\n",
      "       apache-flex       0.84      0.79      0.82       346\n",
      "            arrays       0.46      0.21      0.29       294\n",
      "           asp.net       0.79      0.60      0.69      2253\n",
      "       asp.net-mvc       0.84      0.79      0.81       811\n",
      "              bash       0.79      0.66      0.72       144\n",
      "                 c       0.50      0.06      0.10       802\n",
      "                c#       0.63      0.08      0.14      5163\n",
      "               c++       0.75      0.18      0.29      1858\n",
      "           caching       0.66      0.54      0.59       151\n",
      "             cocoa       0.89      0.33      0.48       337\n",
      "       cocoa-touch       0.71      0.06      0.11       331\n",
      "               css       0.80      0.59      0.68       807\n",
      "      data-binding       0.65      0.26      0.37       172\n",
      "          database       0.55      0.02      0.04       559\n",
      "   database-design       0.59      0.09      0.15       150\n",
      "         debugging       0.67      0.29      0.41       267\n",
      "            delphi       0.93      0.77      0.85       313\n",
      "   design-patterns       0.76      0.21      0.33       196\n",
      "            django       0.92      0.87      0.89       427\n",
      "           eclipse       0.81      0.77      0.79       283\n",
      "             email       0.60      0.44      0.51       153\n",
      "  entity-framework       0.88      0.73      0.80       180\n",
      "            events       0.57      0.04      0.08       194\n",
      "             excel       0.70      0.79      0.74       223\n",
      "         exception       0.58      0.10      0.18       182\n",
      "              file       0.00      0.00      0.00       205\n",
      "             flash       0.77      0.59      0.67       342\n",
      "             forms       0.00      0.00      0.00       216\n",
      "          generics       0.73      0.57      0.64       193\n",
      "               git       0.93      0.91      0.92       181\n",
      "         hibernate       0.83      0.84      0.83       186\n",
      "              html       0.64      0.27      0.38      1144\n",
      "              http       0.54      0.16      0.24       190\n",
      "               iis       0.63      0.38      0.47       197\n",
      "             image       0.56      0.02      0.04       238\n",
      "      installation       0.57      0.22      0.32       142\n",
      " internet-explorer       0.64      0.24      0.35       210\n",
      "            iphone       0.92      0.68      0.78      1594\n",
      "              java       0.82      0.67      0.74      3009\n",
      "        javascript       0.76      0.58      0.66      2156\n",
      "            jquery       0.88      0.83      0.85      1761\n",
      "              json       0.75      0.70      0.72       208\n",
      " language-agnostic       0.25      0.01      0.01       197\n",
      "              linq       0.73      0.55      0.63       396\n",
      "       linq-to-sql       0.74      0.72      0.73       261\n",
      "             linux       0.65      0.39      0.49       440\n",
      "             macos       0.68      0.35      0.46       287\n",
      "         ms-access       0.82      0.55      0.66       161\n",
      "    multithreading       0.64      0.55      0.59       387\n",
      "             mysql       0.84      0.74      0.79      1120\n",
      "        nhibernate       0.89      0.84      0.87       210\n",
      "       objective-c       0.76      0.28      0.41       753\n",
      "               oop       0.68      0.16      0.26       238\n",
      "            oracle       0.79      0.81      0.80       324\n",
      "           parsing       0.65      0.15      0.24       188\n",
      "       performance       0.55      0.14      0.22       411\n",
      "              perl       0.89      0.79      0.83       329\n",
      "               php       0.86      0.73      0.79      2376\n",
      "            python       0.88      0.73      0.80      1492\n",
      "             regex       0.85      0.77      0.81       499\n",
      "              ruby       0.84      0.52      0.64       603\n",
      "     ruby-on-rails       0.91      0.78      0.84       786\n",
      "          security       0.65      0.14      0.23       328\n",
      "        sharepoint       0.93      0.90      0.92       271\n",
      "       silverlight       0.86      0.86      0.86       282\n",
      "           sockets       0.69      0.57      0.63       162\n",
      "            spring       0.82      0.82      0.82       157\n",
      "               sql       0.63      0.30      0.40      1294\n",
      "        sql-server       0.66      0.57      0.61       990\n",
      "   sql-server-2005       0.00      0.00      0.00       328\n",
      "   sql-server-2008       0.00      0.00      0.00       146\n",
      "            string       0.50      0.00      0.01       364\n",
      "               svn       0.83      0.82      0.83       290\n",
      "             swing       0.65      0.51      0.57       191\n",
      "              tsql       0.78      0.30      0.44       242\n",
      "      unit-testing       0.80      0.58      0.67       272\n",
      "              unix       0.71      0.23      0.35       156\n",
      "    user-interface       0.55      0.08      0.14       292\n",
      "        validation       0.58      0.35      0.44       208\n",
      "            vb.net       0.78      0.41      0.54       581\n",
      "               vba       0.84      0.64      0.73       166\n",
      "   version-control       0.61      0.16      0.25       173\n",
      "        visual-c++       0.53      0.13      0.20       135\n",
      "     visual-studio       0.59      0.34      0.43       528\n",
      "visual-studio-2008       0.47      0.08      0.14       438\n",
      "               wcf       0.88      0.90      0.89       351\n",
      "      web-services       0.60      0.46      0.52       319\n",
      "            winapi       0.68      0.20      0.31       265\n",
      "           windows       0.66      0.04      0.07       649\n",
      "          winforms       0.71      0.42      0.53       526\n",
      "               wpf       0.89      0.80      0.85       753\n",
      "              xaml       0.67      0.39      0.49       150\n",
      "             xcode       0.82      0.44      0.58       185\n",
      "               xml       0.69      0.65      0.67       649\n",
      "\n",
      "         micro avg       0.79      0.46      0.58     56448\n",
      "         macro avg       0.69      0.44      0.51     56448\n",
      "      weighted avg       0.73      0.46      0.53     56448\n",
      "       samples avg       0.58      0.49      0.51     56448\n",
      "\n"
     ]
    }
   ],
   "source": [
    "evaluate_clf(clf, 'results/rand_forest_tfidf.csv', 'Random forest tfidf')"
   ]
  },
  {
   "cell_type": "code",
   "execution_count": null,
   "metadata": {},
   "outputs": [],
   "source": []
  }
 ],
 "metadata": {
  "kernelspec": {
   "display_name": "Python 3",
   "language": "python",
   "name": "python3"
  },
  "language_info": {
   "codemirror_mode": {
    "name": "ipython",
    "version": 3
   },
   "file_extension": ".py",
   "mimetype": "text/x-python",
   "name": "python",
   "nbconvert_exporter": "python",
   "pygments_lexer": "ipython3",
   "version": "3.8.5"
  }
 },
 "nbformat": 4,
 "nbformat_minor": 4
}
