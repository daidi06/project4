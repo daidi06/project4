{
 "cells": [
  {
   "cell_type": "markdown",
   "metadata": {},
   "source": [
    "<h1>Sommaire<span class=\"tocSkip\"></span></h1>\n",
    "</br>\n",
    "<div class=\"toc\">\n",
    "\t<ul class=\"toc-item\">\n",
    "\t\t<li>\n",
    "\t\t\t<span>\n",
    "\t\t\t\t<a href=\"#Import-des-données\" data-toc-modified-id=\"Import-des-données-1\"><span class=\"toc-item-num\">1&nbsp;&nbsp;</span>Import des données</a>\n",
    "\t\t\t</span>\n",
    "\t\t</li>\n",
    "\t\t<li>\n",
    "\t\t\t<span>\n",
    "\t\t\t\t<a href=\"#Préprocessing-Steps/Options\" data-toc-modified-id=\"Préprocessing-Steps/Options-2\"><span class=\"toc-item-num\">2&nbsp;&nbsp;</span>Préprocessing Steps/Options</a>\n",
    "\t\t\t</span>\n",
    "\t\t\t<ul class=\"toc-item\">\n",
    "\t\t\t\t<li><span><a href=\"#Cleaning-Data\" data-toc-modified-id=\"Cleaning-Data-2.1\"><span class=\"toc-item-num\">2.1&nbsp;&nbsp;</span>Cleaning Data</a></span>\n",
    "\t\t\t\t\t<ul class=\"toc-item\">\n",
    "\t\t\t\t\t\t\t<li><span><a href=\"#Clean-Tags\" data-toc-modified-id=\"Clean-Tags-2.2.1\"><span class=\"toc-item-num\">2.2.1&nbsp;&nbsp;</span>Clean Tags</a></span>\n",
    "\t\t\t\t\t\t\t</li>\n",
    "\t\t\t\t\t\t\t<li><span><a href=\"#Clean-Posts\" data-toc-modified-id=\"Clean-Posts-2.2.2\"><span class=\"toc-item-num\">2.2.2&nbsp;&nbsp;</span>Clean Posts</a></span>\n",
    "\t\t\t\t\t\t\t</li>\n",
    "\t\t\t\t\t</ul>\n",
    "\t\t\t\t</li>\n",
    "\t\t\t\t<li><span><a href=\"#Tokenize-(Gensim)\" data-toc-modified-id=\"Tokenize-(Gensim)-2.2\"><span class=\"toc-item-num\">2.2&nbsp;&nbsp;</span>Tokenize (Gensim)</a></span>\n",
    "\t\t\t\t</li>\n",
    "\t\t\t\t<li><span><a href=\"#Make-bigrams-/-trigram-with-Gensim\" data-toc-modified-id=\"Make-bigrams-/-trigram-with-Gensim-2.2\"><span class=\"toc-item-num\">2.2&nbsp;&nbsp;</span>Make bigrams / trigram with Gensim</a></span>\n",
    "\t\t\t\t</li>\n",
    "\t\t\t\t<li><span><a href=\"#Lemmatize-(Spacy)\" data-toc-modified-id=\"Lemmatize-(Spacy)-2.2\"><span class=\"toc-item-num\">2.2&nbsp;&nbsp;</span>Lemmatize (Spacy)</a></span>\n",
    "\t\t\t\t</li>\n",
    "\t\t\t</ul>\n",
    "\t\t</li>\n",
    "\t\t<li>\n",
    "\t\t\t<span>\n",
    "\t\t\t\t<a href=\"#Save-Corpus\" data-toc-modified-id=\"Save-Corpus-3\"><span class=\"toc-item-num\">3&nbsp;&nbsp;</span>Save Corpus</a>\n",
    "\t\t\t</span>\n",
    "\t\t</li>\n",
    "\t</ul>\n",
    "</div>"
   ]
  },
  {
   "cell_type": "code",
   "execution_count": 1,
   "metadata": {},
   "outputs": [],
   "source": [
    "import os\n",
    "import itertools\n",
    "import re\n",
    "import string\n",
    "import pandas as pd\n",
    "import glob\n",
    "import numpy as np\n",
    "import spacy\n",
    "import gensim\n",
    "\n",
    "\n",
    "from collections import defaultdict\n",
    "\n",
    "from bs4 import BeautifulSoup\n",
    "import nltk\n",
    "from nltk.corpus import stopwords\n",
    "from chardet.universaldetector import UniversalDetector"
   ]
  },
  {
   "cell_type": "markdown",
   "metadata": {},
   "source": [
    "# Import des données"
   ]
  },
  {
   "cell_type": "markdown",
   "metadata": {},
   "source": [
    "Nous avons importé 21 fichers csv à partir du site StackOverflow"
   ]
  },
  {
   "cell_type": "code",
   "execution_count": 2,
   "metadata": {},
   "outputs": [],
   "source": [
    "posts_path = os.path.normpath('Data/')"
   ]
  },
  {
   "cell_type": "code",
   "execution_count": 3,
   "metadata": {},
   "outputs": [
    {
     "name": "stdout",
     "output_type": "stream",
     "text": [
      "['Data\\\\QueryResults1.csv', 'Data\\\\QueryResults10.csv', 'Data\\\\QueryResults11.csv', 'Data\\\\QueryResults12.csv', 'Data\\\\QueryResults13.csv', 'Data\\\\QueryResults14.csv', 'Data\\\\QueryResults15.csv', 'Data\\\\QueryResults16.csv', 'Data\\\\QueryResults17.csv', 'Data\\\\QueryResults18.csv', 'Data\\\\QueryResults19.csv', 'Data\\\\QueryResults2.csv', 'Data\\\\QueryResults20.csv', 'Data\\\\QueryResults21.csv', 'Data\\\\QueryResults3.csv', 'Data\\\\QueryResults4.csv', 'Data\\\\QueryResults5.csv', 'Data\\\\QueryResults6.csv', 'Data\\\\QueryResults7.csv', 'Data\\\\QueryResults8.csv', 'Data\\\\QueryResults9.csv']\n"
     ]
    }
   ],
   "source": [
    "query_files = glob.glob(os.path.join(posts_path, '*'))\n",
    "print(query_files)"
   ]
  },
  {
   "cell_type": "code",
   "execution_count": 4,
   "metadata": {},
   "outputs": [
    {
     "name": "stdout",
     "output_type": "stream",
     "text": [
      "(552541, 23)\n"
     ]
    }
   ],
   "source": [
    "df_data = pd.concat([pd.read_csv(file)\n",
    "                     for file in query_files], ignore_index=True)\n",
    "\n",
    "print(df_data.shape)"
   ]
  },
  {
   "cell_type": "markdown",
   "metadata": {},
   "source": [
    "Après fusion des 21 fichiers csv, nous obtenons une base de données comportant 552.541 lignes et 23 vaqriables."
   ]
  },
  {
   "cell_type": "code",
   "execution_count": 5,
   "metadata": {
    "scrolled": true
   },
   "outputs": [
    {
     "data": {
      "text/plain": [
       "Index(['Id', 'PostTypeId', 'AcceptedAnswerId', 'ParentId', 'CreationDate',\n",
       "       'DeletionDate', 'Score', 'ViewCount', 'Body', 'OwnerUserId',\n",
       "       'OwnerDisplayName', 'LastEditorUserId', 'LastEditorDisplayName',\n",
       "       'LastEditDate', 'LastActivityDate', 'Title', 'Tags', 'AnswerCount',\n",
       "       'CommentCount', 'FavoriteCount', 'ClosedDate', 'CommunityOwnedDate',\n",
       "       'ContentLicense'],\n",
       "      dtype='object')"
      ]
     },
     "execution_count": 5,
     "metadata": {},
     "output_type": "execute_result"
    }
   ],
   "source": [
    "# Déterminons les variables de notre base de données\n",
    "df_data.columns"
   ]
  },
  {
   "cell_type": "markdown",
   "metadata": {},
   "source": [
    "Seuls les `Titles`, `Body` et `Tags` nous sont utiles pour notre étude."
   ]
  },
  {
   "cell_type": "code",
   "execution_count": 6,
   "metadata": {},
   "outputs": [],
   "source": [
    "data = df_data[['Title', 'Body', 'Tags']]"
   ]
  },
  {
   "cell_type": "code",
   "execution_count": 7,
   "metadata": {},
   "outputs": [
    {
     "data": {
      "text/plain": [
       "'<p>I want to use a <code>Track-Bar</code> to change a <code>Form</code>\\'s opacity.</p>\\n<p>This is my code:</p>\\n<pre class=\"lang-cs prettyprint-override\"><code>decimal trans = trackBar1.Value / 5000;\\nthis.Opacity = trans;\\n</code></pre>\\n<p>When I build the application, it gives the following error:</p>\\n<blockquote>\\n<p>Cannot implicitly convert type <code>decimal</code> to <code>double</code></p>\\n</blockquote>\\n<p>I have tried using <code>trans</code> and <code>double</code> but then the <code>Control</code> doesn\\'t work. This code worked fine in a past VB.NET project.</p>\\n'"
      ]
     },
     "execution_count": 7,
     "metadata": {},
     "output_type": "execute_result"
    }
   ],
   "source": [
    "# Affichons le premier element de la variable Body.\n",
    "data['Body'].iloc[0]"
   ]
  },
  {
   "cell_type": "code",
   "execution_count": 8,
   "metadata": {},
   "outputs": [
    {
     "data": {
      "text/plain": [
       "'Convert Decimal to Double'"
      ]
     },
     "execution_count": 8,
     "metadata": {},
     "output_type": "execute_result"
    }
   ],
   "source": [
    "# Affichons le premier element de la variable Title.\n",
    "data['Title'].iloc[0]"
   ]
  },
  {
   "cell_type": "code",
   "execution_count": 9,
   "metadata": {},
   "outputs": [
    {
     "data": {
      "text/plain": [
       "'<c#><floating-point><type-conversion><double><decimal>'"
      ]
     },
     "execution_count": 9,
     "metadata": {},
     "output_type": "execute_result"
    }
   ],
   "source": [
    "# Affichons le premier element de la variable Tags.\n",
    "data['Tags'].iloc[0]"
   ]
  },
  {
   "cell_type": "code",
   "execution_count": 10,
   "metadata": {
    "scrolled": true
   },
   "outputs": [
    {
     "data": {
      "text/plain": [
       "Title    1\n",
       "Body     0\n",
       "Tags     0\n",
       "dtype: int64"
      ]
     },
     "execution_count": 10,
     "metadata": {},
     "output_type": "execute_result"
    }
   ],
   "source": [
    "# Déterminons les données manquantes dans notre base de données\n",
    "data.isna().sum()"
   ]
  },
  {
   "cell_type": "markdown",
   "metadata": {},
   "source": [
    "Notre base de données comporte une seule valeur manquante qui se trouve au niveau de la variable Title.\n",
    "\n",
    "Nous allons eliminer les doublons au niveau de la variable `Body`."
   ]
  },
  {
   "cell_type": "code",
   "execution_count": 11,
   "metadata": {},
   "outputs": [
    {
     "data": {
      "text/plain": [
       "Title    551881\n",
       "Body     552487\n",
       "Tags     321536\n",
       "dtype: int64"
      ]
     },
     "execution_count": 11,
     "metadata": {},
     "output_type": "execute_result"
    }
   ],
   "source": [
    "data.nunique()"
   ]
  },
  {
   "cell_type": "code",
   "execution_count": 12,
   "metadata": {},
   "outputs": [
    {
     "data": {
      "text/plain": [
       "(552523, 3)"
      ]
     },
     "execution_count": 12,
     "metadata": {},
     "output_type": "execute_result"
    }
   ],
   "source": [
    "df_data1 = data.drop_duplicates(subset=['Title','Body']).copy()\n",
    "df_data1.shape"
   ]
  },
  {
   "cell_type": "code",
   "execution_count": 13,
   "metadata": {
    "scrolled": true
   },
   "outputs": [
    {
     "data": {
      "text/plain": [
       "(552487, 3)"
      ]
     },
     "execution_count": 13,
     "metadata": {},
     "output_type": "execute_result"
    }
   ],
   "source": [
    "df_dataFinal = df_data1.drop_duplicates(subset=['Body']).copy()\n",
    "df_dataFinal.shape"
   ]
  },
  {
   "cell_type": "markdown",
   "metadata": {},
   "source": [
    "Compte tenu des contraintes machines (puissance et mémoire) et contraintes de temps, nous allons procéder à un échantillonnage arbitraire de 200000 posts pour la suite de notre études."
   ]
  },
  {
   "cell_type": "code",
   "execution_count": 14,
   "metadata": {},
   "outputs": [
    {
     "data": {
      "text/html": [
       "<div>\n",
       "<style scoped>\n",
       "    .dataframe tbody tr th:only-of-type {\n",
       "        vertical-align: middle;\n",
       "    }\n",
       "\n",
       "    .dataframe tbody tr th {\n",
       "        vertical-align: top;\n",
       "    }\n",
       "\n",
       "    .dataframe thead th {\n",
       "        text-align: right;\n",
       "    }\n",
       "</style>\n",
       "<table border=\"1\" class=\"dataframe\">\n",
       "  <thead>\n",
       "    <tr style=\"text-align: right;\">\n",
       "      <th></th>\n",
       "      <th>Title</th>\n",
       "      <th>Body</th>\n",
       "      <th>Tags</th>\n",
       "    </tr>\n",
       "  </thead>\n",
       "  <tbody>\n",
       "    <tr>\n",
       "      <th>337049</th>\n",
       "      <td>How do I make a shrinkable scrollbar?</td>\n",
       "      <td>&lt;p&gt;&lt;strong&gt;What I want:&lt;/strong&gt;  &lt;/p&gt;\\n\\n&lt;pre...</td>\n",
       "      <td>&lt;html&gt;&lt;css&gt;&lt;scrollbars&gt;</td>\n",
       "    </tr>\n",
       "    <tr>\n",
       "      <th>478707</th>\n",
       "      <td>Do you prefer \"if (var)\" or \"if (var != 0)\"?</td>\n",
       "      <td>&lt;p&gt;I've been programming in C-derived language...</td>\n",
       "      <td>&lt;c&gt;&lt;perl&gt;&lt;coding-style&gt;</td>\n",
       "    </tr>\n",
       "    <tr>\n",
       "      <th>191651</th>\n",
       "      <td>SQL ServerReporting Services - Export report t...</td>\n",
       "      <td>&lt;p&gt;I have a report which has a document map fo...</td>\n",
       "      <td>&lt;c#&gt;&lt;asp.net&gt;&lt;reporting-services&gt;</td>\n",
       "    </tr>\n",
       "    <tr>\n",
       "      <th>228069</th>\n",
       "      <td>WIX: How can I register a new ISAPI Extension ...</td>\n",
       "      <td>&lt;p&gt;I've seen the &lt;a href=\"http://wix.sourcefor...</td>\n",
       "      <td>&lt;installation&gt;&lt;wix&gt;&lt;windows-installer&gt;&lt;isapi&gt;</td>\n",
       "    </tr>\n",
       "    <tr>\n",
       "      <th>26946</th>\n",
       "      <td>C# - Tetris clone - Can't get block to respond...</td>\n",
       "      <td>&lt;p&gt;I'm working on programming a Tetris game in...</td>\n",
       "      <td>&lt;c#&gt;&lt;keydown&gt;&lt;arrow-keys&gt;</td>\n",
       "    </tr>\n",
       "  </tbody>\n",
       "</table>\n",
       "</div>"
      ],
      "text/plain": [
       "                                                    Title  \\\n",
       "337049              How do I make a shrinkable scrollbar?   \n",
       "478707       Do you prefer \"if (var)\" or \"if (var != 0)\"?   \n",
       "191651  SQL ServerReporting Services - Export report t...   \n",
       "228069  WIX: How can I register a new ISAPI Extension ...   \n",
       "26946   C# - Tetris clone - Can't get block to respond...   \n",
       "\n",
       "                                                     Body  \\\n",
       "337049  <p><strong>What I want:</strong>  </p>\\n\\n<pre...   \n",
       "478707  <p>I've been programming in C-derived language...   \n",
       "191651  <p>I have a report which has a document map fo...   \n",
       "228069  <p>I've seen the <a href=\"http://wix.sourcefor...   \n",
       "26946   <p>I'm working on programming a Tetris game in...   \n",
       "\n",
       "                                                 Tags  \n",
       "337049                        <html><css><scrollbars>  \n",
       "478707                        <c><perl><coding-style>  \n",
       "191651              <c#><asp.net><reporting-services>  \n",
       "228069  <installation><wix><windows-installer><isapi>  \n",
       "26946                       <c#><keydown><arrow-keys>  "
      ]
     },
     "execution_count": 14,
     "metadata": {},
     "output_type": "execute_result"
    }
   ],
   "source": [
    "#sample 200,000 posts out of these 552,523 posts that we have.\n",
    "df_dataFinalSample = df_dataFinal.sample(n = 200000, replace=False, random_state=1)\n",
    "df_dataFinalSample.head()"
   ]
  },
  {
   "cell_type": "markdown",
   "metadata": {},
   "source": [
    "Après élimination des doublons nous obtenons 552.487 lignes et 3 variables (`Body`, `Tags` et `Title`)."
   ]
  },
  {
   "cell_type": "markdown",
   "metadata": {},
   "source": [
    "### Concatenate Title and Body"
   ]
  },
  {
   "cell_type": "code",
   "execution_count": 15,
   "metadata": {},
   "outputs": [
    {
     "data": {
      "text/html": [
       "<div>\n",
       "<style scoped>\n",
       "    .dataframe tbody tr th:only-of-type {\n",
       "        vertical-align: middle;\n",
       "    }\n",
       "\n",
       "    .dataframe tbody tr th {\n",
       "        vertical-align: top;\n",
       "    }\n",
       "\n",
       "    .dataframe thead th {\n",
       "        text-align: right;\n",
       "    }\n",
       "</style>\n",
       "<table border=\"1\" class=\"dataframe\">\n",
       "  <thead>\n",
       "    <tr style=\"text-align: right;\">\n",
       "      <th></th>\n",
       "      <th>Title</th>\n",
       "      <th>Body</th>\n",
       "      <th>Tags</th>\n",
       "      <th>Text</th>\n",
       "    </tr>\n",
       "  </thead>\n",
       "  <tbody>\n",
       "    <tr>\n",
       "      <th>337049</th>\n",
       "      <td>How do I make a shrinkable scrollbar?</td>\n",
       "      <td>&lt;p&gt;&lt;strong&gt;What I want:&lt;/strong&gt;  &lt;/p&gt;\\n\\n&lt;pre...</td>\n",
       "      <td>&lt;html&gt;&lt;css&gt;&lt;scrollbars&gt;</td>\n",
       "      <td>How do I make a shrinkable scrollbar? &lt;p&gt;&lt;stro...</td>\n",
       "    </tr>\n",
       "    <tr>\n",
       "      <th>478707</th>\n",
       "      <td>Do you prefer \"if (var)\" or \"if (var != 0)\"?</td>\n",
       "      <td>&lt;p&gt;I've been programming in C-derived language...</td>\n",
       "      <td>&lt;c&gt;&lt;perl&gt;&lt;coding-style&gt;</td>\n",
       "      <td>Do you prefer \"if (var)\" or \"if (var != 0)\"? &lt;...</td>\n",
       "    </tr>\n",
       "    <tr>\n",
       "      <th>191651</th>\n",
       "      <td>SQL ServerReporting Services - Export report t...</td>\n",
       "      <td>&lt;p&gt;I have a report which has a document map fo...</td>\n",
       "      <td>&lt;c#&gt;&lt;asp.net&gt;&lt;reporting-services&gt;</td>\n",
       "      <td>SQL ServerReporting Services - Export report t...</td>\n",
       "    </tr>\n",
       "    <tr>\n",
       "      <th>228069</th>\n",
       "      <td>WIX: How can I register a new ISAPI Extension ...</td>\n",
       "      <td>&lt;p&gt;I've seen the &lt;a href=\"http://wix.sourcefor...</td>\n",
       "      <td>&lt;installation&gt;&lt;wix&gt;&lt;windows-installer&gt;&lt;isapi&gt;</td>\n",
       "      <td>WIX: How can I register a new ISAPI Extension ...</td>\n",
       "    </tr>\n",
       "    <tr>\n",
       "      <th>26946</th>\n",
       "      <td>C# - Tetris clone - Can't get block to respond...</td>\n",
       "      <td>&lt;p&gt;I'm working on programming a Tetris game in...</td>\n",
       "      <td>&lt;c#&gt;&lt;keydown&gt;&lt;arrow-keys&gt;</td>\n",
       "      <td>C# - Tetris clone - Can't get block to respond...</td>\n",
       "    </tr>\n",
       "  </tbody>\n",
       "</table>\n",
       "</div>"
      ],
      "text/plain": [
       "                                                    Title  \\\n",
       "337049              How do I make a shrinkable scrollbar?   \n",
       "478707       Do you prefer \"if (var)\" or \"if (var != 0)\"?   \n",
       "191651  SQL ServerReporting Services - Export report t...   \n",
       "228069  WIX: How can I register a new ISAPI Extension ...   \n",
       "26946   C# - Tetris clone - Can't get block to respond...   \n",
       "\n",
       "                                                     Body  \\\n",
       "337049  <p><strong>What I want:</strong>  </p>\\n\\n<pre...   \n",
       "478707  <p>I've been programming in C-derived language...   \n",
       "191651  <p>I have a report which has a document map fo...   \n",
       "228069  <p>I've seen the <a href=\"http://wix.sourcefor...   \n",
       "26946   <p>I'm working on programming a Tetris game in...   \n",
       "\n",
       "                                                 Tags  \\\n",
       "337049                        <html><css><scrollbars>   \n",
       "478707                        <c><perl><coding-style>   \n",
       "191651              <c#><asp.net><reporting-services>   \n",
       "228069  <installation><wix><windows-installer><isapi>   \n",
       "26946                       <c#><keydown><arrow-keys>   \n",
       "\n",
       "                                                     Text  \n",
       "337049  How do I make a shrinkable scrollbar? <p><stro...  \n",
       "478707  Do you prefer \"if (var)\" or \"if (var != 0)\"? <...  \n",
       "191651  SQL ServerReporting Services - Export report t...  \n",
       "228069  WIX: How can I register a new ISAPI Extension ...  \n",
       "26946   C# - Tetris clone - Can't get block to respond...  "
      ]
     },
     "execution_count": 15,
     "metadata": {},
     "output_type": "execute_result"
    }
   ],
   "source": [
    "# concatenate title and body\n",
    "df_dataFinalSample.loc[:, 'Text'] = df_dataFinalSample['Title'].copy() + ' ' + df_dataFinalSample['Body'].copy()\n",
    "df_dataFinalSample.head()"
   ]
  },
  {
   "cell_type": "markdown",
   "metadata": {},
   "source": [
    "### Save"
   ]
  },
  {
   "cell_type": "code",
   "execution_count": 16,
   "metadata": {},
   "outputs": [],
   "source": [
    "# save data\n",
    "df_dataFinalSample.to_pickle('PickleData/raw_data.pkl')"
   ]
  },
  {
   "cell_type": "markdown",
   "metadata": {},
   "source": [
    "# Préprocessing Steps/Options"
   ]
  },
  {
   "cell_type": "markdown",
   "metadata": {},
   "source": [
    "## Cleaning Data"
   ]
  },
  {
   "cell_type": "markdown",
   "metadata": {},
   "source": [
    "### Clean Tags"
   ]
  },
  {
   "cell_type": "code",
   "execution_count": 17,
   "metadata": {},
   "outputs": [
    {
     "data": {
      "text/html": [
       "<div>\n",
       "<style scoped>\n",
       "    .dataframe tbody tr th:only-of-type {\n",
       "        vertical-align: middle;\n",
       "    }\n",
       "\n",
       "    .dataframe tbody tr th {\n",
       "        vertical-align: top;\n",
       "    }\n",
       "\n",
       "    .dataframe thead th {\n",
       "        text-align: right;\n",
       "    }\n",
       "</style>\n",
       "<table border=\"1\" class=\"dataframe\">\n",
       "  <thead>\n",
       "    <tr style=\"text-align: right;\">\n",
       "      <th></th>\n",
       "      <th>Title</th>\n",
       "      <th>Body</th>\n",
       "      <th>Tags</th>\n",
       "      <th>Text</th>\n",
       "    </tr>\n",
       "  </thead>\n",
       "  <tbody>\n",
       "    <tr>\n",
       "      <th>337049</th>\n",
       "      <td>How do I make a shrinkable scrollbar?</td>\n",
       "      <td>&lt;p&gt;&lt;strong&gt;What I want:&lt;/strong&gt;  &lt;/p&gt;\\n\\n&lt;pre...</td>\n",
       "      <td>[html, css, scrollbars]</td>\n",
       "      <td>How do I make a shrinkable scrollbar? &lt;p&gt;&lt;stro...</td>\n",
       "    </tr>\n",
       "    <tr>\n",
       "      <th>478707</th>\n",
       "      <td>Do you prefer \"if (var)\" or \"if (var != 0)\"?</td>\n",
       "      <td>&lt;p&gt;I've been programming in C-derived language...</td>\n",
       "      <td>[c, perl, coding-style]</td>\n",
       "      <td>Do you prefer \"if (var)\" or \"if (var != 0)\"? &lt;...</td>\n",
       "    </tr>\n",
       "    <tr>\n",
       "      <th>191651</th>\n",
       "      <td>SQL ServerReporting Services - Export report t...</td>\n",
       "      <td>&lt;p&gt;I have a report which has a document map fo...</td>\n",
       "      <td>[c#, asp.net, reporting-services]</td>\n",
       "      <td>SQL ServerReporting Services - Export report t...</td>\n",
       "    </tr>\n",
       "    <tr>\n",
       "      <th>228069</th>\n",
       "      <td>WIX: How can I register a new ISAPI Extension ...</td>\n",
       "      <td>&lt;p&gt;I've seen the &lt;a href=\"http://wix.sourcefor...</td>\n",
       "      <td>[installation, wix, windows-installer, isapi]</td>\n",
       "      <td>WIX: How can I register a new ISAPI Extension ...</td>\n",
       "    </tr>\n",
       "    <tr>\n",
       "      <th>26946</th>\n",
       "      <td>C# - Tetris clone - Can't get block to respond...</td>\n",
       "      <td>&lt;p&gt;I'm working on programming a Tetris game in...</td>\n",
       "      <td>[c#, keydown, arrow-keys]</td>\n",
       "      <td>C# - Tetris clone - Can't get block to respond...</td>\n",
       "    </tr>\n",
       "  </tbody>\n",
       "</table>\n",
       "</div>"
      ],
      "text/plain": [
       "                                                    Title  \\\n",
       "337049              How do I make a shrinkable scrollbar?   \n",
       "478707       Do you prefer \"if (var)\" or \"if (var != 0)\"?   \n",
       "191651  SQL ServerReporting Services - Export report t...   \n",
       "228069  WIX: How can I register a new ISAPI Extension ...   \n",
       "26946   C# - Tetris clone - Can't get block to respond...   \n",
       "\n",
       "                                                     Body  \\\n",
       "337049  <p><strong>What I want:</strong>  </p>\\n\\n<pre...   \n",
       "478707  <p>I've been programming in C-derived language...   \n",
       "191651  <p>I have a report which has a document map fo...   \n",
       "228069  <p>I've seen the <a href=\"http://wix.sourcefor...   \n",
       "26946   <p>I'm working on programming a Tetris game in...   \n",
       "\n",
       "                                                 Tags  \\\n",
       "337049                        [html, css, scrollbars]   \n",
       "478707                        [c, perl, coding-style]   \n",
       "191651              [c#, asp.net, reporting-services]   \n",
       "228069  [installation, wix, windows-installer, isapi]   \n",
       "26946                       [c#, keydown, arrow-keys]   \n",
       "\n",
       "                                                     Text  \n",
       "337049  How do I make a shrinkable scrollbar? <p><stro...  \n",
       "478707  Do you prefer \"if (var)\" or \"if (var != 0)\"? <...  \n",
       "191651  SQL ServerReporting Services - Export report t...  \n",
       "228069  WIX: How can I register a new ISAPI Extension ...  \n",
       "26946   C# - Tetris clone - Can't get block to respond...  "
      ]
     },
     "execution_count": 17,
     "metadata": {},
     "output_type": "execute_result"
    }
   ],
   "source": [
    "def get_tags(tags):\n",
    "    \"\"\"\n",
    "        Transform a string of tags into a list of tags\n",
    "        \n",
    "        return: list of tags\n",
    "    \"\"\"\n",
    "    try:\n",
    "        tags = re.findall(r'<(.*?)>', tags)\n",
    "        return tags\n",
    "    except:\n",
    "        return None\n",
    "    \n",
    "df_dataFinalSample.loc[:, 'Tags'] = df_dataFinalSample['Tags'].apply(get_tags)\n",
    "\n",
    "df_dataFinalSample.head()"
   ]
  },
  {
   "cell_type": "markdown",
   "metadata": {},
   "source": [
    "### Clean Posts"
   ]
  },
  {
   "cell_type": "code",
   "execution_count": 18,
   "metadata": {
    "scrolled": true
   },
   "outputs": [
    {
     "name": "stdout",
     "output_type": "stream",
     "text": [
      "Nombre d'erreurs : 0\n",
      "Nombre de posts avant traitement : 200000\n",
      "Nombre de posts après suppression des erreurs : 200000\n"
     ]
    },
    {
     "data": {
      "text/html": [
       "<div>\n",
       "<style scoped>\n",
       "    .dataframe tbody tr th:only-of-type {\n",
       "        vertical-align: middle;\n",
       "    }\n",
       "\n",
       "    .dataframe tbody tr th {\n",
       "        vertical-align: top;\n",
       "    }\n",
       "\n",
       "    .dataframe thead th {\n",
       "        text-align: right;\n",
       "    }\n",
       "</style>\n",
       "<table border=\"1\" class=\"dataframe\">\n",
       "  <thead>\n",
       "    <tr style=\"text-align: right;\">\n",
       "      <th></th>\n",
       "      <th>Title</th>\n",
       "      <th>Body</th>\n",
       "      <th>Tags</th>\n",
       "      <th>Text</th>\n",
       "    </tr>\n",
       "  </thead>\n",
       "  <tbody>\n",
       "    <tr>\n",
       "      <th>337049</th>\n",
       "      <td>How do I make a shrinkable scrollbar?</td>\n",
       "      <td>&lt;p&gt;&lt;strong&gt;What I want:&lt;/strong&gt;  &lt;/p&gt;\\n\\n&lt;pre...</td>\n",
       "      <td>[html, css, scrollbars]</td>\n",
       "      <td>how do i make a shrinkable scrollbar what i wa...</td>\n",
       "    </tr>\n",
       "    <tr>\n",
       "      <th>478707</th>\n",
       "      <td>Do you prefer \"if (var)\" or \"if (var != 0)\"?</td>\n",
       "      <td>&lt;p&gt;I've been programming in C-derived language...</td>\n",
       "      <td>[c, perl, coding-style]</td>\n",
       "      <td>do you prefer if  var  or if  var  0  ive been...</td>\n",
       "    </tr>\n",
       "    <tr>\n",
       "      <th>191651</th>\n",
       "      <td>SQL ServerReporting Services - Export report t...</td>\n",
       "      <td>&lt;p&gt;I have a report which has a document map fo...</td>\n",
       "      <td>[c#, asp.net, reporting-services]</td>\n",
       "      <td>sql serverreporting services  export report to...</td>\n",
       "    </tr>\n",
       "    <tr>\n",
       "      <th>228069</th>\n",
       "      <td>WIX: How can I register a new ISAPI Extension ...</td>\n",
       "      <td>&lt;p&gt;I've seen the &lt;a href=\"http://wix.sourcefor...</td>\n",
       "      <td>[installation, wix, windows-installer, isapi]</td>\n",
       "      <td>wix how can i register a new isapi extension o...</td>\n",
       "    </tr>\n",
       "    <tr>\n",
       "      <th>26946</th>\n",
       "      <td>C# - Tetris clone - Can't get block to respond...</td>\n",
       "      <td>&lt;p&gt;I'm working on programming a Tetris game in...</td>\n",
       "      <td>[c#, keydown, arrow-keys]</td>\n",
       "      <td>c#  tetris clone  cant get block to respond pr...</td>\n",
       "    </tr>\n",
       "  </tbody>\n",
       "</table>\n",
       "</div>"
      ],
      "text/plain": [
       "                                                    Title  \\\n",
       "337049              How do I make a shrinkable scrollbar?   \n",
       "478707       Do you prefer \"if (var)\" or \"if (var != 0)\"?   \n",
       "191651  SQL ServerReporting Services - Export report t...   \n",
       "228069  WIX: How can I register a new ISAPI Extension ...   \n",
       "26946   C# - Tetris clone - Can't get block to respond...   \n",
       "\n",
       "                                                     Body  \\\n",
       "337049  <p><strong>What I want:</strong>  </p>\\n\\n<pre...   \n",
       "478707  <p>I've been programming in C-derived language...   \n",
       "191651  <p>I have a report which has a document map fo...   \n",
       "228069  <p>I've seen the <a href=\"http://wix.sourcefor...   \n",
       "26946   <p>I'm working on programming a Tetris game in...   \n",
       "\n",
       "                                                 Tags  \\\n",
       "337049                        [html, css, scrollbars]   \n",
       "478707                        [c, perl, coding-style]   \n",
       "191651              [c#, asp.net, reporting-services]   \n",
       "228069  [installation, wix, windows-installer, isapi]   \n",
       "26946                       [c#, keydown, arrow-keys]   \n",
       "\n",
       "                                                     Text  \n",
       "337049  how do i make a shrinkable scrollbar what i wa...  \n",
       "478707  do you prefer if  var  or if  var  0  ive been...  \n",
       "191651  sql serverreporting services  export report to...  \n",
       "228069  wix how can i register a new isapi extension o...  \n",
       "26946   c#  tetris clone  cant get block to respond pr...  "
      ]
     },
     "execution_count": 18,
     "metadata": {},
     "output_type": "execute_result"
    }
   ],
   "source": [
    "# Transform the text into a list of main tokens\n",
    "def post_prepare(post, REPLACE_BY_SPACE, BAD_SYMBOLS):\n",
    "    \"\"\"\n",
    "        Transform a post into a list of main tokens\n",
    "        \n",
    "        return: list of tokens\n",
    "    \"\"\"\n",
    "    post = BeautifulSoup(post)\n",
    "    try:\n",
    "        # delete url tag and code tag\n",
    "        for tag in post.find_all(['a', 'code']):\n",
    "            tag.decompose()\n",
    "        text = post.text\n",
    "        text = text.lower() #lowercase text\n",
    "        text = re.sub(REPLACE_BY_SPACE, \" \", text) # replace REPLACE_BY_SPACE symbols by space in text\n",
    "        text = re.sub(BAD_SYMBOLS, \"\", text) # delete symbols which are in BAD_SYMBOLS from text\n",
    "\n",
    "    except:\n",
    "        text = 'ERROR'\n",
    "    return text\n",
    "\n",
    "\n",
    "REPLACE_BY_SPACE = re.compile('[/(){}\\[\\]\\|@,;]')\n",
    "BAD_SYMBOLS = re.compile('[^0-9a-z #+_]')\n",
    "for index, row in df_dataFinalSample.iterrows():\n",
    "    df_dataFinalSample.loc[index, 'Text'] = post_prepare(row['Text'], REPLACE_BY_SPACE, BAD_SYMBOLS)\n",
    "\n",
    "print('Nombre d\\'erreurs : {}'.format(\n",
    "    df_dataFinalSample['Text'].loc[df_dataFinalSample['Text'] == 'ERROR'].shape[0]))\n",
    "\n",
    "# suppression posts avec erreur\n",
    "print('Nombre de posts avant traitement : {}'.format(df_dataFinalSample.shape[0]))\n",
    "df_dataFinalSample = df_dataFinalSample.loc[df_dataFinalSample['Text'] != 'ERROR']\n",
    "print('Nombre de posts après suppression des erreurs : {}'.format(df_dataFinalSample.shape[0]))    \n",
    "\n",
    "df_dataFinalSample.head()"
   ]
  },
  {
   "cell_type": "code",
   "execution_count": 19,
   "metadata": {},
   "outputs": [],
   "source": [
    "# keep raw data\n",
    "df_dataFinalSample['raw'] = df_dataFinalSample['Text'].copy()"
   ]
  },
  {
   "cell_type": "markdown",
   "metadata": {},
   "source": [
    "## Tokenize (Gensim)"
   ]
  },
  {
   "cell_type": "code",
   "execution_count": 20,
   "metadata": {},
   "outputs": [],
   "source": [
    "# Tokenize & Remove stopwords\n",
    "\n",
    "mystopwords = set(stopwords.words('english')) | set(string.punctuation)\n",
    "\n",
    "\n",
    "def tokenize_text(text):\n",
    "    # tokenize, normalize and filter number\n",
    "    words = list(gensim.utils.tokenize(text, lowercase=True)) # tokenize, normalize and filter number\n",
    "    # stop words\n",
    "    words = [x for x in words if x not in mystopwords] # stop words\n",
    "    return words"
   ]
  },
  {
   "cell_type": "code",
   "execution_count": 21,
   "metadata": {},
   "outputs": [
    {
     "data": {
      "text/plain": [
       "337049    [make, shrinkable, scrollbar, want, notice, sh...\n",
       "478707    [prefer, var, var, ive, programming, cderived,...\n",
       "191651    [sql, serverreporting, services, export, repor...\n",
       "228069    [wix, register, new, isapi, extension, script,...\n",
       "26946     [c, tetris, clone, cant, get, block, respond, ...\n",
       "Name: Text, dtype: object"
      ]
     },
     "execution_count": 21,
     "metadata": {},
     "output_type": "execute_result"
    }
   ],
   "source": [
    "df_dataFinalSample.loc[:, 'Text'] = df_dataFinalSample['Text'].apply(tokenize_text)\n",
    "df_dataFinalSample['Text'].head(5)"
   ]
  },
  {
   "cell_type": "markdown",
   "metadata": {},
   "source": [
    "Après traitement, il se peut que des posts soient vide et donc nous allons rechercher ces indexes de ces postes vites et les supprimer de notre base de données."
   ]
  },
  {
   "cell_type": "code",
   "execution_count": 22,
   "metadata": {},
   "outputs": [
    {
     "name": "stdout",
     "output_type": "stream",
     "text": [
      "Nombre de posts vides : 5\n"
     ]
    }
   ],
   "source": [
    "NumOfNulText = 0\n",
    "NulTextIndex = []\n",
    "for index, row in df_dataFinalSample.iterrows():\n",
    "    num = len(row['Text'])\n",
    "    if num == 0:\n",
    "        NumOfNulText = NumOfNulText+1\n",
    "        NulTextIndex.append(index)\n",
    "\n",
    "print('Nombre de posts vides : {}'.format(NumOfNulText))"
   ]
  },
  {
   "cell_type": "code",
   "execution_count": 23,
   "metadata": {},
   "outputs": [
    {
     "data": {
      "text/html": [
       "<div>\n",
       "<style scoped>\n",
       "    .dataframe tbody tr th:only-of-type {\n",
       "        vertical-align: middle;\n",
       "    }\n",
       "\n",
       "    .dataframe tbody tr th {\n",
       "        vertical-align: top;\n",
       "    }\n",
       "\n",
       "    .dataframe thead th {\n",
       "        text-align: right;\n",
       "    }\n",
       "</style>\n",
       "<table border=\"1\" class=\"dataframe\">\n",
       "  <thead>\n",
       "    <tr style=\"text-align: right;\">\n",
       "      <th></th>\n",
       "      <th>Title</th>\n",
       "      <th>Body</th>\n",
       "      <th>Tags</th>\n",
       "      <th>Text</th>\n",
       "      <th>raw</th>\n",
       "    </tr>\n",
       "  </thead>\n",
       "  <tbody>\n",
       "    <tr>\n",
       "      <th>337049</th>\n",
       "      <td>How do I make a shrinkable scrollbar?</td>\n",
       "      <td>&lt;p&gt;&lt;strong&gt;What I want:&lt;/strong&gt;  &lt;/p&gt;\\n\\n&lt;pre...</td>\n",
       "      <td>[html, css, scrollbars]</td>\n",
       "      <td>[make, shrinkable, scrollbar, want, notice, sh...</td>\n",
       "      <td>how do i make a shrinkable scrollbar what i wa...</td>\n",
       "    </tr>\n",
       "    <tr>\n",
       "      <th>478707</th>\n",
       "      <td>Do you prefer \"if (var)\" or \"if (var != 0)\"?</td>\n",
       "      <td>&lt;p&gt;I've been programming in C-derived language...</td>\n",
       "      <td>[c, perl, coding-style]</td>\n",
       "      <td>[prefer, var, var, ive, programming, cderived,...</td>\n",
       "      <td>do you prefer if  var  or if  var  0  ive been...</td>\n",
       "    </tr>\n",
       "    <tr>\n",
       "      <th>191651</th>\n",
       "      <td>SQL ServerReporting Services - Export report t...</td>\n",
       "      <td>&lt;p&gt;I have a report which has a document map fo...</td>\n",
       "      <td>[c#, asp.net, reporting-services]</td>\n",
       "      <td>[sql, serverreporting, services, export, repor...</td>\n",
       "      <td>sql serverreporting services  export report to...</td>\n",
       "    </tr>\n",
       "    <tr>\n",
       "      <th>228069</th>\n",
       "      <td>WIX: How can I register a new ISAPI Extension ...</td>\n",
       "      <td>&lt;p&gt;I've seen the &lt;a href=\"http://wix.sourcefor...</td>\n",
       "      <td>[installation, wix, windows-installer, isapi]</td>\n",
       "      <td>[wix, register, new, isapi, extension, script,...</td>\n",
       "      <td>wix how can i register a new isapi extension o...</td>\n",
       "    </tr>\n",
       "    <tr>\n",
       "      <th>26946</th>\n",
       "      <td>C# - Tetris clone - Can't get block to respond...</td>\n",
       "      <td>&lt;p&gt;I'm working on programming a Tetris game in...</td>\n",
       "      <td>[c#, keydown, arrow-keys]</td>\n",
       "      <td>[c, tetris, clone, cant, get, block, respond, ...</td>\n",
       "      <td>c#  tetris clone  cant get block to respond pr...</td>\n",
       "    </tr>\n",
       "  </tbody>\n",
       "</table>\n",
       "</div>"
      ],
      "text/plain": [
       "                                                    Title  \\\n",
       "337049              How do I make a shrinkable scrollbar?   \n",
       "478707       Do you prefer \"if (var)\" or \"if (var != 0)\"?   \n",
       "191651  SQL ServerReporting Services - Export report t...   \n",
       "228069  WIX: How can I register a new ISAPI Extension ...   \n",
       "26946   C# - Tetris clone - Can't get block to respond...   \n",
       "\n",
       "                                                     Body  \\\n",
       "337049  <p><strong>What I want:</strong>  </p>\\n\\n<pre...   \n",
       "478707  <p>I've been programming in C-derived language...   \n",
       "191651  <p>I have a report which has a document map fo...   \n",
       "228069  <p>I've seen the <a href=\"http://wix.sourcefor...   \n",
       "26946   <p>I'm working on programming a Tetris game in...   \n",
       "\n",
       "                                                 Tags  \\\n",
       "337049                        [html, css, scrollbars]   \n",
       "478707                        [c, perl, coding-style]   \n",
       "191651              [c#, asp.net, reporting-services]   \n",
       "228069  [installation, wix, windows-installer, isapi]   \n",
       "26946                       [c#, keydown, arrow-keys]   \n",
       "\n",
       "                                                     Text  \\\n",
       "337049  [make, shrinkable, scrollbar, want, notice, sh...   \n",
       "478707  [prefer, var, var, ive, programming, cderived,...   \n",
       "191651  [sql, serverreporting, services, export, repor...   \n",
       "228069  [wix, register, new, isapi, extension, script,...   \n",
       "26946   [c, tetris, clone, cant, get, block, respond, ...   \n",
       "\n",
       "                                                      raw  \n",
       "337049  how do i make a shrinkable scrollbar what i wa...  \n",
       "478707  do you prefer if  var  or if  var  0  ive been...  \n",
       "191651  sql serverreporting services  export report to...  \n",
       "228069  wix how can i register a new isapi extension o...  \n",
       "26946   c#  tetris clone  cant get block to respond pr...  "
      ]
     },
     "execution_count": 23,
     "metadata": {},
     "output_type": "execute_result"
    }
   ],
   "source": [
    "# Supression des posts vides\n",
    "df_dataFinalSample = df_dataFinalSample.drop(NulTextIndex)\n",
    "df_dataFinalSample.head()"
   ]
  },
  {
   "cell_type": "markdown",
   "metadata": {},
   "source": [
    "## Make bigrams / trigram with Gensim"
   ]
  },
  {
   "cell_type": "code",
   "execution_count": 24,
   "metadata": {},
   "outputs": [],
   "source": [
    "# Build the bigram and trigram models\n",
    "bigram = gensim.models.Phrases(df_dataFinalSample['Text'], min_count=50, threshold=1000) # higher threshold fewer phrases.\n",
    "trigram = gensim.models.Phrases(bigram[df_dataFinalSample['Text']], threshold=1000)\n",
    "# Faster way to get a sentence clubbed as a trigram/bigram\n",
    "bigram_mod = gensim.models.phrases.Phraser(bigram)\n",
    "trigram_mod = gensim.models.phrases.Phraser(trigram)\n",
    "\n",
    "# save bigram and trigram model for heroku app\n",
    "bigram_mod.save('HerokuApp/bigram_model')\n",
    "trigram_mod.save('HerokuApp/trigram_model')"
   ]
  },
  {
   "cell_type": "code",
   "execution_count": 25,
   "metadata": {},
   "outputs": [
    {
     "data": {
      "text/plain": [
       "337049    [make, shrinkable, scrollbar, want, notice, sh...\n",
       "478707    [prefer, var, var, ive, programming, cderived,...\n",
       "191651    [sql, serverreporting, services, export, repor...\n",
       "228069    [wix, register, new, isapi, extension, script,...\n",
       "26946     [c, tetris, clone, cant, get, block, respond, ...\n",
       "Name: Text, dtype: object"
      ]
     },
     "execution_count": 25,
     "metadata": {},
     "output_type": "execute_result"
    }
   ],
   "source": [
    "def make_bigrams(text):\n",
    "    return bigram_mod[text]\n",
    "\n",
    "def make_trigrams(text):\n",
    "    return trigram_mod[text]\n",
    "\n",
    "df_dataFinalSample.loc[:, 'Text'] = df_dataFinalSample['Text'].apply(make_bigrams)\n",
    "df_dataFinalSample.loc[:, 'Text'] = df_dataFinalSample['Text'].apply(make_trigrams)\n",
    "df_dataFinalSample['Text'].head(5)"
   ]
  },
  {
   "cell_type": "markdown",
   "metadata": {},
   "source": [
    "## Lemmatize (Spacy)"
   ]
  },
  {
   "cell_type": "code",
   "execution_count": 26,
   "metadata": {
    "scrolled": true
   },
   "outputs": [
    {
     "data": {
      "text/plain": [
       "337049    [make, shrinkable, scrollbar, want, notice, sh...\n",
       "478707    [prefer, var, var, -PRON-, have, program, cder...\n",
       "191651    [sql, serverreporte, services, export, report,...\n",
       "228069    [wix, register, new, isapi, extension, script,...\n",
       "26946     [c, tetris, clone, can, not, get, block, respo...\n",
       "Name: Text, dtype: object"
      ]
     },
     "execution_count": 26,
     "metadata": {},
     "output_type": "execute_result"
    }
   ],
   "source": [
    "#!python -m spacy download en\n",
    "nlp = spacy.load('en')\n",
    "\n",
    "def lemmatize(text):\n",
    "    text = ' '.join(text)\n",
    "    doc = nlp(text)\n",
    "    text = [token.lemma_ for token in doc]\n",
    "    return text\n",
    "\n",
    "df_dataFinalSample.loc[:, 'Text'] = df_dataFinalSample['Text'].apply(lemmatize)\n",
    "df_dataFinalSample['Text'].head(5)"
   ]
  },
  {
   "cell_type": "code",
   "execution_count": 27,
   "metadata": {},
   "outputs": [
    {
     "data": {
      "text/plain": [
       "(199995, 5)"
      ]
     },
     "execution_count": 27,
     "metadata": {},
     "output_type": "execute_result"
    }
   ],
   "source": [
    "df_dataFinalSample.shape"
   ]
  },
  {
   "cell_type": "markdown",
   "metadata": {},
   "source": [
    "# Save Corpus"
   ]
  },
  {
   "cell_type": "code",
   "execution_count": 28,
   "metadata": {},
   "outputs": [],
   "source": [
    "df_dataFinalSample.to_pickle('PickleData/corpus.pkl')"
   ]
  },
  {
   "cell_type": "code",
   "execution_count": null,
   "metadata": {},
   "outputs": [],
   "source": []
  }
 ],
 "metadata": {
  "kernelspec": {
   "display_name": "Python 3",
   "language": "python",
   "name": "python3"
  },
  "language_info": {
   "codemirror_mode": {
    "name": "ipython",
    "version": 3
   },
   "file_extension": ".py",
   "mimetype": "text/x-python",
   "name": "python",
   "nbconvert_exporter": "python",
   "pygments_lexer": "ipython3",
   "version": "3.7.9"
  }
 },
 "nbformat": 4,
 "nbformat_minor": 4
}
