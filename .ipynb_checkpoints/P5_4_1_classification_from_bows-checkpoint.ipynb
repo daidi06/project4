{
 "cells": [
  {
   "cell_type": "markdown",
   "metadata": {},
   "source": [
    "<h1>Sommaire<span class=\"tocSkip\"></span></h1>\n",
    "<div class=\"toc\"><ul class=\"toc-item\"><li><span><a href=\"#Import-data\" data-toc-modified-id=\"Import-data-1\"><span class=\"toc-item-num\">1&nbsp;&nbsp;</span>Import data</a></span><ul class=\"toc-item\"><li><span><a href=\"#Train-set\" data-toc-modified-id=\"Train-set-1.1\"><span class=\"toc-item-num\">1.1&nbsp;&nbsp;</span>Train set</a></span></li><li><span><a href=\"#Val-set\" data-toc-modified-id=\"Val-set-1.2\"><span class=\"toc-item-num\">1.2&nbsp;&nbsp;</span>Val set</a></span></li></ul></li><li><span><a href=\"#Prepare-data\" data-toc-modified-id=\"Prepare-data-2\"><span class=\"toc-item-num\">2&nbsp;&nbsp;</span>Prepare data</a></span><ul class=\"toc-item\"><li><span><a href=\"#Bag-of-words-post\" data-toc-modified-id=\"Bag-of-words-post-2.1\"><span class=\"toc-item-num\">2.1&nbsp;&nbsp;</span>Bag of words post</a></span></li><li><span><a href=\"#Binarize-tags\" data-toc-modified-id=\"Binarize-tags-2.2\"><span class=\"toc-item-num\">2.2&nbsp;&nbsp;</span>Binarize tags</a></span></li></ul></li><li><span><a href=\"#Logistic-regression-multilabels-(one-vs-rest)\" data-toc-modified-id=\"Logistic-regression-multilabels-(one-vs-rest)-3\"><span class=\"toc-item-num\">3&nbsp;&nbsp;</span>Logistic regression multilabels (one vs rest)</a></span></li><li><span><a href=\"#Evaluation-of-Logistic-regression-multilabels-(one-vs-rest)\" data-toc-modified-id=\"Evaluation-of-Logistic-regression-multilabels-(one-vs-rest)-3\"><span class=\"toc-item-num\">4&nbsp;&nbsp;</span>Evaluation of Logistic regression multilabels (one vs rest)</a></span></li><li><span><a href=\"#SVM-multilabels-(one-vs-rest)\" data-toc-modified-id=\"SVM-multilabels-(one-vs-rest)-4\"><span class=\"toc-item-num\">5&nbsp;&nbsp;</span>SVM multilabels (one vs rest)</a></span></li><li><span><a href=\"#Evaluation-of-SVM-multilabels-(one-vs-rest)\" data-toc-modified-id=\"Evaluation-of-SVM-multilabels-(one-vs-rest)-4\"><span class=\"toc-item-num\">6&nbsp;&nbsp;</span>Evaluation of SVM multilabels (one vs rest)</a></span></li><li><span><a href=\"#Random-forest-multilabels-(one-vs-rest)\" data-toc-modified-id=\"Random-forest-multilabels-(one-vs-rest)-5\"><span class=\"toc-item-num\">7&nbsp;&nbsp;</span>Random forest multilabels (one vs rest)</a></span></li><li><span><a href=\"#Evaluation-of-Random-forest-multilabels-(one-vs-rest)\" data-toc-modified-id=\"Evaluation-of-Random-forest-multilabels-(one-vs-rest)-5\"><span class=\"toc-item-num\">8&nbsp;&nbsp;</span>Evaluation of Random forest multilabels (one vs rest)</a></span></li></ul></div>"
   ]
  },
  {
   "cell_type": "code",
   "execution_count": 1,
   "metadata": {},
   "outputs": [],
   "source": [
    "import os\n",
    "import pandas as pd\n",
    "import glob\n",
    "import numpy as np\n",
    "import pickle\n",
    "import gensim\n",
    "import matplotlib.pyplot as plt\n",
    "\n",
    "from sklearn.feature_extraction.text import CountVectorizer\n",
    "from sklearn.preprocessing import MultiLabelBinarizer\n",
    "from sklearn.linear_model import LogisticRegression\n",
    "from sklearn.discriminant_analysis import LinearDiscriminantAnalysis\n",
    "from sklearn.svm import LinearSVC\n",
    "from sklearn.naive_bayes import MultinomialNB\n",
    "from lightgbm import LGBMClassifier\n",
    "from sklearn.ensemble import RandomForestClassifier\n",
    "from sklearn.multiclass import OneVsRestClassifier\n",
    "from sklearn.metrics import f1_score, classification_report\n",
    "from sklearn.model_selection import GridSearchCV"
   ]
  },
  {
   "cell_type": "markdown",
   "metadata": {},
   "source": [
    "# Import data"
   ]
  },
  {
   "cell_type": "markdown",
   "metadata": {},
   "source": [
    "## Train set"
   ]
  },
  {
   "cell_type": "code",
   "execution_count": null,
   "metadata": {},
   "outputs": [],
   "source": [
    "# post\n",
    "df_X_train = pd.read_pickle('train/X_train_filtre.pkl')\n",
    "df_X_train.head()"
   ]
  },
  {
   "cell_type": "code",
   "execution_count": 3,
   "metadata": {
    "scrolled": true
   },
   "outputs": [
    {
     "data": {
      "text/html": [
       "<div>\n",
       "<style scoped>\n",
       "    .dataframe tbody tr th:only-of-type {\n",
       "        vertical-align: middle;\n",
       "    }\n",
       "\n",
       "    .dataframe tbody tr th {\n",
       "        vertical-align: top;\n",
       "    }\n",
       "\n",
       "    .dataframe thead th {\n",
       "        text-align: right;\n",
       "    }\n",
       "</style>\n",
       "<table border=\"1\" class=\"dataframe\">\n",
       "  <thead>\n",
       "    <tr style=\"text-align: right;\">\n",
       "      <th></th>\n",
       "      <th>text_small</th>\n",
       "    </tr>\n",
       "  </thead>\n",
       "  <tbody>\n",
       "    <tr>\n",
       "      <th>195918</th>\n",
       "      <td>[store, part, separate, page, whenever, prepar...</td>\n",
       "    </tr>\n",
       "    <tr>\n",
       "      <th>495592</th>\n",
       "      <td>[tool, php, web, developer, live, without, lot...</td>\n",
       "    </tr>\n",
       "    <tr>\n",
       "      <th>451531</th>\n",
       "      <td>[long, string, newline, tell, compiler, string...</td>\n",
       "    </tr>\n",
       "    <tr>\n",
       "      <th>542821</th>\n",
       "      <td>[character, pointers, consider, point, area, m...</td>\n",
       "    </tr>\n",
       "    <tr>\n",
       "      <th>549984</th>\n",
       "      <td>[install, without, desktop, ubuntu, support, p...</td>\n",
       "    </tr>\n",
       "  </tbody>\n",
       "</table>\n",
       "</div>"
      ],
      "text/plain": [
       "                                               text_small\n",
       "195918  [store, part, separate, page, whenever, prepar...\n",
       "495592  [tool, php, web, developer, live, without, lot...\n",
       "451531  [long, string, newline, tell, compiler, string...\n",
       "542821  [character, pointers, consider, point, area, m...\n",
       "549984  [install, without, desktop, ubuntu, support, p..."
      ]
     },
     "execution_count": 3,
     "metadata": {},
     "output_type": "execute_result"
    }
   ],
   "source": [
    "# on garde le corpus 'text_small'\n",
    "df_X_train = df_X_train.drop(columns=['Text', 'text_large'])\n",
    "df_X_train.head()"
   ]
  },
  {
   "cell_type": "code",
   "execution_count": 4,
   "metadata": {},
   "outputs": [
    {
     "data": {
      "text/plain": [
       "(103225, 1)"
      ]
     },
     "execution_count": 4,
     "metadata": {},
     "output_type": "execute_result"
    }
   ],
   "source": [
    "df_X_train.shape"
   ]
  },
  {
   "cell_type": "code",
   "execution_count": 5,
   "metadata": {},
   "outputs": [
    {
     "data": {
      "text/html": [
       "<div>\n",
       "<style scoped>\n",
       "    .dataframe tbody tr th:only-of-type {\n",
       "        vertical-align: middle;\n",
       "    }\n",
       "\n",
       "    .dataframe tbody tr th {\n",
       "        vertical-align: top;\n",
       "    }\n",
       "\n",
       "    .dataframe thead th {\n",
       "        text-align: right;\n",
       "    }\n",
       "</style>\n",
       "<table border=\"1\" class=\"dataframe\">\n",
       "  <thead>\n",
       "    <tr style=\"text-align: right;\">\n",
       "      <th></th>\n",
       "      <th>Tags</th>\n",
       "      <th>tags_filtered</th>\n",
       "    </tr>\n",
       "  </thead>\n",
       "  <tbody>\n",
       "    <tr>\n",
       "      <th>195918</th>\n",
       "      <td>[html, database, forms, cookies]</td>\n",
       "      <td>[html, database, forms]</td>\n",
       "    </tr>\n",
       "    <tr>\n",
       "      <th>495592</th>\n",
       "      <td>[php, development-environment]</td>\n",
       "      <td>[php]</td>\n",
       "    </tr>\n",
       "    <tr>\n",
       "      <th>451531</th>\n",
       "      <td>[c++, string]</td>\n",
       "      <td>[c++, string]</td>\n",
       "    </tr>\n",
       "    <tr>\n",
       "      <th>542821</th>\n",
       "      <td>[c, arrays, pointers]</td>\n",
       "      <td>[c, arrays]</td>\n",
       "    </tr>\n",
       "    <tr>\n",
       "      <th>549984</th>\n",
       "      <td>[python, librsvg, rsvg]</td>\n",
       "      <td>[python]</td>\n",
       "    </tr>\n",
       "  </tbody>\n",
       "</table>\n",
       "</div>"
      ],
      "text/plain": [
       "                                    Tags            tags_filtered\n",
       "195918  [html, database, forms, cookies]  [html, database, forms]\n",
       "495592    [php, development-environment]                    [php]\n",
       "451531                     [c++, string]            [c++, string]\n",
       "542821             [c, arrays, pointers]              [c, arrays]\n",
       "549984           [python, librsvg, rsvg]                 [python]"
      ]
     },
     "execution_count": 5,
     "metadata": {},
     "output_type": "execute_result"
    }
   ],
   "source": [
    "# tags\n",
    "df_Y_train = pd.read_pickle('train/Y_train_filtre.pkl')\n",
    "df_Y_train.head()"
   ]
  },
  {
   "cell_type": "code",
   "execution_count": 6,
   "metadata": {},
   "outputs": [
    {
     "data": {
      "text/html": [
       "<div>\n",
       "<style scoped>\n",
       "    .dataframe tbody tr th:only-of-type {\n",
       "        vertical-align: middle;\n",
       "    }\n",
       "\n",
       "    .dataframe tbody tr th {\n",
       "        vertical-align: top;\n",
       "    }\n",
       "\n",
       "    .dataframe thead th {\n",
       "        text-align: right;\n",
       "    }\n",
       "</style>\n",
       "<table border=\"1\" class=\"dataframe\">\n",
       "  <thead>\n",
       "    <tr style=\"text-align: right;\">\n",
       "      <th></th>\n",
       "      <th>tags_filtered</th>\n",
       "    </tr>\n",
       "  </thead>\n",
       "  <tbody>\n",
       "    <tr>\n",
       "      <th>195918</th>\n",
       "      <td>[html, database, forms]</td>\n",
       "    </tr>\n",
       "    <tr>\n",
       "      <th>495592</th>\n",
       "      <td>[php]</td>\n",
       "    </tr>\n",
       "    <tr>\n",
       "      <th>451531</th>\n",
       "      <td>[c++, string]</td>\n",
       "    </tr>\n",
       "    <tr>\n",
       "      <th>542821</th>\n",
       "      <td>[c, arrays]</td>\n",
       "    </tr>\n",
       "    <tr>\n",
       "      <th>549984</th>\n",
       "      <td>[python]</td>\n",
       "    </tr>\n",
       "  </tbody>\n",
       "</table>\n",
       "</div>"
      ],
      "text/plain": [
       "                  tags_filtered\n",
       "195918  [html, database, forms]\n",
       "495592                    [php]\n",
       "451531            [c++, string]\n",
       "542821              [c, arrays]\n",
       "549984                 [python]"
      ]
     },
     "execution_count": 6,
     "metadata": {},
     "output_type": "execute_result"
    }
   ],
   "source": [
    "# on garde le corpus 'tags_filtered'\n",
    "df_Y_train = df_Y_train.drop(columns=['Tags'])\n",
    "df_Y_train.head()"
   ]
  },
  {
   "cell_type": "code",
   "execution_count": 7,
   "metadata": {},
   "outputs": [
    {
     "data": {
      "text/plain": [
       "(103225, 1)"
      ]
     },
     "execution_count": 7,
     "metadata": {},
     "output_type": "execute_result"
    }
   ],
   "source": [
    "df_Y_train.shape"
   ]
  },
  {
   "cell_type": "markdown",
   "metadata": {},
   "source": [
    "## Val set"
   ]
  },
  {
   "cell_type": "code",
   "execution_count": 8,
   "metadata": {},
   "outputs": [
    {
     "data": {
      "text/html": [
       "<div>\n",
       "<style scoped>\n",
       "    .dataframe tbody tr th:only-of-type {\n",
       "        vertical-align: middle;\n",
       "    }\n",
       "\n",
       "    .dataframe tbody tr th {\n",
       "        vertical-align: top;\n",
       "    }\n",
       "\n",
       "    .dataframe thead th {\n",
       "        text-align: right;\n",
       "    }\n",
       "</style>\n",
       "<table border=\"1\" class=\"dataframe\">\n",
       "  <thead>\n",
       "    <tr style=\"text-align: right;\">\n",
       "      <th></th>\n",
       "      <th>Text</th>\n",
       "    </tr>\n",
       "  </thead>\n",
       "  <tbody>\n",
       "    <tr>\n",
       "      <th>230075</th>\n",
       "      <td>[type, java, cache, use, case, data, change, f...</td>\n",
       "    </tr>\n",
       "    <tr>\n",
       "      <th>295941</th>\n",
       "      <td>[php, show, n, x, b, r, show, character, webpage]</td>\n",
       "    </tr>\n",
       "    <tr>\n",
       "      <th>279171</th>\n",
       "      <td>[saving, hebrew, utf, database, php, saving, h...</td>\n",
       "    </tr>\n",
       "    <tr>\n",
       "      <th>201268</th>\n",
       "      <td>[nlog, store, current, thread, user, use, nlog...</td>\n",
       "    </tr>\n",
       "    <tr>\n",
       "      <th>403510</th>\n",
       "      <td>[add, cgpoint, nsmutablearray, want, store, cg...</td>\n",
       "    </tr>\n",
       "  </tbody>\n",
       "</table>\n",
       "</div>"
      ],
      "text/plain": [
       "                                                     Text\n",
       "230075  [type, java, cache, use, case, data, change, f...\n",
       "295941  [php, show, n, x, b, r, show, character, webpage]\n",
       "279171  [saving, hebrew, utf, database, php, saving, h...\n",
       "201268  [nlog, store, current, thread, user, use, nlog...\n",
       "403510  [add, cgpoint, nsmutablearray, want, store, cg..."
      ]
     },
     "execution_count": 8,
     "metadata": {},
     "output_type": "execute_result"
    }
   ],
   "source": [
    "# post\n",
    "df_X_val = pd.read_pickle('val/X_val_filtre.pkl')\n",
    "df_X_val.head()"
   ]
  },
  {
   "cell_type": "code",
   "execution_count": 9,
   "metadata": {},
   "outputs": [
    {
     "data": {
      "text/html": [
       "<div>\n",
       "<style scoped>\n",
       "    .dataframe tbody tr th:only-of-type {\n",
       "        vertical-align: middle;\n",
       "    }\n",
       "\n",
       "    .dataframe tbody tr th {\n",
       "        vertical-align: top;\n",
       "    }\n",
       "\n",
       "    .dataframe thead th {\n",
       "        text-align: right;\n",
       "    }\n",
       "</style>\n",
       "<table border=\"1\" class=\"dataframe\">\n",
       "  <thead>\n",
       "    <tr style=\"text-align: right;\">\n",
       "      <th></th>\n",
       "      <th>Tags</th>\n",
       "      <th>tags_filtered</th>\n",
       "    </tr>\n",
       "  </thead>\n",
       "  <tbody>\n",
       "    <tr>\n",
       "      <th>230075</th>\n",
       "      <td>[java, performance, multithreading, caching, lru]</td>\n",
       "      <td>[caching, java, multithreading, performance]</td>\n",
       "    </tr>\n",
       "    <tr>\n",
       "      <th>295941</th>\n",
       "      <td>[php, hidden-characters]</td>\n",
       "      <td>[php]</td>\n",
       "    </tr>\n",
       "    <tr>\n",
       "      <th>279171</th>\n",
       "      <td>[php, mysql, utf-8]</td>\n",
       "      <td>[php, mysql]</td>\n",
       "    </tr>\n",
       "    <tr>\n",
       "      <th>201268</th>\n",
       "      <td>[c#, .net, nlog]</td>\n",
       "      <td>[.net, c#]</td>\n",
       "    </tr>\n",
       "    <tr>\n",
       "      <th>403510</th>\n",
       "      <td>[iphone, objective-c, nsarray, cgpoint]</td>\n",
       "      <td>[objective-c, iphone]</td>\n",
       "    </tr>\n",
       "  </tbody>\n",
       "</table>\n",
       "</div>"
      ],
      "text/plain": [
       "                                                     Tags  \\\n",
       "230075  [java, performance, multithreading, caching, lru]   \n",
       "295941                           [php, hidden-characters]   \n",
       "279171                                [php, mysql, utf-8]   \n",
       "201268                                   [c#, .net, nlog]   \n",
       "403510            [iphone, objective-c, nsarray, cgpoint]   \n",
       "\n",
       "                                       tags_filtered  \n",
       "230075  [caching, java, multithreading, performance]  \n",
       "295941                                         [php]  \n",
       "279171                                  [php, mysql]  \n",
       "201268                                    [.net, c#]  \n",
       "403510                         [objective-c, iphone]  "
      ]
     },
     "execution_count": 9,
     "metadata": {},
     "output_type": "execute_result"
    }
   ],
   "source": [
    "# tags\n",
    "df_Y_val = pd.read_pickle('val/Y_val_filtre.pkl')\n",
    "df_Y_val.head()"
   ]
  },
  {
   "cell_type": "code",
   "execution_count": 10,
   "metadata": {},
   "outputs": [
    {
     "data": {
      "text/html": [
       "<div>\n",
       "<style scoped>\n",
       "    .dataframe tbody tr th:only-of-type {\n",
       "        vertical-align: middle;\n",
       "    }\n",
       "\n",
       "    .dataframe tbody tr th {\n",
       "        vertical-align: top;\n",
       "    }\n",
       "\n",
       "    .dataframe thead th {\n",
       "        text-align: right;\n",
       "    }\n",
       "</style>\n",
       "<table border=\"1\" class=\"dataframe\">\n",
       "  <thead>\n",
       "    <tr style=\"text-align: right;\">\n",
       "      <th></th>\n",
       "      <th>tags_filtered</th>\n",
       "    </tr>\n",
       "  </thead>\n",
       "  <tbody>\n",
       "    <tr>\n",
       "      <th>230075</th>\n",
       "      <td>[caching, java, multithreading, performance]</td>\n",
       "    </tr>\n",
       "    <tr>\n",
       "      <th>295941</th>\n",
       "      <td>[php]</td>\n",
       "    </tr>\n",
       "    <tr>\n",
       "      <th>279171</th>\n",
       "      <td>[php, mysql]</td>\n",
       "    </tr>\n",
       "    <tr>\n",
       "      <th>201268</th>\n",
       "      <td>[.net, c#]</td>\n",
       "    </tr>\n",
       "    <tr>\n",
       "      <th>403510</th>\n",
       "      <td>[objective-c, iphone]</td>\n",
       "    </tr>\n",
       "  </tbody>\n",
       "</table>\n",
       "</div>"
      ],
      "text/plain": [
       "                                       tags_filtered\n",
       "230075  [caching, java, multithreading, performance]\n",
       "295941                                         [php]\n",
       "279171                                  [php, mysql]\n",
       "201268                                    [.net, c#]\n",
       "403510                         [objective-c, iphone]"
      ]
     },
     "execution_count": 10,
     "metadata": {},
     "output_type": "execute_result"
    }
   ],
   "source": [
    "# on garde le corpus 'tags_filtered'\n",
    "df_Y_val = df_Y_val.drop(columns=['Tags'])\n",
    "df_Y_val.head()"
   ]
  },
  {
   "cell_type": "markdown",
   "metadata": {},
   "source": [
    "# Prepare data"
   ]
  },
  {
   "cell_type": "markdown",
   "metadata": {},
   "source": [
    "## Bag of words post"
   ]
  },
  {
   "cell_type": "code",
   "execution_count": 11,
   "metadata": {},
   "outputs": [
    {
     "name": "stdout",
     "output_type": "stream",
     "text": [
      "X_train shape : (103225, 4167)\n",
      "X_train_s shape : (15000, 4166)\n"
     ]
    }
   ],
   "source": [
    "# no parameters : keep all words\n",
    "vectorizer = CountVectorizer(encoding='unicode')\n",
    "\n",
    "# train set\n",
    "corpus = []\n",
    "for post in df_X_train['text_small']:\n",
    "    post_text = ' '.join(post)\n",
    "    corpus.append(post_text)\n",
    "\n",
    "X_train = vectorizer.fit_transform(corpus)\n",
    "print('X_train shape : {}'.format(X_train.shape))\n",
    "\n",
    "# sample train set\n",
    "# sampling\n",
    "num_samples = 15000\n",
    "df_X_train_s = df_X_train.sample(n=num_samples,random_state=1)\n",
    "index_to_keep = df_X_train_s.index.tolist()\n",
    "df_Y_train_s = df_Y_train.loc[index_to_keep]\n",
    "\n",
    "# no parameters : keep all words\n",
    "vectorizer2 = CountVectorizer(encoding='unicode')\n",
    "\n",
    "corpus = []\n",
    "for post in df_X_train_s['text_small']:\n",
    "    post_text = ' '.join(post)\n",
    "    corpus.append(post_text)\n",
    "\n",
    "X_train_s = vectorizer2.fit_transform(corpus)\n",
    "print('X_train_s shape : {}'.format(X_train_s.shape))"
   ]
  },
  {
   "cell_type": "code",
   "execution_count": 12,
   "metadata": {},
   "outputs": [
    {
     "name": "stdout",
     "output_type": "stream",
     "text": [
      "X_val shape : (34477, 4167)\n"
     ]
    }
   ],
   "source": [
    "# val set\n",
    "corpus = []\n",
    "for post in df_X_val['Text']:\n",
    "    post_text = ' '.join(post)\n",
    "    corpus.append(post_text)\n",
    "\n",
    "X_val = vectorizer.transform(corpus)  # no fit, just transform\n",
    "print('X_val shape : {}'.format(X_val.shape))"
   ]
  },
  {
   "cell_type": "markdown",
   "metadata": {},
   "source": [
    "## Binarize tags"
   ]
  },
  {
   "cell_type": "code",
   "execution_count": 13,
   "metadata": {},
   "outputs": [
    {
     "name": "stdout",
     "output_type": "stream",
     "text": [
      "Y_train shape : (103225, 100)\n"
     ]
    }
   ],
   "source": [
    "mlb = MultiLabelBinarizer()\n",
    "\n",
    "# train set\n",
    "Y_train = mlb.fit_transform(df_Y_train['tags_filtered'])\n",
    "tags = mlb.classes_\n",
    "print('Y_train shape : {}'.format(Y_train.shape))"
   ]
  },
  {
   "cell_type": "code",
   "execution_count": 14,
   "metadata": {},
   "outputs": [
    {
     "name": "stdout",
     "output_type": "stream",
     "text": [
      "Y_val shape : (34477, 100)\n"
     ]
    }
   ],
   "source": [
    "# val set\n",
    "Y_val = mlb.transform(df_Y_val['tags_filtered'])\n",
    "print('Y_val shape : {}'.format(Y_val.shape))"
   ]
  },
  {
   "cell_type": "markdown",
   "metadata": {},
   "source": [
    "# Logistic regression multilabels (one vs rest)"
   ]
  },
  {
   "cell_type": "code",
   "execution_count": 15,
   "metadata": {},
   "outputs": [],
   "source": [
    "def evaluate_clf(clf, csv_path=None, clf_name=None):\n",
    "    # prediction\n",
    "    # train\n",
    "    Y_pred_train = clf.predict(X_train)\n",
    "    # val\n",
    "    Y_pred_val = clf.predict(X_val)\n",
    "    print('Nombre de tags présents : {}'.format(sum(sum(Y_val))))\n",
    "    print('Nombre de tags prédits : {}'.format(sum(sum(Y_pred_val))))\n",
    "    print('---------------------------------------------------------')\n",
    "    print(classification_report(Y_val, Y_pred_val,\n",
    "                                target_names=tags, zero_division=0))\n",
    "    if csv_path and clf_name:\n",
    "        train_score_macro = f1_score(Y_train, Y_pred_train, average='macro')\n",
    "        val_score_macro = f1_score(Y_val, Y_pred_val, average='macro')\n",
    "        train_score_micro = f1_score(Y_train, Y_pred_train, average='micro')\n",
    "        val_score_micro = f1_score(Y_val, Y_pred_val, average='micro')\n",
    "        train_score_weighted = f1_score(Y_train, Y_pred_train, average='weighted')\n",
    "        val_score_weighted = f1_score(Y_val, Y_pred_val, average='weighted')\n",
    "        train_score_samples = f1_score(Y_train, Y_pred_train, average='samples')\n",
    "        val_score_samples = f1_score(Y_val, Y_pred_val, average='samples')\n",
    "        with open(csv_path, 'w') as file:\n",
    "            file.write('{};{};{};{};{};{};{};{};{}'.format(clf_name,\n",
    "                                                           train_score_macro,\n",
    "                                                           val_score_macro,\n",
    "                                                           train_score_micro,\n",
    "                                                           val_score_micro,\n",
    "                                                           train_score_weighted,\n",
    "                                                           val_score_weighted,\n",
    "                                                           train_score_samples,\n",
    "                                                           val_score_samples))"
   ]
  },
  {
   "cell_type": "markdown",
   "metadata": {},
   "source": [
    "Afin de determiner les meilleurs paramètres du modèle, nous allons utiliser `GridSearchCV` du module `model_selection` de `scikit-learn`. Nous appliquerons cela à un échantillon de 15000 posts afin de reduire le temps d'exécution."
   ]
  },
  {
   "cell_type": "code",
   "execution_count": 16,
   "metadata": {},
   "outputs": [
    {
     "name": "stdout",
     "output_type": "stream",
     "text": [
      "Meilleurs hyper-paramètres :\n",
      "\n",
      "{'estimator__C': 10}\n"
     ]
    }
   ],
   "source": [
    "# classifier\n",
    "log_clf = OneVsRestClassifier(LogisticRegression(random_state=0,\n",
    "                                                 max_iter=10000,\n",
    "                                                 verbose=0))\n",
    "\n",
    "# hyperparameters\n",
    "param_grid = [{'estimator__C': [0.1, 0.5, 1., 5, 10]}]\n",
    "\n",
    "# cross-validation\n",
    "clf = GridSearchCV(log_clf,\n",
    "                   param_grid,\n",
    "                   scoring='f1_macro',\n",
    "                   n_jobs=5,\n",
    "                   verbose=0,\n",
    "                   cv=5,\n",
    "                   return_train_score=True)\n",
    "\n",
    "\n",
    "mlb2 = MultiLabelBinarizer()\n",
    "\n",
    "# sample train set\n",
    "Y_train_s = mlb2.fit_transform(df_Y_train_s['tags_filtered'])\n",
    "\n",
    "clf.fit(X_train_s, Y_train_s)\n",
    "\n",
    "print('Meilleurs hyper-paramètres :\\n')\n",
    "print(clf.best_params_)"
   ]
  },
  {
   "cell_type": "markdown",
   "metadata": {},
   "source": [
    "Une fois le meilleur paramètre determiner, nous appliquerons la classification à toute la base en considérant le meilleur paramètre déterminé précédemment."
   ]
  },
  {
   "cell_type": "code",
   "execution_count": 17,
   "metadata": {},
   "outputs": [
    {
     "data": {
      "text/plain": [
       "OneVsRestClassifier(estimator=LogisticRegression(C=10, max_iter=10000,\n",
       "                                                 random_state=0))"
      ]
     },
     "execution_count": 17,
     "metadata": {},
     "output_type": "execute_result"
    }
   ],
   "source": [
    "# train classifier\n",
    "clf = OneVsRestClassifier(LogisticRegression(random_state=0,\n",
    "                                                 C=10,\n",
    "                                                 max_iter=10000,\n",
    "                                                 verbose=0))\n",
    "\n",
    "clf.fit(X_train, Y_train)"
   ]
  },
  {
   "cell_type": "markdown",
   "metadata": {},
   "source": [
    "# Evaluation of Logistic regression multilabels (one-vs-rest)"
   ]
  },
  {
   "cell_type": "code",
   "execution_count": 18,
   "metadata": {
    "scrolled": false
   },
   "outputs": [
    {
     "name": "stdout",
     "output_type": "stream",
     "text": [
      "Nombre de tags présents : 56448\n",
      "Nombre de tags prédits : 44409\n",
      "---------------------------------------------------------\n",
      "                    precision    recall  f1-score   support\n",
      "\n",
      "              .net       0.56      0.25      0.35      2619\n",
      "    actionscript-3       0.40      0.34      0.37       303\n",
      "              ajax       0.43      0.39      0.41       470\n",
      "         algorithm       0.46      0.41      0.44       333\n",
      "           android       0.84      0.81      0.82       438\n",
      "            apache       0.50      0.51      0.51       218\n",
      "       apache-flex       0.74      0.64      0.69       346\n",
      "            arrays       0.38      0.33      0.35       294\n",
      "           asp.net       0.74      0.52      0.61      2253\n",
      "       asp.net-mvc       0.71      0.69      0.70       811\n",
      "              bash       0.64      0.62      0.63       144\n",
      "                 c       0.29      0.21      0.24       802\n",
      "                c#       0.54      0.24      0.34      5163\n",
      "               c++       0.56      0.35      0.43      1858\n",
      "           caching       0.53      0.45      0.49       151\n",
      "             cocoa       0.44      0.38      0.41       337\n",
      "       cocoa-touch       0.17      0.15      0.16       331\n",
      "               css       0.67      0.65      0.66       807\n",
      "      data-binding       0.39      0.30      0.34       172\n",
      "          database       0.26      0.21      0.23       559\n",
      "   database-design       0.25      0.29      0.27       150\n",
      "         debugging       0.40      0.40      0.40       267\n",
      "            delphi       0.77      0.69      0.73       313\n",
      "   design-patterns       0.38      0.35      0.36       196\n",
      "            django       0.88      0.78      0.83       427\n",
      "           eclipse       0.77      0.66      0.71       283\n",
      "             email       0.49      0.43      0.46       153\n",
      "  entity-framework       0.62      0.48      0.54       180\n",
      "            events       0.21      0.21      0.21       194\n",
      "             excel       0.74      0.61      0.67       223\n",
      "         exception       0.34      0.28      0.31       182\n",
      "              file       0.12      0.10      0.11       205\n",
      "             flash       0.57      0.50      0.53       342\n",
      "             forms       0.22      0.22      0.22       216\n",
      "          generics       0.65      0.56      0.60       193\n",
      "               git       0.85      0.82      0.84       181\n",
      "         hibernate       0.76      0.66      0.71       186\n",
      "              html       0.48      0.34      0.40      1144\n",
      "              http       0.31      0.29      0.30       190\n",
      "               iis       0.38      0.29      0.33       197\n",
      "             image       0.24      0.21      0.22       238\n",
      "      installation       0.34      0.30      0.32       142\n",
      " internet-explorer       0.33      0.35      0.34       210\n",
      "            iphone       0.81      0.72      0.76      1594\n",
      "              java       0.81      0.64      0.72      3009\n",
      "        javascript       0.70      0.54      0.61      2156\n",
      "            jquery       0.85      0.76      0.80      1761\n",
      "              json       0.64      0.56      0.60       208\n",
      " language-agnostic       0.13      0.13      0.13       197\n",
      "              linq       0.54      0.43      0.48       396\n",
      "       linq-to-sql       0.56      0.51      0.53       261\n",
      "             linux       0.47      0.41      0.44       440\n",
      "             macos       0.38      0.34      0.36       287\n",
      "         ms-access       0.61      0.58      0.60       161\n",
      "    multithreading       0.54      0.46      0.50       387\n",
      "             mysql       0.76      0.68      0.71      1120\n",
      "        nhibernate       0.83      0.73      0.78       210\n",
      "       objective-c       0.43      0.32      0.37       753\n",
      "               oop       0.24      0.23      0.23       238\n",
      "            oracle       0.75      0.64      0.69       324\n",
      "           parsing       0.34      0.29      0.31       188\n",
      "       performance       0.31      0.32      0.32       411\n",
      "              perl       0.81      0.68      0.74       329\n",
      "               php       0.84      0.68      0.75      2376\n",
      "            python       0.79      0.68      0.73      1492\n",
      "             regex       0.75      0.73      0.74       499\n",
      "              ruby       0.56      0.44      0.49       603\n",
      "     ruby-on-rails       0.80      0.72      0.76       786\n",
      "          security       0.32      0.28      0.30       328\n",
      "        sharepoint       0.88      0.77      0.82       271\n",
      "       silverlight       0.79      0.70      0.74       282\n",
      "           sockets       0.61      0.56      0.59       162\n",
      "            spring       0.76      0.73      0.74       157\n",
      "               sql       0.50      0.36      0.42      1294\n",
      "        sql-server       0.54      0.43      0.48       990\n",
      "   sql-server-2005       0.20      0.18      0.19       328\n",
      "   sql-server-2008       0.13      0.14      0.14       146\n",
      "            string       0.32      0.23      0.26       364\n",
      "               svn       0.85      0.77      0.80       290\n",
      "             swing       0.47      0.38      0.42       191\n",
      "              tsql       0.30      0.32      0.31       242\n",
      "      unit-testing       0.61      0.53      0.57       272\n",
      "              unix       0.29      0.24      0.26       156\n",
      "    user-interface       0.23      0.22      0.23       292\n",
      "        validation       0.42      0.37      0.39       208\n",
      "            vb.net       0.50      0.38      0.43       581\n",
      "               vba       0.69      0.54      0.60       166\n",
      "   version-control       0.36      0.33      0.34       173\n",
      "        visual-c++       0.18      0.17      0.18       135\n",
      "     visual-studio       0.36      0.30      0.33       528\n",
      "visual-studio-2008       0.35      0.30      0.33       438\n",
      "               wcf       0.86      0.85      0.86       351\n",
      "      web-services       0.39      0.42      0.40       319\n",
      "            winapi       0.36      0.38      0.37       265\n",
      "           windows       0.31      0.22      0.26       649\n",
      "          winforms       0.50      0.44      0.47       526\n",
      "               wpf       0.77      0.75      0.76       753\n",
      "              xaml       0.29      0.25      0.27       150\n",
      "             xcode       0.45      0.43      0.44       185\n",
      "               xml       0.63      0.55      0.58       649\n",
      "\n",
      "         micro avg       0.60      0.47      0.53     56448\n",
      "         macro avg       0.52      0.45      0.48     56448\n",
      "      weighted avg       0.60      0.47      0.52     56448\n",
      "       samples avg       0.53      0.51      0.48     56448\n",
      "\n"
     ]
    }
   ],
   "source": [
    "evaluate_clf(clf, 'results/log_reg_bow.csv', 'Regression logistique bow')"
   ]
  },
  {
   "cell_type": "markdown",
   "metadata": {},
   "source": [
    "# SVM multilabels (one vs rest)"
   ]
  },
  {
   "cell_type": "markdown",
   "metadata": {},
   "source": [
    "Afin de determiner les meilleurs paramètres du modèle, nous allons utiliser `GridSearchCV` du module `model_selection` de `scikit-learn`. Nous appliquerons cela à un échantillon de 15000 posts afin de reduire le temps d'exécution."
   ]
  },
  {
   "cell_type": "code",
   "execution_count": 19,
   "metadata": {},
   "outputs": [
    {
     "name": "stdout",
     "output_type": "stream",
     "text": [
      "Meilleurs hyper-paramètres :\n",
      "\n",
      "{'estimator__C': 0.1}\n"
     ]
    }
   ],
   "source": [
    "# classifier\n",
    "svm_clf = OneVsRestClassifier(LinearSVC(random_state=0,\n",
    "                                        class_weight='balanced',\n",
    "                                        max_iter=10000,\n",
    "                                        verbose=0))\n",
    "# hyperparameters\n",
    "param_grid = [{'estimator__C': [0.1, 0.5, 1., 5, 10]}]\n",
    "\n",
    "# cross-validation\n",
    "clf = GridSearchCV(svm_clf,\n",
    "                   param_grid,\n",
    "                   scoring='f1_macro',\n",
    "                   n_jobs=5,\n",
    "                   verbose=0,\n",
    "                   return_train_score=True)\n",
    "\n",
    "clf.fit(X_train_s, Y_train_s)\n",
    "\n",
    "print('Meilleurs hyper-paramètres :\\n')\n",
    "print(clf.best_params_)"
   ]
  },
  {
   "cell_type": "markdown",
   "metadata": {},
   "source": [
    "Une fois le meilleur paramètre determiner, nous appliquerons la classification à toute la base en considérant le meilleur paramètre déterminé précédemment."
   ]
  },
  {
   "cell_type": "code",
   "execution_count": 20,
   "metadata": {},
   "outputs": [
    {
     "data": {
      "text/plain": [
       "OneVsRestClassifier(estimator=LinearSVC(C=0.1, class_weight='balanced',\n",
       "                                        max_iter=10000, random_state=0))"
      ]
     },
     "execution_count": 20,
     "metadata": {},
     "output_type": "execute_result"
    }
   ],
   "source": [
    "# train classifier\n",
    "clf = OneVsRestClassifier(LinearSVC(random_state=0,\n",
    "                                    class_weight='balanced',\n",
    "                                    C=0.1,\n",
    "                                    max_iter=10000,\n",
    "                                    verbose=0))\n",
    "\n",
    "clf.fit(X_train, Y_train)"
   ]
  },
  {
   "cell_type": "markdown",
   "metadata": {},
   "source": [
    "# Evaluation of SVM multilabels (one-vs-rest)"
   ]
  },
  {
   "cell_type": "code",
   "execution_count": 21,
   "metadata": {
    "scrolled": false
   },
   "outputs": [
    {
     "name": "stdout",
     "output_type": "stream",
     "text": [
      "Nombre de tags présents : 56448\n",
      "Nombre de tags prédits : 126004\n",
      "---------------------------------------------------------\n",
      "                    precision    recall  f1-score   support\n",
      "\n",
      "              .net       0.24      0.69      0.35      2619\n",
      "    actionscript-3       0.22      0.59      0.33       303\n",
      "              ajax       0.23      0.64      0.33       470\n",
      "         algorithm       0.29      0.56      0.38       333\n",
      "           android       0.62      0.84      0.71       438\n",
      "            apache       0.37      0.68      0.48       218\n",
      "       apache-flex       0.50      0.76      0.60       346\n",
      "            arrays       0.21      0.57      0.31       294\n",
      "           asp.net       0.41      0.77      0.53      2253\n",
      "       asp.net-mvc       0.44      0.81      0.57       811\n",
      "              bash       0.37      0.72      0.49       144\n",
      "                 c       0.15      0.67      0.25       802\n",
      "                c#       0.34      0.77      0.47      5163\n",
      "               c++       0.25      0.77      0.38      1858\n",
      "           caching       0.41      0.60      0.49       151\n",
      "             cocoa       0.18      0.55      0.27       337\n",
      "       cocoa-touch       0.12      0.49      0.19       331\n",
      "               css       0.42      0.83      0.55       807\n",
      "      data-binding       0.30      0.53      0.38       172\n",
      "          database       0.13      0.53      0.20       559\n",
      "   database-design       0.16      0.41      0.23       150\n",
      "         debugging       0.25      0.59      0.35       267\n",
      "            delphi       0.44      0.73      0.55       313\n",
      "   design-patterns       0.20      0.46      0.28       196\n",
      "            django       0.66      0.86      0.75       427\n",
      "           eclipse       0.61      0.78      0.69       283\n",
      "             email       0.44      0.62      0.51       153\n",
      "  entity-framework       0.46      0.63      0.53       180\n",
      "            events       0.15      0.44      0.22       194\n",
      "             excel       0.63      0.78      0.70       223\n",
      "         exception       0.19      0.44      0.26       182\n",
      "              file       0.05      0.35      0.09       205\n",
      "             flash       0.40      0.70      0.51       342\n",
      "             forms       0.14      0.49      0.22       216\n",
      "          generics       0.35      0.72      0.47       193\n",
      "               git       0.75      0.87      0.80       181\n",
      "         hibernate       0.63      0.76      0.69       186\n",
      "              html       0.23      0.76      0.35      1144\n",
      "              http       0.20      0.46      0.27       190\n",
      "               iis       0.35      0.54      0.43       197\n",
      "             image       0.16      0.47      0.24       238\n",
      "      installation       0.24      0.49      0.33       142\n",
      " internet-explorer       0.27      0.60      0.37       210\n",
      "            iphone       0.60      0.86      0.70      1594\n",
      "              java       0.53      0.82      0.64      3009\n",
      "        javascript       0.43      0.82      0.56      2156\n",
      "            jquery       0.63      0.86      0.73      1761\n",
      "              json       0.38      0.68      0.49       208\n",
      " language-agnostic       0.08      0.29      0.12       197\n",
      "              linq       0.36      0.68      0.47       396\n",
      "       linq-to-sql       0.39      0.69      0.50       261\n",
      "             linux       0.24      0.62      0.35       440\n",
      "             macos       0.22      0.54      0.32       287\n",
      "         ms-access       0.39      0.63      0.48       161\n",
      "    multithreading       0.33      0.63      0.43       387\n",
      "             mysql       0.47      0.82      0.60      1120\n",
      "        nhibernate       0.67      0.80      0.73       210\n",
      "       objective-c       0.22      0.69      0.34       753\n",
      "               oop       0.11      0.47      0.17       238\n",
      "            oracle       0.51      0.73      0.60       324\n",
      "           parsing       0.20      0.51      0.29       188\n",
      "       performance       0.18      0.56      0.27       411\n",
      "              perl       0.51      0.72      0.60       329\n",
      "               php       0.55      0.84      0.66      2376\n",
      "            python       0.47      0.81      0.59      1492\n",
      "             regex       0.53      0.84      0.65       499\n",
      "              ruby       0.27      0.64      0.38       603\n",
      "     ruby-on-rails       0.54      0.82      0.65       786\n",
      "          security       0.18      0.48      0.26       328\n",
      "        sharepoint       0.83      0.84      0.83       271\n",
      "       silverlight       0.63      0.80      0.71       282\n",
      "           sockets       0.42      0.69      0.52       162\n",
      "            spring       0.66      0.77      0.71       157\n",
      "               sql       0.29      0.75      0.42      1294\n",
      "        sql-server       0.36      0.75      0.49       990\n",
      "   sql-server-2005       0.15      0.52      0.23       328\n",
      "   sql-server-2008       0.09      0.32      0.14       146\n",
      "            string       0.16      0.52      0.25       364\n",
      "               svn       0.75      0.85      0.80       290\n",
      "             swing       0.29      0.51      0.37       191\n",
      "              tsql       0.16      0.57      0.25       242\n",
      "      unit-testing       0.50      0.68      0.57       272\n",
      "              unix       0.15      0.40      0.22       156\n",
      "    user-interface       0.11      0.42      0.18       292\n",
      "        validation       0.28      0.60      0.39       208\n",
      "            vb.net       0.15      0.56      0.24       581\n",
      "               vba       0.46      0.61      0.53       166\n",
      "   version-control       0.23      0.45      0.30       173\n",
      "        visual-c++       0.10      0.37      0.16       135\n",
      "     visual-studio       0.22      0.62      0.32       528\n",
      "visual-studio-2008       0.20      0.58      0.30       438\n",
      "               wcf       0.74      0.87      0.80       351\n",
      "      web-services       0.29      0.63      0.40       319\n",
      "            winapi       0.19      0.58      0.29       265\n",
      "           windows       0.16      0.60      0.26       649\n",
      "          winforms       0.25      0.69      0.37       526\n",
      "               wpf       0.58      0.82      0.68       753\n",
      "              xaml       0.20      0.52      0.28       150\n",
      "             xcode       0.21      0.55      0.30       185\n",
      "               xml       0.43      0.76      0.55       649\n",
      "\n",
      "         micro avg       0.32      0.72      0.45     56448\n",
      "         macro avg       0.34      0.64      0.44     56448\n",
      "      weighted avg       0.37      0.72      0.48     56448\n",
      "       samples avg       0.39      0.75      0.47     56448\n",
      "\n"
     ]
    }
   ],
   "source": [
    "evaluate_clf(clf, 'results/svm_bow.csv', 'SVM bow')"
   ]
  },
  {
   "cell_type": "markdown",
   "metadata": {},
   "source": [
    "# Random forest multilabels (one vs rest) "
   ]
  },
  {
   "cell_type": "code",
   "execution_count": 22,
   "metadata": {},
   "outputs": [
    {
     "name": "stdout",
     "output_type": "stream",
     "text": [
      "Fitting 5 folds for each of 12 candidates, totalling 60 fits\n"
     ]
    },
    {
     "name": "stderr",
     "output_type": "stream",
     "text": [
      "[Parallel(n_jobs=5)]: Using backend LokyBackend with 5 concurrent workers.\n",
      "[Parallel(n_jobs=5)]: Done  40 tasks      | elapsed: 21.0min\n",
      "[Parallel(n_jobs=5)]: Done  60 out of  60 | elapsed: 42.5min finished\n"
     ]
    },
    {
     "name": "stdout",
     "output_type": "stream",
     "text": [
      "Meilleurs hyper-paramètres :\n",
      "\n",
      "{'estimator__max_depth': 10, 'estimator__max_features': 0.75, 'estimator__min_samples_leaf': 3}\n"
     ]
    }
   ],
   "source": [
    "# classifier\n",
    "randf = OneVsRestClassifier(RandomForestClassifier(random_state=0,\n",
    "                                                   n_estimators=50,\n",
    "                                                   criterion='gini'))\n",
    "\n",
    "# # hyperparameters\n",
    "param_grid = {'estimator__max_depth':[5, 10], #10\n",
    "              'estimator__max_features':[0.25, 0.5, 0.75], \n",
    "              'estimator__min_samples_leaf':[1, 3],}\n",
    "\n",
    "\n",
    "# # # cross-validation\n",
    "clf = GridSearchCV(randf,\n",
    "                   param_grid,\n",
    "                   scoring='f1_weighted',\n",
    "                   n_jobs=5,\n",
    "                   verbose = 1,\n",
    "                   return_train_score=True)\n",
    "\n",
    "\n",
    "clf.fit(X_train_s, Y_train_s)\n",
    "\n",
    "print('Meilleurs hyper-paramètres :\\n')\n",
    "print(clf.best_params_)"
   ]
  },
  {
   "cell_type": "code",
   "execution_count": 23,
   "metadata": {},
   "outputs": [
    {
     "data": {
      "text/plain": [
       "OneVsRestClassifier(estimator=RandomForestClassifier(max_depth=10,\n",
       "                                                     max_features=0.75,\n",
       "                                                     min_samples_leaf=3,\n",
       "                                                     n_estimators=50,\n",
       "                                                     random_state=0))"
      ]
     },
     "execution_count": 23,
     "metadata": {},
     "output_type": "execute_result"
    }
   ],
   "source": [
    "clf = OneVsRestClassifier(RandomForestClassifier(random_state=0,\n",
    "                                                 max_depth=10,  # 10\n",
    "                                                 min_samples_leaf=3, # 3\n",
    "                                                 max_features=0.75, # 0.75\n",
    "                                                 n_estimators=50,\n",
    "                                                 criterion='gini'))\n",
    "\n",
    "clf.fit(X_train, Y_train)"
   ]
  },
  {
   "cell_type": "markdown",
   "metadata": {},
   "source": [
    "# Evaluation of Random forest multilabels (one-vs-rest)"
   ]
  },
  {
   "cell_type": "code",
   "execution_count": 24,
   "metadata": {
    "scrolled": false
   },
   "outputs": [
    {
     "name": "stdout",
     "output_type": "stream",
     "text": [
      "Nombre de tags présents : 56448\n",
      "Nombre de tags prédits : 33448\n",
      "---------------------------------------------------------\n",
      "                    precision    recall  f1-score   support\n",
      "\n",
      "              .net       0.66      0.34      0.44      2619\n",
      "    actionscript-3       0.72      0.34      0.47       303\n",
      "              ajax       0.66      0.46      0.54       470\n",
      "         algorithm       0.64      0.32      0.42       333\n",
      "           android       0.97      0.78      0.87       438\n",
      "            apache       0.67      0.55      0.60       218\n",
      "       apache-flex       0.83      0.80      0.82       346\n",
      "            arrays       0.39      0.10      0.15       294\n",
      "           asp.net       0.80      0.60      0.69      2253\n",
      "       asp.net-mvc       0.84      0.80      0.82       811\n",
      "              bash       0.78      0.70      0.74       144\n",
      "                 c       0.52      0.05      0.10       802\n",
      "                c#       0.62      0.07      0.13      5163\n",
      "               c++       0.74      0.18      0.28      1858\n",
      "           caching       0.66      0.56      0.60       151\n",
      "             cocoa       0.89      0.33      0.48       337\n",
      "       cocoa-touch       0.74      0.04      0.08       331\n",
      "               css       0.78      0.62      0.69       807\n",
      "      data-binding       0.67      0.26      0.38       172\n",
      "          database       0.53      0.02      0.03       559\n",
      "   database-design       0.61      0.07      0.13       150\n",
      "         debugging       0.67      0.25      0.36       267\n",
      "            delphi       0.94      0.79      0.85       313\n",
      "   design-patterns       0.78      0.23      0.35       196\n",
      "            django       0.92      0.87      0.90       427\n",
      "           eclipse       0.83      0.77      0.80       283\n",
      "             email       0.57      0.39      0.46       153\n",
      "  entity-framework       0.83      0.78      0.81       180\n",
      "            events       0.00      0.00      0.00       194\n",
      "             excel       0.73      0.80      0.76       223\n",
      "         exception       0.55      0.10      0.17       182\n",
      "              file       0.00      0.00      0.00       205\n",
      "             flash       0.76      0.63      0.68       342\n",
      "             forms       0.25      0.00      0.01       216\n",
      "          generics       0.68      0.49      0.57       193\n",
      "               git       0.91      0.92      0.91       181\n",
      "         hibernate       0.80      0.83      0.82       186\n",
      "              html       0.61      0.28      0.38      1144\n",
      "              http       0.54      0.08      0.14       190\n",
      "               iis       0.58      0.32      0.42       197\n",
      "             image       0.00      0.00      0.00       238\n",
      "      installation       0.61      0.20      0.30       142\n",
      " internet-explorer       0.61      0.25      0.35       210\n",
      "            iphone       0.92      0.68      0.78      1594\n",
      "              java       0.83      0.68      0.74      3009\n",
      "        javascript       0.76      0.57      0.65      2156\n",
      "            jquery       0.88      0.83      0.85      1761\n",
      "              json       0.71      0.64      0.68       208\n",
      " language-agnostic       1.00      0.01      0.01       197\n",
      "              linq       0.74      0.58      0.65       396\n",
      "       linq-to-sql       0.71      0.71      0.71       261\n",
      "             linux       0.65      0.45      0.53       440\n",
      "             macos       0.65      0.32      0.43       287\n",
      "         ms-access       0.76      0.54      0.63       161\n",
      "    multithreading       0.65      0.57      0.60       387\n",
      "             mysql       0.83      0.76      0.79      1120\n",
      "        nhibernate       0.89      0.84      0.87       210\n",
      "       objective-c       0.78      0.27      0.40       753\n",
      "               oop       0.61      0.12      0.20       238\n",
      "            oracle       0.81      0.81      0.81       324\n",
      "           parsing       0.66      0.16      0.26       188\n",
      "       performance       0.50      0.13      0.21       411\n",
      "              perl       0.87      0.80      0.83       329\n",
      "               php       0.86      0.73      0.79      2376\n",
      "            python       0.88      0.72      0.79      1492\n",
      "             regex       0.81      0.80      0.81       499\n",
      "              ruby       0.81      0.51      0.63       603\n",
      "     ruby-on-rails       0.91      0.79      0.84       786\n",
      "          security       0.67      0.12      0.21       328\n",
      "        sharepoint       0.93      0.91      0.92       271\n",
      "       silverlight       0.84      0.88      0.86       282\n",
      "           sockets       0.70      0.56      0.62       162\n",
      "            spring       0.81      0.85      0.83       157\n",
      "               sql       0.62      0.28      0.39      1294\n",
      "        sql-server       0.65      0.59      0.62       990\n",
      "   sql-server-2005       0.00      0.00      0.00       328\n",
      "   sql-server-2008       0.00      0.00      0.00       146\n",
      "            string       0.00      0.00      0.00       364\n",
      "               svn       0.79      0.86      0.82       290\n",
      "             swing       0.68      0.51      0.58       191\n",
      "              tsql       0.80      0.29      0.42       242\n",
      "      unit-testing       0.75      0.62      0.68       272\n",
      "              unix       0.63      0.25      0.36       156\n",
      "    user-interface       0.48      0.07      0.12       292\n",
      "        validation       0.59      0.34      0.43       208\n",
      "            vb.net       0.78      0.41      0.54       581\n",
      "               vba       0.81      0.66      0.73       166\n",
      "   version-control       0.77      0.12      0.20       173\n",
      "        visual-c++       0.49      0.13      0.20       135\n",
      "     visual-studio       0.54      0.31      0.40       528\n",
      "visual-studio-2008       0.46      0.07      0.12       438\n",
      "               wcf       0.85      0.90      0.88       351\n",
      "      web-services       0.57      0.53      0.55       319\n",
      "            winapi       0.67      0.19      0.30       265\n",
      "           windows       0.57      0.03      0.06       649\n",
      "          winforms       0.72      0.43      0.54       526\n",
      "               wpf       0.89      0.81      0.85       753\n",
      "              xaml       0.67      0.36      0.47       150\n",
      "             xcode       0.74      0.39      0.51       185\n",
      "               xml       0.67      0.67      0.67       649\n",
      "\n",
      "         micro avg       0.78      0.46      0.58     56448\n",
      "         macro avg       0.67      0.44      0.50     56448\n",
      "      weighted avg       0.72      0.46      0.53     56448\n",
      "       samples avg       0.58      0.50      0.51     56448\n",
      "\n"
     ]
    }
   ],
   "source": [
    "evaluate_clf(clf, 'results/rand_forest_bow.csv', 'Random forest bow')"
   ]
  }
 ],
 "metadata": {
  "kernelspec": {
   "display_name": "Python 3",
   "language": "python",
   "name": "python3"
  },
  "language_info": {
   "codemirror_mode": {
    "name": "ipython",
    "version": 3
   },
   "file_extension": ".py",
   "mimetype": "text/x-python",
   "name": "python",
   "nbconvert_exporter": "python",
   "pygments_lexer": "ipython3",
   "version": "3.8.5"
  }
 },
 "nbformat": 4,
 "nbformat_minor": 4
}
