{
 "cells": [
  {
   "cell_type": "markdown",
   "metadata": {
    "toc": true
   },
   "source": [
    "<h1>Sommaire<span class=\"tocSkip\"></span></h1>\n",
    "<div class=\"toc\"><ul class=\"toc-item\"><li><span><a href=\"#Topics-matrix\" data-toc-modified-id=\"Topics-matrix-1\"><span class=\"toc-item-num\">1&nbsp;&nbsp;</span>Topics matrix</a></span><ul class=\"toc-item\"><li><span><a href=\"#Train-set\" data-toc-modified-id=\"Train-set-1.1\"><span class=\"toc-item-num\">1.1&nbsp;&nbsp;</span>Train set</a></span></li><li><span><a href=\"#Val-set\" data-toc-modified-id=\"Val-set-1.2\"><span class=\"toc-item-num\">1.2&nbsp;&nbsp;</span>Val set</a></span></li></ul></li><li><span><a href=\"#Tags-matrix\" data-toc-modified-id=\"Tags-matrix-2\"><span class=\"toc-item-num\">2&nbsp;&nbsp;</span>Tags matrix</a></span><ul class=\"toc-item\"><li><span><a href=\"#Train-set\" data-toc-modified-id=\"Train-set-2.1\"><span class=\"toc-item-num\">2.1&nbsp;&nbsp;</span>Train set</a></span></li><li><span><a href=\"#Val-set\" data-toc-modified-id=\"Val-set-2.2\"><span class=\"toc-item-num\">2.2&nbsp;&nbsp;</span>Val set</a></span></li></ul></li><li><span><a href=\"#Tags-/-Topics-matrix\" data-toc-modified-id=\"Tags-/-Topics-matrix-3\"><span class=\"toc-item-num\">3&nbsp;&nbsp;</span>Tags / Topics matrix</a></span></li><li><span><a href=\"#Predict-tags\" data-toc-modified-id=\"Predict-tags-4\"><span class=\"toc-item-num\">4&nbsp;&nbsp;</span>Predict tags</a></span><ul class=\"toc-item\"><li><span><a href=\"#Train-set\" data-toc-modified-id=\"Train-set-4.1\"><span class=\"toc-item-num\">4.1&nbsp;&nbsp;</span>Train set</a></span></li><li><span><a href=\"#Val-set\" data-toc-modified-id=\"Val-set-4.2\"><span class=\"toc-item-num\">4.2&nbsp;&nbsp;</span>Val set</a></span></li></ul></li></ul></div>"
   ]
  },
  {
   "cell_type": "code",
   "execution_count": 1,
   "metadata": {},
   "outputs": [],
   "source": [
    "import os\n",
    "import pandas as pd\n",
    "import glob\n",
    "import numpy as np\n",
    "import pickle\n",
    "import gensim\n",
    "import matplotlib.pyplot as plt\n",
    "\n",
    "from sklearn.metrics import classification_report, f1_score"
   ]
  },
  {
   "cell_type": "markdown",
   "metadata": {},
   "source": [
    "# Topics matrix"
   ]
  },
  {
   "cell_type": "markdown",
   "metadata": {},
   "source": [
    "## Train set "
   ]
  },
  {
   "cell_type": "code",
   "execution_count": 2,
   "metadata": {},
   "outputs": [
    {
     "data": {
      "text/plain": [
       "(103225, 12)"
      ]
     },
     "execution_count": 2,
     "metadata": {},
     "output_type": "execute_result"
    }
   ],
   "source": [
    "df_X_train = pd.read_pickle('PickleData/lda_features_12.pkl')\n",
    "X_train = df_X_train.drop(columns=['post'])\n",
    "\n",
    "X_train.shape"
   ]
  },
  {
   "cell_type": "markdown",
   "metadata": {},
   "source": [
    "## Val set"
   ]
  },
  {
   "cell_type": "code",
   "execution_count": 3,
   "metadata": {},
   "outputs": [
    {
     "data": {
      "text/plain": [
       "(34477, 12)"
      ]
     },
     "execution_count": 3,
     "metadata": {},
     "output_type": "execute_result"
    }
   ],
   "source": [
    "# load model\n",
    "lda_model = gensim.models.ldamodel.LdaModel.load('model/lda_model_12')\n",
    "num_topic = 12\n",
    "\n",
    "# load train dictionary\n",
    "dictionary = gensim.corpora.Dictionary(df_X_train['post'].values)\n",
    "\n",
    "# load data\n",
    "df_X_val = pd.read_pickle('val/X_val_filtre.pkl')\n",
    "\n",
    "\n",
    "def get_lda_features(post):\n",
    "    post_bow = dictionary.doc2bow(post)\n",
    "    features = lda_model.get_document_topics(post_bow, minimum_probability=0.)\n",
    "    features = gensim.matutils.sparse2full(features, num_topic)\n",
    "    return features\n",
    "\n",
    "\n",
    "df_features = df_X_val['Text'].apply(func=get_lda_features)\n",
    "X_val = df_features.apply(pd.Series).values\n",
    "\n",
    "X_val.shape"
   ]
  },
  {
   "cell_type": "markdown",
   "metadata": {},
   "source": [
    "# Tags matrix"
   ]
  },
  {
   "cell_type": "markdown",
   "metadata": {},
   "source": [
    "## Train set"
   ]
  },
  {
   "cell_type": "code",
   "execution_count": 4,
   "metadata": {},
   "outputs": [
    {
     "data": {
      "text/plain": [
       "(103225, 100)"
      ]
     },
     "execution_count": 4,
     "metadata": {},
     "output_type": "execute_result"
    }
   ],
   "source": [
    "df_Y_train = pd.read_pickle('train/Y_train_filtre.pkl')\n",
    "df_Y_train = df_Y_train.drop(columns=['Tags'])\n",
    "df_Y_train = df_Y_train.rename(columns={'tags_filtered': 'tag'})\n",
    "\n",
    "# build dictionary\n",
    "dictionary = gensim.corpora.Dictionary(df_Y_train['tag'])\n",
    "\n",
    "# build bow\n",
    "Y_train = [dictionary.doc2bow(text) for text in df_Y_train['tag'].values]\n",
    "\n",
    "# sparse to dense\n",
    "Y_train = gensim.matutils.corpus2dense(Y_train, len(dictionary), len(Y_train)).T\n",
    "\n",
    "Y_train.shape"
   ]
  },
  {
   "cell_type": "code",
   "execution_count": 5,
   "metadata": {},
   "outputs": [
    {
     "name": "stdout",
     "output_type": "stream",
     "text": [
      "Nombre de tags dans le corpus : 168815.0\n"
     ]
    }
   ],
   "source": [
    "count_tags = sum(sum(Y_train))\n",
    "print('Nombre de tags dans le corpus : {}'.format(count_tags))"
   ]
  },
  {
   "cell_type": "markdown",
   "metadata": {},
   "source": [
    "## Val set "
   ]
  },
  {
   "cell_type": "code",
   "execution_count": 6,
   "metadata": {},
   "outputs": [
    {
     "data": {
      "text/plain": [
       "(34477, 100)"
      ]
     },
     "execution_count": 6,
     "metadata": {},
     "output_type": "execute_result"
    }
   ],
   "source": [
    "df_Y_val = pd.read_pickle('val/Y_val_filtre.pkl')\n",
    "df_Y_val = df_Y_val.drop(columns=['Tags'])\n",
    "df_Y_val = df_Y_val.rename(columns={'tags_filtered': 'tag'})\n",
    "\n",
    "# build bow from train set dictionary\n",
    "Y_val = [dictionary.doc2bow(text) for text in df_Y_val['tag'].values]\n",
    "\n",
    "# sparse to dense\n",
    "Y_val = gensim.matutils.corpus2dense(Y_val, len(dictionary), len(Y_val)).T\n",
    "\n",
    "Y_val.shape"
   ]
  },
  {
   "cell_type": "markdown",
   "metadata": {},
   "source": [
    "# Tags / Topics matrix\n",
    "\n",
    "Matrice(docs-topics) . Matrice(transformation) = Matrice(docs-tags)\n",
    "\n",
    "Matrice(transformation)  ≈ pseudo-inverse (Matrice(doc-topics)) . Matrice(docs-tags)"
   ]
  },
  {
   "cell_type": "code",
   "execution_count": 7,
   "metadata": {},
   "outputs": [
    {
     "data": {
      "text/plain": [
       "(12, 100)"
      ]
     },
     "execution_count": 7,
     "metadata": {},
     "output_type": "execute_result"
    }
   ],
   "source": [
    "transformation_matrix = np.linalg.pinv(X_train)@Y_train\n",
    "transformation_matrix.shape"
   ]
  },
  {
   "cell_type": "markdown",
   "metadata": {},
   "source": [
    "# Predict tags"
   ]
  },
  {
   "cell_type": "markdown",
   "metadata": {},
   "source": [
    "## Train set "
   ]
  },
  {
   "cell_type": "code",
   "execution_count": 8,
   "metadata": {},
   "outputs": [],
   "source": [
    "# predict\n",
    "def predict_tags(X, threshold):\n",
    "    tag_pred = X@transformation_matrix\n",
    "    tag_pred = (tag_pred > threshold) * 1\n",
    "    return tag_pred"
   ]
  },
  {
   "cell_type": "code",
   "execution_count": 9,
   "metadata": {},
   "outputs": [
    {
     "name": "stdout",
     "output_type": "stream",
     "text": [
      "Best threshold ; 0.040999999999999995\n"
     ]
    }
   ],
   "source": [
    "# estimate best threshold\n",
    "best_score = 0\n",
    "best_threshold = 0.5\n",
    "\n",
    "for threshold in np.arange(0.001, 0.1, 0.01):\n",
    "\n",
    "    Y_pred_train = predict_tags(X_train, threshold)\n",
    "    train_score = f1_score(Y_train, Y_pred_train, average='macro')\n",
    "    if train_score > best_score:\n",
    "        best_score = train_score\n",
    "        best_threshold = threshold\n",
    "\n",
    "print('Best threshold ; {}'.format(best_threshold))"
   ]
  },
  {
   "cell_type": "code",
   "execution_count": 10,
   "metadata": {},
   "outputs": [],
   "source": [
    "Y_pred_train = predict_tags(X_train, best_threshold)\n",
    "train_score = f1_score(Y_train, Y_pred_train, average='macro')"
   ]
  },
  {
   "cell_type": "code",
   "execution_count": 11,
   "metadata": {},
   "outputs": [
    {
     "data": {
      "text/plain": [
       "0.09520023746073797"
      ]
     },
     "execution_count": 11,
     "metadata": {},
     "output_type": "execute_result"
    }
   ],
   "source": [
    "best_score"
   ]
  },
  {
   "cell_type": "markdown",
   "metadata": {},
   "source": [
    "## Val set "
   ]
  },
  {
   "cell_type": "code",
   "execution_count": 12,
   "metadata": {
    "scrolled": false
   },
   "outputs": [
    {
     "name": "stdout",
     "output_type": "stream",
     "text": [
      "Nombre de tags présents : 56448.0\n",
      "Nombre de tags prédits : 395154\n",
      "---------------------------------------------------------\n",
      "              precision    recall  f1-score   support\n",
      "\n",
      "           0       0.09      0.81      0.17       559\n",
      "           1       0.06      0.22      0.10       216\n",
      "           2       0.09      0.92      0.16      1144\n",
      "           3       0.11      0.93      0.19      2376\n",
      "           4       0.08      0.92      0.15      1858\n",
      "           5       0.07      0.63      0.12       364\n",
      "           6       0.06      0.68      0.11       294\n",
      "           7       0.06      0.75      0.12       802\n",
      "           8       0.07      0.75      0.13      1492\n",
      "           9       0.00      0.00      0.00       191\n",
      "          10       0.00      0.00      0.00       292\n",
      "          11       0.02      0.02      0.02       186\n",
      "          12       0.10      0.96      0.18      3009\n",
      "          13       0.05      0.25      0.09       438\n",
      "          14       0.07      0.53      0.12       324\n",
      "          15       0.16      0.96      0.28      1294\n",
      "          16       0.16      0.98      0.27      5163\n",
      "          17       0.05      0.10      0.07       329\n",
      "          18       0.05      0.25      0.08       303\n",
      "          19       0.04      0.26      0.07       346\n",
      "          20       0.03      0.05      0.04       194\n",
      "          21       0.10      0.79      0.18      1594\n",
      "          22       0.05      0.29      0.09       753\n",
      "          23       0.00      0.00      0.00       603\n",
      "          24       0.06      0.46      0.11       786\n",
      "          25       0.09      0.92      0.17      2619\n",
      "          26       0.08      0.92      0.14       351\n",
      "          27       0.05      0.20      0.08       411\n",
      "          28       0.05      0.31      0.09       440\n",
      "          29       0.00      0.00      0.00       157\n",
      "          30       0.13      0.96      0.24      2156\n",
      "          31       0.07      0.58      0.12       438\n",
      "          32       0.12      0.93      0.21       990\n",
      "          33       0.05      0.19      0.07       331\n",
      "          34       0.02      0.05      0.03       151\n",
      "          35       0.05      0.33      0.09       427\n",
      "          36       0.12      0.97      0.22      1761\n",
      "          37       0.12      0.91      0.21      2253\n",
      "          38       0.05      0.07      0.05       180\n",
      "          39       0.05      0.08      0.06       581\n",
      "          40       0.07      0.25      0.10       173\n",
      "          41       0.00      0.00      0.00       135\n",
      "          42       0.10      0.90      0.19       811\n",
      "          43       0.04      0.04      0.04       208\n",
      "          44       0.08      0.91      0.15       499\n",
      "          45       0.07      0.55      0.13       649\n",
      "          46       0.08      0.56      0.14       526\n",
      "          47       0.00      0.00      0.00       190\n",
      "          48       0.07      0.67      0.12       319\n",
      "          49       0.04      0.01      0.02       196\n",
      "          50       0.07      0.71      0.14       328\n",
      "          51       0.07      0.83      0.13       181\n",
      "          52       0.05      0.09      0.07       328\n",
      "          53       0.06      0.71      0.11       242\n",
      "          54       0.00      0.00      0.00       218\n",
      "          55       0.00      0.00      0.00       205\n",
      "          56       0.04      0.26      0.08       287\n",
      "          57       0.05      0.18      0.08       271\n",
      "          58       0.14      0.93      0.25      1120\n",
      "          59       0.08      0.92      0.15       807\n",
      "          60       0.00      0.00      0.00       197\n",
      "          61       0.04      0.24      0.07       238\n",
      "          62       0.08      0.67      0.14       528\n",
      "          63       0.05      0.07      0.06       146\n",
      "          64       0.07      0.60      0.12       210\n",
      "          65       0.09      0.78      0.16       387\n",
      "          66       0.02      0.07      0.03       150\n",
      "          67       0.05      0.15      0.07       267\n",
      "          68       0.07      0.61      0.12       470\n",
      "          69       0.09      0.21      0.12       193\n",
      "          70       0.10      0.87      0.18       753\n",
      "          71       0.00      0.00      0.00       265\n",
      "          72       0.00      0.00      0.00       223\n",
      "          73       0.00      0.00      0.00       156\n",
      "          74       0.07      0.24      0.10       238\n",
      "          75       0.06      0.48      0.10       210\n",
      "          76       0.07      0.56      0.12       396\n",
      "          77       0.06      0.37      0.10       261\n",
      "          78       0.00      0.00      0.00       337\n",
      "          79       0.07      0.36      0.11       333\n",
      "          80       0.06      0.40      0.10       283\n",
      "          81       0.04      0.05      0.05       185\n",
      "          82       0.08      0.87      0.15       290\n",
      "          83       0.06      0.49      0.10       342\n",
      "          84       0.05      0.25      0.08       150\n",
      "          85       0.07      0.43      0.12       272\n",
      "          86       0.06      0.16      0.09       197\n",
      "          87       0.07      0.41      0.12       172\n",
      "          88       0.04      0.07      0.05       142\n",
      "          89       0.05      0.27      0.08       282\n",
      "          90       0.00      0.00      0.00       166\n",
      "          91       0.00      0.00      0.00       182\n",
      "          92       0.06      0.24      0.10       162\n",
      "          93       0.00      0.00      0.00       188\n",
      "          94       0.05      0.06      0.05       208\n",
      "          95       0.00      0.00      0.00       313\n",
      "          96       0.07      0.52      0.13       649\n",
      "          97       0.05      0.07      0.06       161\n",
      "          98       0.00      0.00      0.00       144\n",
      "          99       0.05      0.18      0.07       153\n",
      "\n",
      "   micro avg       0.10      0.67      0.17     56448\n",
      "   macro avg       0.06      0.39      0.09     56448\n",
      "weighted avg       0.09      0.67      0.15     56448\n",
      " samples avg       0.10      0.68      0.17     56448\n",
      "\n"
     ]
    },
    {
     "name": "stderr",
     "output_type": "stream",
     "text": [
      "C:\\Users\\Mini\\anaconda3\\lib\\site-packages\\sklearn\\metrics\\_classification.py:1221: UndefinedMetricWarning: Precision and F-score are ill-defined and being set to 0.0 in labels with no predicted samples. Use `zero_division` parameter to control this behavior.\n",
      "  _warn_prf(average, modifier, msg_start, len(result))\n"
     ]
    }
   ],
   "source": [
    "# predict\n",
    "Y_pred_val = predict_tags(X_val, best_threshold)\n",
    "\n",
    "# evaluate\n",
    "print('Nombre de tags présents : {}'.format(sum(sum(Y_val))))\n",
    "print('Nombre de tags prédits : {}'.format(sum(sum(Y_pred_val))))\n",
    "print('---------------------------------------------------------')\n",
    "\n",
    "csv_path = 'results/lda_matrix.csv'\n",
    "clf_name = 'lda matrix'\n",
    "train_score_macro = f1_score(Y_train, Y_pred_train, average='macro')\n",
    "val_score_macro = f1_score(Y_val, Y_pred_val, average='macro')\n",
    "train_score_micro = f1_score(Y_train, Y_pred_train, average='micro')\n",
    "val_score_micro = f1_score(Y_val, Y_pred_val, average='micro')\n",
    "train_score_weighted = f1_score(Y_train, Y_pred_train, average='weighted')\n",
    "val_score_weighted = f1_score(Y_val, Y_pred_val, average='weighted')\n",
    "train_score_samples = f1_score(Y_train, Y_pred_train, average='samples')\n",
    "val_score_samples = f1_score(Y_val, Y_pred_val, average='samples')\n",
    "with open(csv_path, 'w') as file:\n",
    "    file.write('{};{};{};{};{};{};{};{};{}'.format(clf_name,\n",
    "                                                   train_score_macro,\n",
    "                                                   val_score_macro,\n",
    "                                                   train_score_micro,\n",
    "                                                   val_score_micro,\n",
    "                                                   train_score_weighted,\n",
    "                                                   val_score_weighted,\n",
    "                                                   train_score_samples,\n",
    "                                                   val_score_samples))\n",
    "\n",
    "print(classification_report(Y_val, Y_pred_val))"
   ]
  },
  {
   "cell_type": "code",
   "execution_count": null,
   "metadata": {},
   "outputs": [],
   "source": []
  }
 ],
 "metadata": {
  "kernelspec": {
   "display_name": "Python 3",
   "language": "python",
   "name": "python3"
  },
  "language_info": {
   "codemirror_mode": {
    "name": "ipython",
    "version": 3
   },
   "file_extension": ".py",
   "mimetype": "text/x-python",
   "name": "python",
   "nbconvert_exporter": "python",
   "pygments_lexer": "ipython3",
   "version": "3.8.5"
  },
  "toc": {
   "base_numbering": 1,
   "nav_menu": {},
   "number_sections": true,
   "sideBar": false,
   "skip_h1_title": false,
   "title_cell": "Sommaire",
   "title_sidebar": "Contents",
   "toc_cell": true,
   "toc_position": {},
   "toc_section_display": true,
   "toc_window_display": false
  }
 },
 "nbformat": 4,
 "nbformat_minor": 4
}
