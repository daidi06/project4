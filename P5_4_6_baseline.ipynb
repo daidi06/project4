{
 "cells": [
  {
   "cell_type": "markdown",
   "metadata": {
    "toc": true
   },
   "source": [
    "<h1>Sommaire<span class=\"tocSkip\"></span></h1>\n",
    "<div class=\"toc\"><ul class=\"toc-item\"><li><span><a href=\"#Baseline\" data-toc-modified-id=\"Baseline-1\"><span class=\"toc-item-num\">1&nbsp;&nbsp;</span>Baseline</a></span><ul class=\"toc-item\"><li><span><a href=\"#Train-set\" data-toc-modified-id=\"Train-set-1.1\"><span class=\"toc-item-num\">1.1&nbsp;&nbsp;</span>Train set</a></span></li><li><span><a href=\"#Val-set\" data-toc-modified-id=\"Val-set-1.2\"><span class=\"toc-item-num\">1.2&nbsp;&nbsp;</span>Val set</a></span></li><li><span><a href=\"#Random-prediction\" data-toc-modified-id=\"Random-prediction-1.3\"><span class=\"toc-item-num\">1.3&nbsp;&nbsp;</span>Random prediction</a></span></li></ul></li></ul></div>"
   ]
  },
  {
   "cell_type": "code",
   "execution_count": 1,
   "metadata": {},
   "outputs": [],
   "source": [
    "import os\n",
    "import pandas as pd\n",
    "import glob\n",
    "import numpy as np\n",
    "import pickle\n",
    "import gensim\n",
    "import matplotlib.pyplot as plt\n",
    "\n",
    "from sklearn.metrics import classification_report, f1_score"
   ]
  },
  {
   "cell_type": "markdown",
   "metadata": {},
   "source": [
    "# Baseline"
   ]
  },
  {
   "cell_type": "markdown",
   "metadata": {},
   "source": [
    "## Train set\n"
   ]
  },
  {
   "cell_type": "code",
   "execution_count": 2,
   "metadata": {},
   "outputs": [
    {
     "data": {
      "text/plain": [
       "(103225, 100)"
      ]
     },
     "execution_count": 2,
     "metadata": {},
     "output_type": "execute_result"
    }
   ],
   "source": [
    "df_Y_train = pd.read_pickle('train/Y_train_filtre.pkl')\n",
    "df_Y_train = df_Y_train.drop(columns=['Tags'])\n",
    "df_Y_train = df_Y_train.rename(columns={'tags_filtered': 'tag'})\n",
    "\n",
    "# build dictionary\n",
    "dictionary = gensim.corpora.Dictionary(df_Y_train['tag'])\n",
    "\n",
    "# build bow\n",
    "Y_train = [dictionary.doc2bow(text) for text in df_Y_train['tag'].values]\n",
    "\n",
    "# sparse to dense\n",
    "Y_train = gensim.matutils.corpus2dense(\n",
    "    Y_train, len(dictionary), len(Y_train)).T\n",
    "\n",
    "Y_train.shape"
   ]
  },
  {
   "cell_type": "markdown",
   "metadata": {},
   "source": [
    "## Val set "
   ]
  },
  {
   "cell_type": "code",
   "execution_count": 3,
   "metadata": {},
   "outputs": [
    {
     "data": {
      "text/plain": [
       "(34477, 100)"
      ]
     },
     "execution_count": 3,
     "metadata": {},
     "output_type": "execute_result"
    }
   ],
   "source": [
    "df_Y_val = pd.read_pickle('val/Y_val_filtre.pkl')\n",
    "df_Y_val = df_Y_val.drop(columns=['Tags'])\n",
    "df_Y_val = df_Y_val.rename(columns={'tags_filtered': 'tag'})\n",
    "\n",
    "# build bow from train set dictionary\n",
    "Y_val = [dictionary.doc2bow(text) for text in df_Y_val['tag'].values]\n",
    "\n",
    "# sparse to dense\n",
    "Y_val = gensim.matutils.corpus2dense(Y_val, len(dictionary), len(Y_val)).T\n",
    "\n",
    "Y_val.shape"
   ]
  },
  {
   "cell_type": "markdown",
   "metadata": {},
   "source": [
    "## Random prediction"
   ]
  },
  {
   "cell_type": "code",
   "execution_count": 4,
   "metadata": {
    "scrolled": false
   },
   "outputs": [],
   "source": [
    "# baseline\n",
    "\n",
    "size_docs = Y_val.shape[0]\n",
    "size_tags = Y_val.shape[1]\n",
    "count_tags = sum(sum(Y_val))\n",
    "percent_tag = count_tags / (size_docs * size_tags)\n",
    "Y_pred_val = (np.random.rand(size_docs, size_tags) < percent_tag) * 1"
   ]
  },
  {
   "cell_type": "code",
   "execution_count": 5,
   "metadata": {},
   "outputs": [
    {
     "data": {
      "text/plain": [
       "(34477, 100)"
      ]
     },
     "execution_count": 5,
     "metadata": {},
     "output_type": "execute_result"
    }
   ],
   "source": [
    "Y_pred_val.shape"
   ]
  },
  {
   "cell_type": "code",
   "execution_count": 6,
   "metadata": {
    "scrolled": false
   },
   "outputs": [
    {
     "name": "stdout",
     "output_type": "stream",
     "text": [
      "Nombre de tags présents : 56448.0\n",
      "Nombre de tags prédits : 56090\n",
      "---------------------------------------------------------\n",
      "              precision    recall  f1-score   support\n",
      "\n",
      "           0       0.02      0.02      0.02       559\n",
      "           1       0.01      0.02      0.01       216\n",
      "           2       0.03      0.01      0.02      1144\n",
      "           3       0.07      0.02      0.03      2376\n",
      "           4       0.08      0.02      0.04      1858\n",
      "           5       0.01      0.01      0.01       364\n",
      "           6       0.01      0.02      0.01       294\n",
      "           7       0.01      0.01      0.01       802\n",
      "           8       0.05      0.02      0.03      1492\n",
      "           9       0.00      0.01      0.01       191\n",
      "          10       0.01      0.01      0.01       292\n",
      "          11       0.00      0.01      0.01       186\n",
      "          12       0.09      0.02      0.03      3009\n",
      "          13       0.00      0.00      0.00       438\n",
      "          14       0.01      0.02      0.01       324\n",
      "          15       0.05      0.02      0.03      1294\n",
      "          16       0.14      0.02      0.03      5163\n",
      "          17       0.00      0.01      0.00       329\n",
      "          18       0.02      0.03      0.02       303\n",
      "          19       0.01      0.02      0.01       346\n",
      "          20       0.01      0.02      0.01       194\n",
      "          21       0.03      0.01      0.01      1594\n",
      "          22       0.02      0.02      0.02       753\n",
      "          23       0.02      0.02      0.02       603\n",
      "          24       0.03      0.02      0.03       786\n",
      "          25       0.09      0.02      0.03      2619\n",
      "          26       0.01      0.02      0.02       351\n",
      "          27       0.02      0.03      0.02       411\n",
      "          28       0.01      0.01      0.01       440\n",
      "          29       0.00      0.01      0.00       157\n",
      "          30       0.05      0.01      0.02      2156\n",
      "          31       0.02      0.02      0.02       438\n",
      "          32       0.03      0.01      0.02       990\n",
      "          33       0.00      0.01      0.00       331\n",
      "          34       0.01      0.04      0.02       151\n",
      "          35       0.01      0.01      0.01       427\n",
      "          36       0.04      0.01      0.02      1761\n",
      "          37       0.07      0.02      0.03      2253\n",
      "          38       0.00      0.01      0.01       180\n",
      "          39       0.02      0.02      0.02       581\n",
      "          40       0.01      0.02      0.01       173\n",
      "          41       0.00      0.00      0.00       135\n",
      "          42       0.04      0.02      0.03       811\n",
      "          43       0.00      0.00      0.00       208\n",
      "          44       0.01      0.02      0.01       499\n",
      "          45       0.02      0.02      0.02       649\n",
      "          46       0.02      0.02      0.02       526\n",
      "          47       0.01      0.02      0.01       190\n",
      "          48       0.01      0.02      0.01       319\n",
      "          49       0.01      0.02      0.01       196\n",
      "          50       0.01      0.01      0.01       328\n",
      "          51       0.00      0.01      0.00       181\n",
      "          52       0.01      0.01      0.01       328\n",
      "          53       0.01      0.02      0.01       242\n",
      "          54       0.00      0.01      0.01       218\n",
      "          55       0.01      0.01      0.01       205\n",
      "          56       0.01      0.02      0.01       287\n",
      "          57       0.02      0.03      0.02       271\n",
      "          58       0.03      0.02      0.02      1120\n",
      "          59       0.03      0.02      0.03       807\n",
      "          60       0.01      0.02      0.01       197\n",
      "          61       0.00      0.01      0.01       238\n",
      "          62       0.01      0.01      0.01       528\n",
      "          63       0.00      0.01      0.00       146\n",
      "          64       0.00      0.01      0.01       210\n",
      "          65       0.01      0.01      0.01       387\n",
      "          66       0.00      0.01      0.01       150\n",
      "          67       0.01      0.01      0.01       267\n",
      "          68       0.01      0.01      0.01       470\n",
      "          69       0.01      0.02      0.01       193\n",
      "          70       0.02      0.02      0.02       753\n",
      "          71       0.00      0.01      0.00       265\n",
      "          72       0.01      0.02      0.01       223\n",
      "          73       0.01      0.03      0.01       156\n",
      "          74       0.01      0.02      0.01       238\n",
      "          75       0.01      0.01      0.01       210\n",
      "          76       0.00      0.00      0.00       396\n",
      "          77       0.01      0.02      0.01       261\n",
      "          78       0.01      0.02      0.02       337\n",
      "          79       0.01      0.01      0.01       333\n",
      "          80       0.01      0.01      0.01       283\n",
      "          81       0.00      0.01      0.01       185\n",
      "          82       0.01      0.02      0.01       290\n",
      "          83       0.00      0.01      0.00       342\n",
      "          84       0.00      0.01      0.00       150\n",
      "          85       0.01      0.02      0.01       272\n",
      "          86       0.01      0.04      0.02       197\n",
      "          87       0.01      0.02      0.01       172\n",
      "          88       0.01      0.02      0.01       142\n",
      "          89       0.01      0.02      0.01       282\n",
      "          90       0.01      0.02      0.01       166\n",
      "          91       0.00      0.01      0.00       182\n",
      "          92       0.01      0.02      0.01       162\n",
      "          93       0.00      0.01      0.01       188\n",
      "          94       0.01      0.02      0.01       208\n",
      "          95       0.01      0.01      0.01       313\n",
      "          96       0.01      0.00      0.01       649\n",
      "          97       0.01      0.02      0.01       161\n",
      "          98       0.00      0.01      0.01       144\n",
      "          99       0.00      0.01      0.00       153\n",
      "\n",
      "   micro avg       0.02      0.02      0.02     56448\n",
      "   macro avg       0.02      0.02      0.01     56448\n",
      "weighted avg       0.04      0.02      0.02     56448\n",
      " samples avg       0.01      0.02      0.01     56448\n",
      "\n"
     ]
    },
    {
     "name": "stderr",
     "output_type": "stream",
     "text": [
      "C:\\Users\\Mini\\anaconda3\\lib\\site-packages\\sklearn\\metrics\\_classification.py:1221: UndefinedMetricWarning: Precision and F-score are ill-defined and being set to 0.0 in samples with no predicted labels. Use `zero_division` parameter to control this behavior.\n",
      "  _warn_prf(average, modifier, msg_start, len(result))\n"
     ]
    }
   ],
   "source": [
    "# evaluate\n",
    "print('Nombre de tags présents : {}'.format(sum(sum(Y_val))))\n",
    "print('Nombre de tags prédits : {}'.format(sum(sum(Y_pred_val))))\n",
    "print('---------------------------------------------------------')\n",
    "\n",
    "csv_path = 'results/baseline.csv'\n",
    "clf_name = 'baseline'\n",
    "val_score_macro = f1_score(Y_val, Y_pred_val, average='macro')\n",
    "val_score_micro = f1_score(Y_val, Y_pred_val, average='micro')\n",
    "val_score_weighted = f1_score(Y_val, Y_pred_val, average='weighted')\n",
    "val_score_samples = f1_score(Y_val, Y_pred_val, average='samples')\n",
    "with open(csv_path, 'w') as file:\n",
    "    file.write('{};{};{};{};{};{};{};{};{}'.format(clf_name,\n",
    "                                                   val_score_macro,\n",
    "                                                   val_score_macro,\n",
    "                                                   val_score_micro,\n",
    "                                                   val_score_micro,\n",
    "                                                   val_score_weighted,\n",
    "                                                   val_score_weighted,\n",
    "                                                   val_score_samples,\n",
    "                                                   val_score_samples))\n",
    "\n",
    "print(classification_report(Y_val, Y_pred_val))"
   ]
  },
  {
   "cell_type": "code",
   "execution_count": null,
   "metadata": {},
   "outputs": [],
   "source": []
  }
 ],
 "metadata": {
  "kernelspec": {
   "display_name": "Python 3",
   "language": "python",
   "name": "python3"
  },
  "language_info": {
   "codemirror_mode": {
    "name": "ipython",
    "version": 3
   },
   "file_extension": ".py",
   "mimetype": "text/x-python",
   "name": "python",
   "nbconvert_exporter": "python",
   "pygments_lexer": "ipython3",
   "version": "3.8.5"
  },
  "toc": {
   "base_numbering": 1,
   "nav_menu": {},
   "number_sections": true,
   "sideBar": false,
   "skip_h1_title": false,
   "title_cell": "Sommaire",
   "title_sidebar": "Contents",
   "toc_cell": true,
   "toc_position": {},
   "toc_section_display": true,
   "toc_window_display": false
  }
 },
 "nbformat": 4,
 "nbformat_minor": 4
}
